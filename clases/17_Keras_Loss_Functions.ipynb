{
 "cells": [
  {
   "cell_type": "markdown",
   "id": "7486e7f3",
   "metadata": {},
   "source": [
    "# Credit card fraud detection using Deep Neural Networks\n",
    "*****\n",
    "\n",
    "- Based on KERAS example: https://keras.io/examples/structured_data/imbalanced_classification/"
   ]
  },
  {
   "cell_type": "code",
   "execution_count": 1,
   "id": "6a374973",
   "metadata": {},
   "outputs": [],
   "source": [
    "'''\n",
    "Needed libraries\n",
    "'''\n",
    "import csv\n",
    "import numpy as np\n",
    "import pandas as pd\n",
    "from matplotlib import pyplot as plt\n",
    "import seaborn as sns\n",
    "from sklearn.preprocessing import MinMaxScaler \n",
    "from sklearn.model_selection import train_test_split\n",
    "from tensorflow.keras.optimizers import Adam, SGD\n",
    "import tensorflow_addons as tfa\n",
    "from keras.utils.vis_utils import plot_model\n",
    "\n",
    "from sklearn.metrics import classification_report\n",
    "from sklearn.metrics import roc_curve, auc, confusion_matrix, plot_confusion_matrix\n",
    "from sklearn.metrics import precision_score, recall_score, accuracy_score, f1_score\n",
    "from sklearn.metrics import ConfusionMatrixDisplay"
   ]
  },
  {
   "cell_type": "markdown",
   "id": "71f5c08b",
   "metadata": {},
   "source": [
    "# Data\n",
    "*****\n",
    "- Download data from [here](https://www.kaggle.com/mlg-ulb/creditcardfraud).\n",
    "- It contains transactions made by credit cards in September 2013 by European cardholders. \n",
    "- It presents transactions that occurred in two days, where we have 492 frauds out of 284,807 transactions. \n",
    "- The dataset is highly unbalanced, the positive class (frauds) account for 0.172% of all transactions.\n",
    "- It contains only numerical input variables which are the result of a PCA transformation. \n",
    "- Unfortunately, due to confidentiality issues, we cannot provide the original features and more background information about the data. \n",
    "- Features V1, V2, … V28 are the principal components obtained with PCA, the only features which have not been transformed with PCA are 'Time' and 'Amount'. \n",
    "- Feature 'Time' contains the seconds elapsed between each transaction and the first transaction in the dataset. - - The feature 'Amount' is the transaction Amount, this feature can be used for example-dependant cost-sensitive learning. \n",
    "- Feature 'Class' is the response variable and it takes value 1 in case of fraud and 0 otherwise."
   ]
  },
  {
   "cell_type": "code",
   "execution_count": 2,
   "id": "77ae2e11",
   "metadata": {},
   "outputs": [
    {
     "data": {
      "text/html": [
       "<div>\n",
       "<style scoped>\n",
       "    .dataframe tbody tr th:only-of-type {\n",
       "        vertical-align: middle;\n",
       "    }\n",
       "\n",
       "    .dataframe tbody tr th {\n",
       "        vertical-align: top;\n",
       "    }\n",
       "\n",
       "    .dataframe thead th {\n",
       "        text-align: right;\n",
       "    }\n",
       "</style>\n",
       "<table border=\"1\" class=\"dataframe\">\n",
       "  <thead>\n",
       "    <tr style=\"text-align: right;\">\n",
       "      <th></th>\n",
       "      <th>Time</th>\n",
       "      <th>V1</th>\n",
       "      <th>V2</th>\n",
       "      <th>V3</th>\n",
       "      <th>V4</th>\n",
       "      <th>V5</th>\n",
       "      <th>V6</th>\n",
       "      <th>V7</th>\n",
       "      <th>V8</th>\n",
       "      <th>V9</th>\n",
       "      <th>...</th>\n",
       "      <th>V21</th>\n",
       "      <th>V22</th>\n",
       "      <th>V23</th>\n",
       "      <th>V24</th>\n",
       "      <th>V25</th>\n",
       "      <th>V26</th>\n",
       "      <th>V27</th>\n",
       "      <th>V28</th>\n",
       "      <th>Amount</th>\n",
       "      <th>Class</th>\n",
       "    </tr>\n",
       "  </thead>\n",
       "  <tbody>\n",
       "    <tr>\n",
       "      <th>0</th>\n",
       "      <td>0.0</td>\n",
       "      <td>-1.359807</td>\n",
       "      <td>-0.072781</td>\n",
       "      <td>2.536347</td>\n",
       "      <td>1.378155</td>\n",
       "      <td>-0.338321</td>\n",
       "      <td>0.462388</td>\n",
       "      <td>0.239599</td>\n",
       "      <td>0.098698</td>\n",
       "      <td>0.363787</td>\n",
       "      <td>...</td>\n",
       "      <td>-0.018307</td>\n",
       "      <td>0.277838</td>\n",
       "      <td>-0.110474</td>\n",
       "      <td>0.066928</td>\n",
       "      <td>0.128539</td>\n",
       "      <td>-0.189115</td>\n",
       "      <td>0.133558</td>\n",
       "      <td>-0.021053</td>\n",
       "      <td>149.62</td>\n",
       "      <td>0</td>\n",
       "    </tr>\n",
       "    <tr>\n",
       "      <th>1</th>\n",
       "      <td>0.0</td>\n",
       "      <td>1.191857</td>\n",
       "      <td>0.266151</td>\n",
       "      <td>0.166480</td>\n",
       "      <td>0.448154</td>\n",
       "      <td>0.060018</td>\n",
       "      <td>-0.082361</td>\n",
       "      <td>-0.078803</td>\n",
       "      <td>0.085102</td>\n",
       "      <td>-0.255425</td>\n",
       "      <td>...</td>\n",
       "      <td>-0.225775</td>\n",
       "      <td>-0.638672</td>\n",
       "      <td>0.101288</td>\n",
       "      <td>-0.339846</td>\n",
       "      <td>0.167170</td>\n",
       "      <td>0.125895</td>\n",
       "      <td>-0.008983</td>\n",
       "      <td>0.014724</td>\n",
       "      <td>2.69</td>\n",
       "      <td>0</td>\n",
       "    </tr>\n",
       "    <tr>\n",
       "      <th>2</th>\n",
       "      <td>1.0</td>\n",
       "      <td>-1.358354</td>\n",
       "      <td>-1.340163</td>\n",
       "      <td>1.773209</td>\n",
       "      <td>0.379780</td>\n",
       "      <td>-0.503198</td>\n",
       "      <td>1.800499</td>\n",
       "      <td>0.791461</td>\n",
       "      <td>0.247676</td>\n",
       "      <td>-1.514654</td>\n",
       "      <td>...</td>\n",
       "      <td>0.247998</td>\n",
       "      <td>0.771679</td>\n",
       "      <td>0.909412</td>\n",
       "      <td>-0.689281</td>\n",
       "      <td>-0.327642</td>\n",
       "      <td>-0.139097</td>\n",
       "      <td>-0.055353</td>\n",
       "      <td>-0.059752</td>\n",
       "      <td>378.66</td>\n",
       "      <td>0</td>\n",
       "    </tr>\n",
       "    <tr>\n",
       "      <th>3</th>\n",
       "      <td>1.0</td>\n",
       "      <td>-0.966272</td>\n",
       "      <td>-0.185226</td>\n",
       "      <td>1.792993</td>\n",
       "      <td>-0.863291</td>\n",
       "      <td>-0.010309</td>\n",
       "      <td>1.247203</td>\n",
       "      <td>0.237609</td>\n",
       "      <td>0.377436</td>\n",
       "      <td>-1.387024</td>\n",
       "      <td>...</td>\n",
       "      <td>-0.108300</td>\n",
       "      <td>0.005274</td>\n",
       "      <td>-0.190321</td>\n",
       "      <td>-1.175575</td>\n",
       "      <td>0.647376</td>\n",
       "      <td>-0.221929</td>\n",
       "      <td>0.062723</td>\n",
       "      <td>0.061458</td>\n",
       "      <td>123.50</td>\n",
       "      <td>0</td>\n",
       "    </tr>\n",
       "    <tr>\n",
       "      <th>4</th>\n",
       "      <td>2.0</td>\n",
       "      <td>-1.158233</td>\n",
       "      <td>0.877737</td>\n",
       "      <td>1.548718</td>\n",
       "      <td>0.403034</td>\n",
       "      <td>-0.407193</td>\n",
       "      <td>0.095921</td>\n",
       "      <td>0.592941</td>\n",
       "      <td>-0.270533</td>\n",
       "      <td>0.817739</td>\n",
       "      <td>...</td>\n",
       "      <td>-0.009431</td>\n",
       "      <td>0.798278</td>\n",
       "      <td>-0.137458</td>\n",
       "      <td>0.141267</td>\n",
       "      <td>-0.206010</td>\n",
       "      <td>0.502292</td>\n",
       "      <td>0.219422</td>\n",
       "      <td>0.215153</td>\n",
       "      <td>69.99</td>\n",
       "      <td>0</td>\n",
       "    </tr>\n",
       "  </tbody>\n",
       "</table>\n",
       "<p>5 rows × 31 columns</p>\n",
       "</div>"
      ],
      "text/plain": [
       "   Time        V1        V2        V3        V4        V5        V6        V7  \\\n",
       "0   0.0 -1.359807 -0.072781  2.536347  1.378155 -0.338321  0.462388  0.239599   \n",
       "1   0.0  1.191857  0.266151  0.166480  0.448154  0.060018 -0.082361 -0.078803   \n",
       "2   1.0 -1.358354 -1.340163  1.773209  0.379780 -0.503198  1.800499  0.791461   \n",
       "3   1.0 -0.966272 -0.185226  1.792993 -0.863291 -0.010309  1.247203  0.237609   \n",
       "4   2.0 -1.158233  0.877737  1.548718  0.403034 -0.407193  0.095921  0.592941   \n",
       "\n",
       "         V8        V9  ...       V21       V22       V23       V24       V25  \\\n",
       "0  0.098698  0.363787  ... -0.018307  0.277838 -0.110474  0.066928  0.128539   \n",
       "1  0.085102 -0.255425  ... -0.225775 -0.638672  0.101288 -0.339846  0.167170   \n",
       "2  0.247676 -1.514654  ...  0.247998  0.771679  0.909412 -0.689281 -0.327642   \n",
       "3  0.377436 -1.387024  ... -0.108300  0.005274 -0.190321 -1.175575  0.647376   \n",
       "4 -0.270533  0.817739  ... -0.009431  0.798278 -0.137458  0.141267 -0.206010   \n",
       "\n",
       "        V26       V27       V28  Amount  Class  \n",
       "0 -0.189115  0.133558 -0.021053  149.62      0  \n",
       "1  0.125895 -0.008983  0.014724    2.69      0  \n",
       "2 -0.139097 -0.055353 -0.059752  378.66      0  \n",
       "3 -0.221929  0.062723  0.061458  123.50      0  \n",
       "4  0.502292  0.219422  0.215153   69.99      0  \n",
       "\n",
       "[5 rows x 31 columns]"
      ]
     },
     "execution_count": 2,
     "metadata": {},
     "output_type": "execute_result"
    }
   ],
   "source": [
    "path = \"/Users/rpezoa/Library/Mobile Documents/com~apple~CloudDocs/Research/imbalanced-class/data/\"\n",
    "df = pd.read_csv(path + \"creditcard.csv\")\n",
    "df.head()"
   ]
  },
  {
   "cell_type": "code",
   "execution_count": 3,
   "id": "6809121a",
   "metadata": {},
   "outputs": [
    {
     "name": "stdout",
     "output_type": "stream",
     "text": [
      "0    284315\n",
      "1       492\n",
      "Name: Class, dtype: int64\n"
     ]
    }
   ],
   "source": [
    "values = df[\"Class\"].value_counts()\n",
    "print(values)"
   ]
  },
  {
   "cell_type": "markdown",
   "id": "429341df",
   "metadata": {},
   "source": [
    "## Training, testing"
   ]
  },
  {
   "cell_type": "code",
   "execution_count": 4,
   "id": "c203f30f",
   "metadata": {},
   "outputs": [],
   "source": [
    "y = df[\"Class\"]\n",
    "y = y.astype(int)\n",
    "X = df.iloc[:,1:-1]"
   ]
  },
  {
   "cell_type": "code",
   "execution_count": 5,
   "id": "e17becc7",
   "metadata": {},
   "outputs": [
    {
     "name": "stdout",
     "output_type": "stream",
     "text": [
      "(284807, 29) (284807,)\n"
     ]
    }
   ],
   "source": [
    "print(X.shape, y.shape)"
   ]
  },
  {
   "cell_type": "code",
   "execution_count": 6,
   "id": "026ad80c",
   "metadata": {},
   "outputs": [],
   "source": [
    "X_train, X_test, y_train, y_test = train_test_split(X,y, \n",
    "                                test_size=0.3, random_state=42)\n",
    "X_train, X_val, y_train, y_val = train_test_split(X_train,y_train, \n",
    "                                                  test_size=0.2, random_state=0)\n",
    "n_classes = 2\n"
   ]
  },
  {
   "cell_type": "code",
   "execution_count": 7,
   "id": "e4edd7fc",
   "metadata": {},
   "outputs": [
    {
     "name": "stdout",
     "output_type": "stream",
     "text": [
      "Number of positive samples in training data: 281 (0.18% of total)\n",
      "Weight class 0:  6.281012499214874e-06 6\n",
      "Weight class 1:  0.0035587188612099642\n"
     ]
    }
   ],
   "source": [
    "counts = np.bincount(y_train.values)\n",
    "print(\n",
    "    \"Number of positive samples in training data: {} ({:.2f}% of total)\".format(\n",
    "        counts[1], 100 * float(counts[1]) / len(y_train)\n",
    "    )\n",
    ")\n",
    "\n",
    "weight_for_0 = 1.0 / counts[0]\n",
    "weight_for_1 = 1.0 / counts[1]\n",
    "\n",
    "print(\"Weight class 0: \", weight_for_0,6)\n",
    "print(\"Weight class 1: \", weight_for_1)"
   ]
  },
  {
   "cell_type": "markdown",
   "id": "bc57fb0e",
   "metadata": {},
   "source": [
    "# Binary crossentropy"
   ]
  },
  {
   "cell_type": "code",
   "execution_count": 8,
   "id": "d0d575cd",
   "metadata": {},
   "outputs": [
    {
     "name": "stdout",
     "output_type": "stream",
     "text": [
      "Epoch 1/5\n",
      "4985/4985 [==============================] - 12s 2ms/step - loss: 0.0661 - accuracy: 0.9982 - precision: 0.3339 - recall: 0.0372 - val_loss: 0.0430 - val_accuracy: 0.9981 - val_precision: 0.0000e+00 - val_recall: 0.0000e+00\n",
      "Epoch 2/5\n",
      "4985/4985 [==============================] - 14s 3ms/step - loss: 0.0309 - accuracy: 0.9981 - precision: 0.5228 - recall: 0.0134 - val_loss: 0.0136 - val_accuracy: 0.9982 - val_precision: 1.0000 - val_recall: 0.0533\n",
      "Epoch 3/5\n",
      "4985/4985 [==============================] - 10s 2ms/step - loss: 0.0135 - accuracy: 0.9985 - precision: 0.8778 - recall: 0.2011 - val_loss: 0.0180 - val_accuracy: 0.9984 - val_precision: 0.8333 - val_recall: 0.2000\n",
      "Epoch 4/5\n",
      "4985/4985 [==============================] - 10s 2ms/step - loss: 0.0154 - accuracy: 0.9986 - precision: 0.8512 - recall: 0.2789 - val_loss: 0.0081 - val_accuracy: 0.9986 - val_precision: 0.8889 - val_recall: 0.3200\n",
      "Epoch 5/5\n",
      "4985/4985 [==============================] - 11s 2ms/step - loss: 0.0066 - accuracy: 0.9989 - precision: 0.8731 - recall: 0.3915 - val_loss: 0.0066 - val_accuracy: 0.9989 - val_precision: 0.8974 - val_recall: 0.4667\n"
     ]
    }
   ],
   "source": [
    "from keras.layers import Dense, Dropout\n",
    "from keras.models import Sequential\n",
    "import tensorflow  as tf\n",
    "\n",
    "\n",
    "\n",
    "model = Sequential()\n",
    "model.add(Dense(300, input_shape=(X_train.shape[1],), activation='relu'))\n",
    "model.add(Dense(150, activation = \"relu\"))\n",
    "model.add(Dense(100, activation = \"relu\"))\n",
    "model.add(Dense(50, activation = \"relu\"))\n",
    "model.add(Dense(1, activation='sigmoid'))\n",
    "\n",
    "metrics_m = [\n",
    "    tf.keras.metrics.FalseNegatives(name=\"fn\"),\n",
    "    tf.keras.metrics.FalsePositives(name=\"fp\"),\n",
    "    tf.keras.metrics.TrueNegatives(name=\"tn\"),\n",
    "    tf.keras.metrics.TruePositives(name=\"tp\"),\n",
    "    tf.keras.metrics.Precision(name=\"precision\"),\n",
    "    tf.keras.metrics.Recall(name=\"recall\"),\n",
    "]\n",
    "\n",
    "model.compile(optimizer=SGD(),\n",
    "               loss='binary_crossentropy',\n",
    "               metrics=['accuracy',tf.keras.metrics.Precision(),tf.keras.metrics.Recall()])\n",
    "\n",
    "history = model.fit(X_train, y_train, epochs=5, \n",
    "                    verbose=1,\n",
    "                    validation_data = (X_val, y_val))\n"
   ]
  },
  {
   "cell_type": "code",
   "execution_count": null,
   "id": "7659669e",
   "metadata": {},
   "outputs": [],
   "source": [
    "\n",
    "\n"
   ]
  },
  {
   "cell_type": "code",
   "execution_count": 9,
   "id": "2cbab1bf",
   "metadata": {},
   "outputs": [],
   "source": [
    "def show_history(history):\n",
    "    train_loss = history.history['loss']\n",
    "    val_loss = history.history['val_loss']\n",
    "    plt.figure()\n",
    "    plt.plot(train_loss,'r', label=\"train\")\n",
    "    plt.plot(val_loss,'g', label=\"validation\")\n",
    "    plt.legend()\n",
    "    plt.xlabel(\"epochs\")\n",
    "    plt.ylabel(\"loss\")\n",
    "    plt.show()\n",
    "    \n",
    "    \n",
    "def show_metrics(y_pred,th):\n",
    "    cm = confusion_matrix(y_test, y_pred>th)\n",
    "    print(cm)\n",
    "    disp = ConfusionMatrixDisplay(confusion_matrix=cm, display_labels=[\"Non-Fraud\", \"Fraud\"])\n",
    "    disp.plot(cmap=plt.cm.Blues)\n",
    "    plt.show()\n",
    "    d = classification_report(y_test, y_pred > th,output_dict=True)\n",
    "    display(pd.DataFrame.from_dict(d))\n",
    "    return y_pred"
   ]
  },
  {
   "cell_type": "code",
   "execution_count": 10,
   "id": "c770a254",
   "metadata": {},
   "outputs": [
    {
     "data": {
      "image/png": "[encoded data removed]",
      "text/plain": [
       "<Figure size 432x288 with 1 Axes>"
      ]
     },
     "metadata": {
      "needs_background": "light"
     },
     "output_type": "display_data"
    }
   ],
   "source": [
    "show_history(history)"
   ]
  },
  {
   "cell_type": "code",
   "execution_count": 11,
   "id": "2b7478bb",
   "metadata": {},
   "outputs": [
    {
     "name": "stdout",
     "output_type": "stream",
     "text": [
      "[[85300     7]\n",
      " [   74    62]]\n"
     ]
    },
    {
     "data": {
      "image/png": "[encoded data removed]",
      "text/plain": [
       "<Figure size 432x288 with 2 Axes>"
      ]
     },
     "metadata": {
      "needs_background": "light"
     },
     "output_type": "display_data"
    },
    {
     "data": {
      "text/html": [
       "<div>\n",
       "<style scoped>\n",
       "    .dataframe tbody tr th:only-of-type {\n",
       "        vertical-align: middle;\n",
       "    }\n",
       "\n",
       "    .dataframe tbody tr th {\n",
       "        vertical-align: top;\n",
       "    }\n",
       "\n",
       "    .dataframe thead th {\n",
       "        text-align: right;\n",
       "    }\n",
       "</style>\n",
       "<table border=\"1\" class=\"dataframe\">\n",
       "  <thead>\n",
       "    <tr style=\"text-align: right;\">\n",
       "      <th></th>\n",
       "      <th>0</th>\n",
       "      <th>1</th>\n",
       "      <th>accuracy</th>\n",
       "      <th>macro avg</th>\n",
       "      <th>weighted avg</th>\n",
       "    </tr>\n",
       "  </thead>\n",
       "  <tbody>\n",
       "    <tr>\n",
       "      <th>precision</th>\n",
       "      <td>0.999133</td>\n",
       "      <td>0.898551</td>\n",
       "      <td>0.999052</td>\n",
       "      <td>0.948842</td>\n",
       "      <td>0.998973</td>\n",
       "    </tr>\n",
       "    <tr>\n",
       "      <th>recall</th>\n",
       "      <td>0.999918</td>\n",
       "      <td>0.455882</td>\n",
       "      <td>0.999052</td>\n",
       "      <td>0.727900</td>\n",
       "      <td>0.999052</td>\n",
       "    </tr>\n",
       "    <tr>\n",
       "      <th>f1-score</th>\n",
       "      <td>0.999525</td>\n",
       "      <td>0.604878</td>\n",
       "      <td>0.999052</td>\n",
       "      <td>0.802202</td>\n",
       "      <td>0.998897</td>\n",
       "    </tr>\n",
       "    <tr>\n",
       "      <th>support</th>\n",
       "      <td>85307.000000</td>\n",
       "      <td>136.000000</td>\n",
       "      <td>0.999052</td>\n",
       "      <td>85443.000000</td>\n",
       "      <td>85443.000000</td>\n",
       "    </tr>\n",
       "  </tbody>\n",
       "</table>\n",
       "</div>"
      ],
      "text/plain": [
       "                      0           1  accuracy     macro avg  weighted avg\n",
       "precision      0.999133    0.898551  0.999052      0.948842      0.998973\n",
       "recall         0.999918    0.455882  0.999052      0.727900      0.999052\n",
       "f1-score       0.999525    0.604878  0.999052      0.802202      0.998897\n",
       "support    85307.000000  136.000000  0.999052  85443.000000  85443.000000"
      ]
     },
     "metadata": {},
     "output_type": "display_data"
    },
    {
     "data": {
      "text/plain": [
       "array([[7.7790171e-02],\n",
       "       [4.0024519e-04],\n",
       "       [3.4084916e-04],\n",
       "       ...,\n",
       "       [9.3102455e-04],\n",
       "       [1.2087329e-05],\n",
       "       [2.0986795e-04]], dtype=float32)"
      ]
     },
     "execution_count": 11,
     "metadata": {},
     "output_type": "execute_result"
    }
   ],
   "source": [
    "y_pred = model.predict(X_test)\n",
    "show_metrics(y_pred,.5)"
   ]
  },
  {
   "cell_type": "code",
   "execution_count": 12,
   "id": "6433fce6",
   "metadata": {},
   "outputs": [
    {
     "data": {
      "text/plain": [
       "array([[7.7790171e-02],\n",
       "       [4.0024519e-04],\n",
       "       [3.4084916e-04],\n",
       "       ...,\n",
       "       [9.3102455e-04],\n",
       "       [1.2087329e-05],\n",
       "       [2.0986795e-04]], dtype=float32)"
      ]
     },
     "execution_count": 12,
     "metadata": {},
     "output_type": "execute_result"
    }
   ],
   "source": [
    "y_pred"
   ]
  },
  {
   "cell_type": "markdown",
   "id": "56a8f880",
   "metadata": {},
   "source": [
    "## Custom Loss function: Focal loss"
   ]
  },
  {
   "cell_type": "code",
   "execution_count": 13,
   "id": "b76dc1cd",
   "metadata": {},
   "outputs": [],
   "source": [
    "from tensorflow import  constant, clip_by_value, math\n",
    "from tensorflow.keras.backend import mean, epsilon, cast,  pow\n",
    "from tensorflow import nn\n",
    "import tensorflow as tf\n",
    "import tensorflow_addons as tfa\n",
    "\n",
    "def get_focal_loss(y_true, y_pred, alpha, gamma):\n",
    "    # Cast y_true from into to float\n",
    "    y_true = cast(y_true, 'float32')\n",
    "    epsilon_ = constant(epsilon(), y_pred.dtype.base_dtype)\n",
    "    y_pred = clip_by_value(y_pred, epsilon_, 1. - epsilon_)\n",
    "\n",
    "    fl = -alpha* y_true * math.log(y_pred + epsilon()) * (1 - y_pred)**gamma\n",
    "    fl += -(1-alpha)*(1 - y_true) * math.log(1 - y_pred + epsilon()) * (y_pred)**gamma\n",
    "    return tf.reduce_mean(fl, axis=-1)\n",
    "\n",
    "\n",
    "def focal_loss(alpha, gamma, version=1):\n",
    "    return lambda y_true, y_pred : get_focal_loss(y_true, y_pred, alpha, gamma)\n"
   ]
  },
  {
   "cell_type": "code",
   "execution_count": 14,
   "id": "50cd2981",
   "metadata": {},
   "outputs": [
    {
     "name": "stdout",
     "output_type": "stream",
     "text": [
      "Epoch 1/5\n",
      "4985/4985 [==============================] - 12s 2ms/step - loss: 0.0087 - accuracy: 0.9970 - precision_1: 0.0302 - recall_1: 0.0231 - val_loss: 0.0039 - val_accuracy: 0.9982 - val_precision_1: 1.0000 - val_recall_1: 0.0267\n",
      "Epoch 2/5\n",
      "4985/4985 [==============================] - 10s 2ms/step - loss: 0.0040 - accuracy: 0.9982 - precision_1: 0.8959 - recall_1: 0.0706 - val_loss: 0.0036 - val_accuracy: 0.9985 - val_precision_1: 0.8947 - val_recall_1: 0.2267\n",
      "Epoch 3/5\n",
      "4985/4985 [==============================] - 10s 2ms/step - loss: 0.0038 - accuracy: 0.9986 - precision_1: 0.8696 - recall_1: 0.2299 - val_loss: 0.0030 - val_accuracy: 0.9987 - val_precision_1: 0.8750 - val_recall_1: 0.3733\n",
      "Epoch 4/5\n",
      "4985/4985 [==============================] - 10s 2ms/step - loss: 0.0025 - accuracy: 0.9989 - precision_1: 0.8535 - recall_1: 0.4175 - val_loss: 0.0019 - val_accuracy: 0.9988 - val_precision_1: 0.8293 - val_recall_1: 0.4533\n",
      "Epoch 5/5\n",
      "4985/4985 [==============================] - 11s 2ms/step - loss: 0.0020 - accuracy: 0.9988 - precision_1: 0.7845 - recall_1: 0.4110 - val_loss: 0.0023 - val_accuracy: 0.9984 - val_precision_1: 0.8824 - val_recall_1: 0.2000\n"
     ]
    }
   ],
   "source": [
    "from keras.layers import Dense, Dropout\n",
    "from keras.models import Sequential\n",
    "import tensorflow  as tf\n",
    "\n",
    "model = Sequential()\n",
    "model.add(Dense(300, input_shape=(X_train.shape[1],), activation='relu'))\n",
    "model.add(Dense(150, activation = \"relu\"))\n",
    "model.add(Dense(100, activation = \"relu\"))\n",
    "model.add(Dense(50, activation = \"relu\"))\n",
    "model.add(Dense(1, activation='sigmoid'))\n",
    "\n",
    "metrics_m = [\n",
    "    tf.keras.metrics.FalseNegatives(name=\"fn\"),\n",
    "    tf.keras.metrics.FalsePositives(name=\"fp\"),\n",
    "    tf.keras.metrics.TrueNegatives(name=\"tn\"),\n",
    "    tf.keras.metrics.TruePositives(name=\"tp\"),\n",
    "    tf.keras.metrics.Precision(name=\"precision\"),\n",
    "    tf.keras.metrics.Recall(name=\"recall\"),\n",
    "]\n",
    "\n",
    "model.compile(optimizer=SGD(),\n",
    "               loss=focal_loss(0.25,2),\n",
    "               metrics=['accuracy',tf.keras.metrics.Precision(),tf.keras.metrics.Recall()])\n",
    "\n",
    "history = model.fit(X_train, y_train, epochs=5, \n",
    "                    verbose=1,\n",
    "                    validation_data = (X_val, y_val))"
   ]
  },
  {
   "cell_type": "code",
   "execution_count": 15,
   "id": "afc67468",
   "metadata": {},
   "outputs": [
    {
     "name": "stdout",
     "output_type": "stream",
     "text": [
      "[[85305     2]\n",
      " [  107    29]]\n"
     ]
    },
    {
     "data": {
      "image/png": "[encoded data removed]",
      "text/plain": [
       "<Figure size 432x288 with 2 Axes>"
      ]
     },
     "metadata": {
      "needs_background": "light"
     },
     "output_type": "display_data"
    },
    {
     "data": {
      "text/html": [
       "<div>\n",
       "<style scoped>\n",
       "    .dataframe tbody tr th:only-of-type {\n",
       "        vertical-align: middle;\n",
       "    }\n",
       "\n",
       "    .dataframe tbody tr th {\n",
       "        vertical-align: top;\n",
       "    }\n",
       "\n",
       "    .dataframe thead th {\n",
       "        text-align: right;\n",
       "    }\n",
       "</style>\n",
       "<table border=\"1\" class=\"dataframe\">\n",
       "  <thead>\n",
       "    <tr style=\"text-align: right;\">\n",
       "      <th></th>\n",
       "      <th>0</th>\n",
       "      <th>1</th>\n",
       "      <th>accuracy</th>\n",
       "      <th>macro avg</th>\n",
       "      <th>weighted avg</th>\n",
       "    </tr>\n",
       "  </thead>\n",
       "  <tbody>\n",
       "    <tr>\n",
       "      <th>precision</th>\n",
       "      <td>0.998747</td>\n",
       "      <td>0.935484</td>\n",
       "      <td>0.998724</td>\n",
       "      <td>0.967116</td>\n",
       "      <td>0.998647</td>\n",
       "    </tr>\n",
       "    <tr>\n",
       "      <th>recall</th>\n",
       "      <td>0.999977</td>\n",
       "      <td>0.213235</td>\n",
       "      <td>0.998724</td>\n",
       "      <td>0.606606</td>\n",
       "      <td>0.998724</td>\n",
       "    </tr>\n",
       "    <tr>\n",
       "      <th>f1-score</th>\n",
       "      <td>0.999362</td>\n",
       "      <td>0.347305</td>\n",
       "      <td>0.998724</td>\n",
       "      <td>0.673333</td>\n",
       "      <td>0.998324</td>\n",
       "    </tr>\n",
       "    <tr>\n",
       "      <th>support</th>\n",
       "      <td>85307.000000</td>\n",
       "      <td>136.000000</td>\n",
       "      <td>0.998724</td>\n",
       "      <td>85443.000000</td>\n",
       "      <td>85443.000000</td>\n",
       "    </tr>\n",
       "  </tbody>\n",
       "</table>\n",
       "</div>"
      ],
      "text/plain": [
       "                      0           1  accuracy     macro avg  weighted avg\n",
       "precision      0.998747    0.935484  0.998724      0.967116      0.998647\n",
       "recall         0.999977    0.213235  0.998724      0.606606      0.998724\n",
       "f1-score       0.999362    0.347305  0.998724      0.673333      0.998324\n",
       "support    85307.000000  136.000000  0.998724  85443.000000  85443.000000"
      ]
     },
     "metadata": {},
     "output_type": "display_data"
    },
    {
     "data": {
      "text/plain": [
       "array([[4.2781122e-12],\n",
       "       [5.4757823e-25],\n",
       "       [1.3321340e-02],\n",
       "       ...,\n",
       "       [2.8866026e-10],\n",
       "       [7.5231254e-02],\n",
       "       [5.5999011e-02]], dtype=float32)"
      ]
     },
     "execution_count": 15,
     "metadata": {},
     "output_type": "execute_result"
    }
   ],
   "source": [
    "y_pred = model.predict(X_test)\n",
    "show_metrics(y_pred,.5)"
   ]
  },
  {
   "cell_type": "code",
   "execution_count": 16,
   "id": "979ab176",
   "metadata": {},
   "outputs": [
    {
     "data": {
      "text/plain": [
       "array([[4.2781122e-12],\n",
       "       [5.4757823e-25],\n",
       "       [1.3321340e-02],\n",
       "       ...,\n",
       "       [2.8866026e-10],\n",
       "       [7.5231254e-02],\n",
       "       [5.5999011e-02]], dtype=float32)"
      ]
     },
     "execution_count": 16,
     "metadata": {},
     "output_type": "execute_result"
    }
   ],
   "source": [
    "y_pred"
   ]
  },
  {
   "cell_type": "code",
   "execution_count": 17,
   "id": "6d51c7a2",
   "metadata": {},
   "outputs": [
    {
     "data": {
      "image/png": "[encoded data removed]",
      "text/plain": [
       "<Figure size 432x288 with 1 Axes>"
      ]
     },
     "metadata": {
      "needs_background": "light"
     },
     "output_type": "display_data"
    }
   ],
   "source": [
    "show_history(history)"
   ]
  },
  {
   "cell_type": "code",
   "execution_count": null,
   "id": "7b5232e8",
   "metadata": {},
   "outputs": [],
   "source": []
  }
 ],
 "metadata": {
  "kernelspec": {
   "display_name": "Python 3",
   "language": "python",
   "name": "python3"
  },
  "language_info": {
   "codemirror_mode": {
    "name": "ipython",
    "version": 3
   },
   "file_extension": ".py",
   "mimetype": "text/x-python",
   "name": "python",
   "nbconvert_exporter": "python",
   "pygments_lexer": "ipython3",
   "version": "3.8.10"
  }
 },
 "nbformat": 4,
 "nbformat_minor": 5
}
