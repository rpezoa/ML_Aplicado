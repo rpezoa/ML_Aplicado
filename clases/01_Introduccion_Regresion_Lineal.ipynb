{
 "cells": [
  {
   "cell_type": "markdown",
   "id": "26e8677a",
   "metadata": {},
   "source": [
    "# 01 Ejemplo de Error de Generalización en Regresión Lineal\n",
    "***"
   ]
  },
  {
   "cell_type": "markdown",
   "id": "d748d95b",
   "metadata": {},
   "source": [
    "## Introducción\n",
    "\n",
    "El método de **regresión lineal** es un enfoque de aprendizaje automático, útil para predecir un número a partir de un vector de entrada (problema de regresión).\n",
    "\n",
    "Se busca la mejor \"relación lineal\" entre la variable dependiente y la variable independiente. En otras palabras, \n",
    "\n",
    "+ Se busca construir un modelo que toma un vector ${\\bf x} \\in \\mathbb{R}^{n}$ como entrada y predice un valor  $y \\in \\mathbb{R}$ como salida.\n",
    "\n",
    "+ Sea $\\hat{y}$ el valor que el modelo predice, se define la salida como:\n",
    "\n",
    "$$\\hat{y} = {\\bf w}^{\\intercal} {\\bf x}$$ donde ${\\bf w} \\in \\mathbb{R}^n$  es el vector de parámetros.\n",
    "\n",
    "${\\bf w} = [w_1, w_2, \\ldots, w_n]$, y $w_i, (i=1, \\ldots, n)$ es el coeficiente que multiplica multiplica cada elemento $x_i$. \n",
    "\n",
    "${\\bf w}$ representa un conjunto de **pesos** que determina como afecta cada $x_i$ en la predicción. \n",
    "\n",
    "\n",
    "+ si $x_i$ recibe un peso $w_i$ positivo $\\rightarrow$ aumentar el valor de esa variable también aumenta el valor de la predicción $\\hat{y}$\n",
    "+ si $x_i$ recibe un peso $w_i$ negativo $\\rightarrow$ aumentar el valor de esa variable disminuye el valor de la predicción $\\hat{y}$\n",
    "+ $w_i = 0 \\rightarrow$ sin efecto en la predicción\n",
    "\n"
   ]
  },
  {
   "cell_type": "markdown",
   "id": "3a8a7099",
   "metadata": {},
   "source": [
    "## Tarea $T$, desempeño $P$, Error de Generalización\n",
    "Basado en [1]\n",
    "***\n",
    "\n",
    "La tarea $T$ corresponde a $\\rightarrow$ predecir $y$ a partir del vector $\\bf{x}$ generando la salida $\\hat{y} =\\bf{w}^{\\intercal} \\bf{x}$.\n",
    "\n",
    "Necesitamos una medida de desempeño $P$, que nos permita medir el ***error de generalización***.\n",
    "\n",
    "+ Supongamos que se tiene una matrix de $m$ datos usada para evaluar el desempeño del modelo $\\rightarrow \\bf{X}^{(test)}$ \n",
    "\n",
    "+ También se tiene un vector con las etiquetas, es decir, valores correctos asociados a cada dato $\\rightarrow \\bf{y}^{(test)}$\n",
    "\n",
    "+ Una forma de medir el desempeño del modelo is calcular el ***mean square error (MSE)*** (error cuadrático medio) del modelo en el conjunto de testing.\n",
    "\n",
    "+ Si $\\bf{y}^{(test)}$ es el vector  de las predicciones que entrega el modelo en el conjunto de testing, el MSE está dado por:\n",
    "\n",
    "$$\\text{MSE}_{test} = \\frac{1}{m}\\sum_{i} \\left (\\bf{\\hat{y}}^{(test)} -  \\bf{y}^{(test)} \\right)_i^{2}$$\n",
    "\n",
    "+ El MSE decreserá a 0 cuando $\\bf{\\hat{y}}^{(test)} =  \\bf{y}^{(test)}$\n",
    "\n",
    "+ Notar que:\n",
    "\n",
    "$$\\text{MSE}_{test} = \\frac{1}{m}\\sum_{i} || \\bf{\\hat{y}}^{(test)} -  \\bf{y}^{(test)} ||_2^{2}$$\n",
    "\n",
    "lo que permite interpretar que cuando la ***distancia Euclideana*** (norma $L^2$) aumenta, el MSE también aumenta."
   ]
  },
  {
   "cell_type": "markdown",
   "id": "5f55d575",
   "metadata": {},
   "source": [
    "## Construcción del Algoritmo\n",
    "***\n",
    "Basado en [1]"
   ]
  },
  {
   "cell_type": "markdown",
   "id": "c05d6272",
   "metadata": {},
   "source": [
    "+ Para construir el **algoritmo de aprendizaje**, se debe diseñar un algoritmo que mejore los pesos $\\mathbf{w}$ de manera que,\n",
    "\n",
    "+ se **reduzca el error de generalización** dado por $\\text{MSE}_{test}$, cuando el algoritmo obtiene ***experiencia*** a partir de los datos de entrenamiento.\n",
    "\n",
    "+ Sea $(X^{(train)}, y^{(train)}) \\rightarrow$ el conjunto de entrenamiento\n",
    "\n",
    "+ La forma intuitiva de hacer lo anterior es ***minimizando el MSE en el conjunto de entrenamiento***:\n",
    "\n",
    "$$  \\nabla_{\\mathbf{w}}\\text{MSE}_{train} =  0$$\n",
    "\n",
    "$$\\implies \\nabla_{\\bf{w}} \\frac{1}{m}\\sum_{i} || \\bf{\\hat{y}}^{(train)} -  \\bf{y}^{(train)} ||_2^{2} = 0 $$\n",
    "\n",
    "$$\\implies  \\frac{1}{m} \\nabla_{\\bf{w}}|| \\bf{X}^{(train)}\\bf{w} -  \\bf{y}^{(train)} ||_2^{2} = 0$$\n",
    "\n",
    "$$\\implies  \\nabla_{\\bf{w}} (\\bf{X}^{(train)}\\bf{w} -  \\bf{y}^{(train)})^{\\intercal} (\\bf{X}^{(train)}\\bf{w} -  \\bf{y}^{(train)}) = 0$$\n",
    "\n",
    "$$ \\implies  \\nabla_{\\bf{w}} ( \\bf{w}^{\\intercal} \\bf{X}^{(train)\\intercal} \\bf{X}^{(train)} \\bf{w} - 2\\bf{w}^{\\intercal}\\bf{X}^{(train)\\intercal}\\bf{y}^{(train)}  + \\bf{y}^{(train)\\intercal}\\bf{y}^{(train)})=0 $$ \n",
    "\n",
    "$$\\implies   2 \\bf{X}^{(train)\\intercal} \\bf{X}^{(train)} \\bf{w} - 2 \\bf{X}^{(train)\\intercal}\\bf{y}^{(train)} = 0 $$\n",
    "\n",
    "$$\\implies \\bf{w} =  (\\bf{X}^{(train)\\intercal} \\bf{X}^{(train)})^{-1} \\, \\bf{X}^{(train)\\intercal}\\bf{y}^{(train)}  \\rightarrow \\text{ecuaciones normales}$$\n",
    "\n",
    "\n",
    "+ Notar que el término ***regresión lineal***  también se usa para el modelo *más sofisticado* con un parámetro adicional llamado ***intercepto***, denotado por $b$:\n",
    "\n",
    "$$\\hat{y} = \\mathbf{w}^{\\intercal} \\mathbf{x} +b \\rightarrow \\text{función afín}$$ "
   ]
  },
  {
   "cell_type": "markdown",
   "id": "43af83fe",
   "metadata": {},
   "source": [
    "## Ejemplo 1 Didáctico\n",
    "### Con ecuaciones normales\n",
    "\n",
    "Consideremos un dataset muy pequeño:"
   ]
  },
  {
   "cell_type": "code",
   "execution_count": 1,
   "id": "00b92116",
   "metadata": {},
   "outputs": [
    {
     "data": {
      "image/png": "[encoded data removed]",
      "text/plain": [
       "<Figure size 432x288 with 1 Axes>"
      ]
     },
     "metadata": {
      "needs_background": "light"
     },
     "output_type": "display_data"
    }
   ],
   "source": [
    "import numpy as np\n",
    "from matplotlib import pyplot as plt\n",
    "\n",
    "X_train = np.array([[2],[4],[5]])\n",
    "y_train = np.array([[1.2], [2.8],[5.3]])\n",
    "\n",
    "plt.figure()\n",
    "plt.scatter(X_train,y_train)\n",
    "plt.xlabel(\"$x$\")\n",
    "plt.ylabel(\"$y$\")\n",
    "plt.show()"
   ]
  },
  {
   "cell_type": "markdown",
   "id": "be03b5a5",
   "metadata": {},
   "source": [
    "Encontremos el vector $\\bf{w}$ usando las ecuaciones normales:"
   ]
  },
  {
   "cell_type": "code",
   "execution_count": 2,
   "id": "5e00ae01",
   "metadata": {},
   "outputs": [
    {
     "name": "stdout",
     "output_type": "stream",
     "text": [
      "(3, 2) (3, 1)\n"
     ]
    }
   ],
   "source": [
    "# Basado en [2]\n",
    "\n",
    "import numpy as np\n",
    "\n",
    "# Definir matrices\n",
    "X = np.array([[1,2],[1,4],[1,5]]) # datos\n",
    "y = np.array([[1.2],[2.8],[5.3]]) # etiquetas\n",
    "print(X.shape, y.shape)\n",
    "\n",
    "def normal_solution(X,y):\n",
    "    w = np.linalg.inv(X.T.dot(X)).dot(X.T).dot(y) # ecuación normal\n",
    "    print(\"w_0:\", w[0] , \"w_1:\", w[1])\n",
    "    return w"
   ]
  },
  {
   "cell_type": "markdown",
   "id": "b522d80a",
   "metadata": {},
   "source": [
    "Ahora predecimos (en los mismos datos por ahora ! ):"
   ]
  },
  {
   "cell_type": "code",
   "execution_count": 3,
   "id": "04aaeb86",
   "metadata": {},
   "outputs": [
    {
     "name": "stdout",
     "output_type": "stream",
     "text": [
      "w_0: [-1.61428571] w_1: [1.28571429]\n",
      "Elapsed time: 0.0027289390563964844 segs.\n"
     ]
    },
    {
     "data": {
      "image/png": "[encoded data removed]",
      "text/plain": [
       "<Figure size 432x288 with 1 Axes>"
      ]
     },
     "metadata": {
      "needs_background": "light"
     },
     "output_type": "display_data"
    }
   ],
   "source": [
    "from time import time \n",
    "t1 = time()\n",
    "w = normal_solution(X,y)\n",
    "ns_time = time() - t1\n",
    "print(\"Elapsed time:\", ns_time,\"segs.\")\n",
    "\n",
    "y_pred = w[0] + w[1]*X_train\n",
    "\n",
    "plt.figure()\n",
    "plt.scatter(X_train,y_train)\n",
    "plt.plot(X_train,y_pred,color=\"r\")\n",
    "plt.xlabel(\"$x$\")\n",
    "plt.ylabel(\"$y$\")\n",
    "plt.show()\n",
    "\n"
   ]
  },
  {
   "cell_type": "markdown",
   "id": "0a242c9c",
   "metadata": {},
   "source": [
    "### Con gradiente descendiente\n",
    "\n",
    "- La idea genearal es ajustar parámetros de forma **iterativa** minimizando una función de costo o funció de pérdida\n",
    "- $\\hat{y} = b + w_j x_j$, $j=1,\\ldots,n$\n",
    "- Hiperparámetro: *learning rate*\n",
    "\n",
    "$$\n",
    "\\min_{\\mathbf{w},b} \\text{MSE}_{train}\n",
    "$$\n",
    "Simplificando la notación:\n",
    "$$\n",
    "\\min_{\\mathbf{w},b} \\frac{1}{m}\\sum_{i=1}^m \\left (y^{(i)} -\\hat{y}^{(i)} \\right)^{2} = \\min_{\\mathbf{w},b} \\frac{1}{m}\\sum_{i=1}^m \\left (y^{(i)} - (b + \\mathbf{w}\\mathbf{x}^{(i)})  \\right)^{2}\n",
    "\\,\\,\\,\\,\\text{donde}\\,y^{(i)} \\text{es la etiqueta del}\\, \\mathbf{x}^{(i)}\\,\\text{dato de entrenamiento}\n",
    "$$\n",
    "\n",
    "- Nuevamente, debemos calcular $\\nabla_{\\mathbf{w},b}\\text{MSE}_{train} =  0 \\rightarrow$ usar derivadas parciales y la regla de la cadena:\n",
    "\n",
    "\n",
    "$$\n",
    "\\frac{\\partial \\text{MSE}_{train}}{\\partial b} = \\frac{2}{m} \\sum_{i=1}^{m} (y^{(i)}- (b + \\mathbf{w} \\mathbf{x}^{(i)})) \\frac{\\partial }{\\partial b}[y^{(i)} -(b + \\mathbf{w} \\mathbf{x}^{(i)})] = -\\frac{2}{m} \\sum_{i=1}^{m} (y^{(i)} -(b + \\mathbf{w} \\mathbf{x}^{(i)}))=0\n",
    "$$\n",
    "\n",
    "$$\n",
    "\\begin{align}\n",
    "\\frac{\\partial \\text{MSE}_{train}}{\\partial w_j}  &= \\frac{2}{m} \\sum_{i=1}^{m} (y^{(i)} - (b + w_1 x_1^{(i)} + \\ldots + w_j x_j^{(i)} + \\ldots w_n x_n^{(i)})) \\frac{\\partial }{\\partial w_j}[y^{(i)} -(b +  w_1 x_1^{(i)} + \\ldots + w_j x_j^{(i)} + \\ldots w_n x_n^{(i)}))]\\\\\n",
    "& = -\\frac{2}{m} \\sum_{i=1}^{m} (y^{(i)} - (b + \\mathbf{w} \\mathbf{x}^{(i)}))x_j^{(i)}=0\n",
    "\\end{align}\n",
    "$$\n",
    "\n",
    "- y actualizar los valores de los parámetros $b$ y  $\\mathbf{w}$:\n",
    "\n",
    "\n",
    "\n",
    "$$\n",
    "b_{new} = b_{old} - lr \\,\\frac{\\partial \\text{MSE}_{train}}{\\partial b} \n",
    "$$\n",
    "\n",
    "$$\n",
    "w_{j,new} = w_{j,old} - lr\\,\\frac{\\partial \\text{MSE}_{train}}{\\partial w_j} \n",
    "$$\n",
    "\n",
    "\n",
    "- Esta minimización es iterativa, dando pasos en la dirección negativa del gradiente de la función.\n",
    "\n",
    "\n",
    "\n",
    "\n",
    "\n"
   ]
  },
  {
   "cell_type": "code",
   "execution_count": 4,
   "id": "4e0e2e97",
   "metadata": {
    "scrolled": true
   },
   "outputs": [],
   "source": [
    "from sklearn.metrics import mean_squared_error\n",
    "\n",
    "def grad_desc_0(X,y,n_iter=100):\n",
    "    w0 = 0 # valores iniciales arbitrarios\n",
    "    w1 = 1\n",
    "    lr = 0.001 \n",
    "    iterations = n_iter\n",
    "    error = []\n",
    "    w1_list = []\n",
    "    N = len(X) # cantidad de datos\n",
    "    \n",
    "    for itr in range(iterations):\n",
    "        f = y - (w1*X + w0)\n",
    "        w1 -= lr * (-2 * X.dot(f).sum() / N)\n",
    "        w0 -= lr * (-2 * f.sum() /N)\n",
    "        \n",
    "        error.append(mean_squared_error(y, (w1*X + w0)))\n",
    "        w1_list.append(w1)\n",
    "            \n",
    "            \n",
    "    return w0, w1, w1_list, error\n"
   ]
  },
  {
   "cell_type": "code",
   "execution_count": 5,
   "id": "d0f0b81d",
   "metadata": {},
   "outputs": [
    {
     "name": "stdout",
     "output_type": "stream",
     "text": [
      "(3,) (3,)\n",
      "Elapsed time: 0.04278993606567383 sgs.\n",
      "w_0: -0.05561955282686022 w_1: 0.9066065481905947\n"
     ]
    }
   ],
   "source": [
    "X= np.array([2,4,5])\n",
    "y = np.array([1.2, 2.8, 5.3])\n",
    "print(X.shape, y.shape)\n",
    "\n",
    "t1 = time()\n",
    "w0, w1, w1_list, error = grad_desc_0(X,y)\n",
    "gd_time = time() - t1\n",
    "print(\"Elapsed time:\", gd_time, \"sgs.\")\n",
    "print(\"w_0:\", w0, \"w_1:\", w1)\n",
    "\n",
    "y_pred = w0 + w1*X\n",
    "#print(y_pred)"
   ]
  },
  {
   "cell_type": "code",
   "execution_count": 6,
   "id": "ed122ccb",
   "metadata": {},
   "outputs": [
    {
     "data": {
      "image/png": "[encoded data removed]",
      "text/plain": [
       "<Figure size 1368x432 with 3 Axes>"
      ]
     },
     "metadata": {
      "needs_background": "light"
     },
     "output_type": "display_data"
    }
   ],
   "source": [
    "fig, (ax1, ax2, ax3) = plt.subplots(1, 3)\n",
    "fig.set_figheight(6)\n",
    "fig.set_figwidth(19)\n",
    "\n",
    "ax1.scatter(X,y)\n",
    "ax1.plot(X,y_pred,color=\"red\")\n",
    "ax1.set_ylabel(\"$y$\")\n",
    "ax1.set_xlabel(\"$x$\")\n",
    "ax2.plot( error, color=\"red\",linewidth=5)\n",
    "ax2.set_ylabel(\"$iteraciones$\")\n",
    "ax2.set_xlabel(\"$error$\")\n",
    "ax2.set_title(\"Iteraciones versus error\")\n",
    "ax3.plot(w1_list, error, color=\"green\",linewidth=5)\n",
    "ax3.set_title(\"w1 versus error\")\n",
    "ax3.set_xlabel(\"w1\")\n",
    "ax3.set_ylabel(\"error\")\n",
    "\n",
    "plt.show()"
   ]
  },
  {
   "cell_type": "markdown",
   "id": "434e29f0",
   "metadata": {},
   "source": [
    "### Ejemplo 2:\n",
    "- Generemos un dataset que parezca lineal:"
   ]
  },
  {
   "cell_type": "code",
   "execution_count": 7,
   "id": "158c43dd",
   "metadata": {},
   "outputs": [
    {
     "data": {
      "image/png": "[encoded data removed]",
      "text/plain": [
       "<Figure size 432x288 with 1 Axes>"
      ]
     },
     "metadata": {
      "needs_background": "light"
     },
     "output_type": "display_data"
    },
    {
     "name": "stdout",
     "output_type": "stream",
     "text": [
      "Elapsed time: 0.19008898735046387 segs.\n",
      "w0_diab: 3.396795393484808 w1_diab: 2.926726509537994\n"
     ]
    },
    {
     "data": {
      "image/png": "[encoded data removed]",
      "text/plain": [
       "<Figure size 432x288 with 1 Axes>"
      ]
     },
     "metadata": {
      "needs_background": "light"
     },
     "output_type": "display_data"
    }
   ],
   "source": [
    "X = 2 * np.random.randn(100,1) # se agrega error con distribución normal\n",
    "y = 4 + 3*X + np.random.randn(100,1)\n",
    "y_ = 4 + 3*X \n",
    "\n",
    "plt.figure()\n",
    "plt.scatter(X,y)\n",
    "plt.scatter(X,y_,color=\"red\", alpha=0.3)\n",
    "plt.show()\n",
    "\n",
    "t1 = time()\n",
    "w0_new, w1_new, w1_list_new, error_new = grad_desc_0(X[:,0],y[:,0],1000)\n",
    "new_time_gd = time() - t1\n",
    "print(\"Elapsed time:\", new_time_gd, \"segs.\")\n",
    "print(\"w0_diab:\",w0_new, \"w1_diab:\", w1_new)\n",
    "\n",
    "new_y_pred = w0_new + w1_new*X\n",
    "\n",
    "plt.figure()\n",
    "plt.scatter(X, y,  color='black')\n",
    "plt.plot(X, new_y_pred, color='red', linewidth=3)\n",
    "plt.show()"
   ]
  },
  {
   "cell_type": "code",
   "execution_count": 8,
   "id": "375fe04e",
   "metadata": {
    "scrolled": true
   },
   "outputs": [
    {
     "name": "stdout",
     "output_type": "stream",
     "text": [
      "w_0: [3.9371118] w_1: [2.94393405]\n",
      "Elapsed time: 0.003660917282104492 segs.\n"
     ]
    },
    {
     "data": {
      "image/png": "[encoded data removed]",
      "text/plain": [
       "<Figure size 432x288 with 1 Axes>"
      ]
     },
     "metadata": {
      "needs_background": "light"
     },
     "output_type": "display_data"
    }
   ],
   "source": [
    "X_2 = np.ones((X.shape[0], X.shape[1]+1))\n",
    "X_2[:,1:2] = X\n",
    "t1 = time()\n",
    "w_new = normal_solution(X_2,y)\n",
    "new_time_ns = time() - t1\n",
    "print(\"Elapsed time:\", new_time_ns, \"segs.\")\n",
    "new_pred_ns = w_new[0] + w_new[1]*X\n",
    "\n",
    "plt.figure()\n",
    "plt.scatter(X, y,  color='black')\n",
    "plt.plot(X, new_pred_ns, color='red', linewidth=3)\n",
    "plt.show()"
   ]
  },
  {
   "cell_type": "markdown",
   "id": "290bdad9",
   "metadata": {},
   "source": [
    "### Ejemplo 3:  Diabetes dataset\n",
    "\n",
    "- Usemos el dataset [diabetes](https://scikit-learn.org/stable/modules/generated/sklearn.datasets.load_diabetes.html#sklearn.datasets.load_diabetes). \n",
    "- La descripción de este dataset [acá](https://scikit-learn.org/stable/datasets/toy_dataset.html#diabetes-dataset). \n"
   ]
  },
  {
   "cell_type": "code",
   "execution_count": null,
   "id": "f70bbba6",
   "metadata": {},
   "outputs": [
    {
     "name": "stdout",
     "output_type": "stream",
     "text": [
      "(442, 10) (442,)\n"
     ]
    },
    {
     "data": {
      "image/png": "[encoded data removed]",
      "text/plain": [
       "<Figure size 432x288 with 1 Axes>"
      ]
     },
     "metadata": {
      "needs_background": "light"
     },
     "output_type": "display_data"
    },
    {
     "name": "stdout",
     "output_type": "stream",
     "text": [
      "(422, 1) (20, 1)\n",
      "(422,) (20,)\n"
     ]
    }
   ],
   "source": [
    "# \n",
    "from sklearn import datasets, linear_model\n",
    "from sklearn.metrics import mean_squared_error, r2_score\n",
    "diabetes_X, diabetes_y = datasets.load_diabetes(return_X_y=True)\n",
    "print(diabetes_X.shape, diabetes_y.shape)\n",
    "\n",
    "plt.figure()\n",
    "plt.scatter(diabetes_X[:,2],diabetes_y)\n",
    "plt.xlabel(\"feature 2: bmi body mass index\")\n",
    "plt.ylabel(\"disease progression\") #one year after baseline\n",
    "plt.show()\n",
    "\n",
    "diabetes_X = diabetes_X[:,2:3]\n",
    "diab_X_train = diabetes_X[0:-20,:]#[:-20]\n",
    "diab_X_test = diabetes_X[-20:]\n",
    "diab_y_train = diabetes_y[:-20]\n",
    "diab_y_test = diabetes_y[-20:]\n",
    "\n",
    "print(diab_X_train.shape, diab_X_test.shape)\n",
    "print(diab_y_train.shape, diab_y_test.shape)\n",
    "\n",
    "t1 = time()\n",
    "w0_diab, w1_diab, w1_list_diab, error_diab = grad_desc_0(diab_X_train[:,0],diab_y_train,1000000)\n",
    "diab_time_gd = time() - t1\n",
    "print(\"Elapsed time:\", diab_time_gd, \"segs.\")\n",
    "print(\"w0_diab:\",w0_diab, \"w1_diab:\", w1_diab)\n",
    "\n",
    "diab_y_pred_GD = w0_diab + w1_diab*diab_X_test\n",
    "\n",
    "plt.figure()\n",
    "plt.scatter(diab_X_test, diab_y_test,  color='black')\n",
    "plt.plot(diab_X_test, diab_y_pred_GD, color='red', linewidth=3)\n",
    "plt.show()"
   ]
  },
  {
   "cell_type": "code",
   "execution_count": null,
   "id": "f1924d88",
   "metadata": {},
   "outputs": [],
   "source": [
    "diab_X_train_2 = np.ones((diab_X_train.shape[0], diab_X_train.shape[1]+1))\n",
    "diab_X_train_2[:,1:2] = diab_X_train\n",
    "#print(diab_X_train_2)"
   ]
  },
  {
   "cell_type": "code",
   "execution_count": null,
   "id": "f8c0c45c",
   "metadata": {},
   "outputs": [],
   "source": [
    "t1 = time()\n",
    "w_diab = normal_solution(diab_X_train_2,diab_y_train)\n",
    "diab_time_ns = time() - t1\n",
    "print(\"Elapsed time:\", diab_time_ns, \"segs.\")\n",
    "diab_y_pred_NS = w_diab[0] + w_diab[1]*diab_X_test\n",
    "\n",
    "plt.figure()\n",
    "plt.scatter(diab_X_test, diab_y_test,  color='black')\n",
    "plt.plot(diab_X_test, diab_y_pred_NS, color='red', linewidth=3)\n",
    "plt.show()"
   ]
  },
  {
   "cell_type": "code",
   "execution_count": null,
   "id": "a440bf73",
   "metadata": {},
   "outputs": [],
   "source": [
    "# Create linear regression object\n",
    "regr = linear_model.LinearRegression()\n",
    "\n",
    "# Train the model using the training sets\n",
    "t1 = time()\n",
    "regr.fit(diab_X_train, diab_y_train)\n",
    "lr_diab_time = time() - t1\n",
    "print(\"Elapsed time:\", lr_diab_time, \"segs.\")\n",
    "# Make predictions using the testing set\n",
    "diab_y_pred = regr.predict(diab_X_test)\n",
    "\n",
    "print('Coeficientes: \\n', regr.coef_)\n",
    "print('Mean squared error: %.2f'\n",
    "      % mean_squared_error(diab_y_test, diab_y_pred))\n",
    "\n",
    "print('Coefficient of determination: %.2f'\n",
    "      % r2_score(diab_y_test, diab_y_pred))\n",
    "\n",
    "# Plot outputs\n",
    "plt.figure()\n",
    "plt.scatter(diab_X_test, diab_y_test,  color='black')\n",
    "plt.plot(diab_X_test, diab_y_pred, color='red', linewidth=3)\n",
    "plt.show()"
   ]
  },
  {
   "cell_type": "markdown",
   "id": "ba3fc83a",
   "metadata": {},
   "source": [
    "## En la práctica ... no se usa el método de gradiente descendiente\n",
    "- es lento\n",
    "- no se garantiza llegar al mínimo global\n",
    "- se introduce el hiperparámetro asociado al learning rate\n",
    "\n",
    "\n",
    "## y las ecuaciones normales\n",
    "- es lento\n",
    "- numéricamente inestable"
   ]
  },
  {
   "cell_type": "markdown",
   "id": "60703fd8",
   "metadata": {},
   "source": [
    "# Referencias\n",
    "***\n",
    "\n",
    "[1] Goodfellow, I., Bengio, Y., & Courville, A. (2016). Deep learning. MIT press.\n",
    "\n",
    "[2] https://towardsdatascience.com/performing-linear-regression-using-the-normal-equation-6372ed3c57"
   ]
  },
  {
   "cell_type": "code",
   "execution_count": null,
   "id": "0fdd0a1b",
   "metadata": {},
   "outputs": [],
   "source": []
  }
 ],
 "metadata": {
  "kernelspec": {
   "display_name": "Python 3",
   "language": "python",
   "name": "python3"
  },
  "language_info": {
   "codemirror_mode": {
    "name": "ipython",
    "version": 3
   },
   "file_extension": ".py",
   "mimetype": "text/x-python",
   "name": "python",
   "nbconvert_exporter": "python",
   "pygments_lexer": "ipython3",
   "version": "3.8.10"
  }
 },
 "nbformat": 4,
 "nbformat_minor": 5
}
