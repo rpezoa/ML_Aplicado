{
 "cells": [
  {
   "cell_type": "markdown",
   "id": "9525587a",
   "metadata": {},
   "source": [
    "# Ejemplo de uso de CNN\n",
    "## Obtenido de: https://github.com/tensorchiefs/dl_book/blob/master/chapter_02/nb_ch02_03.ipynb\n",
    "***\n",
    "Para predicción de imágenes con bordes verticales\n"
   ]
  },
  {
   "cell_type": "code",
   "execution_count": null,
   "id": "aa79f305",
   "metadata": {},
   "outputs": [],
   "source": [
    "# módulos necesarios\n",
    "import numpy as npaqa\n",
    "import matplotlib.pyplot as plt\n",
    "\n",
    "import tensorflow.keras \n",
    "from tensorflow.keras.models import Sequential\n",
    "from tensorflow.keras.layers import Dense, Convolution2D, MaxPooling2D, Flatten , Activation\n",
    "from tensorflow.keras.utils import to_categorical "
   ]
  },
  {
   "cell_type": "markdown",
   "id": "ada70ac9",
   "metadata": {},
   "source": [
    "## Generación de imágenes"
   ]
  },
  {
   "cell_type": "code",
   "execution_count": null,
   "id": "13c26d8a",
   "metadata": {},
   "outputs": [],
   "source": [
    "# función que genera imágenes sintéticas con bordes\n",
    "# verticales y bordes horizontales\n",
    "\n",
    "def generate_image_with_bars(size, bar_nr, vertical = True):\n",
    "    # matriz de de sizexsizex1 (1 canal)\n",
    "    img=np.zeros((size,size,1),dtype=\"uint8\")\n",
    "    for i in range(0,bar_nr):\n",
    "        x,y = np.random.randint(0,size,2)\n",
    "        l  = int(np.random.randint(y,size,1))\n",
    "    if (vertical):\n",
    "        img[y:l,x,0]=255 #agrega bordes vercticales\n",
    "    else:\n",
    "        img[x,y:l,0]=255 #agrega bordes horizontales\n",
    "    return img  "
   ]
  },
  {
   "cell_type": "markdown",
   "id": "396b71b7",
   "metadata": {},
   "source": [
    "## Visualización de imágenes"
   ]
  },
  {
   "cell_type": "code",
   "execution_count": null,
   "id": "bb76b953",
   "metadata": {},
   "outputs": [],
   "source": [
    "# visualización de dos imágenes\n",
    "\n",
    "plt.figure(figsize=(8,8))\n",
    "plt.subplot(1,2,1)\n",
    "img=generate_image_with_bars(50,10, vertical=True)\n",
    "plt.imshow(img[:,:,0],cmap='gray')\n",
    "plt.subplot(1,2,2)\n",
    "img=generate_image_with_bars(50,10, vertical=False)\n",
    "plt.imshow(img[:,:,0],cmap='gray')"
   ]
  },
  {
   "cell_type": "code",
   "execution_count": null,
   "id": "d51eedd0",
   "metadata": {},
   "outputs": [],
   "source": [
    "pixel=50  # define alto y ancho de las imagenes\n",
    "num_images_train = 1000 #número de datos de entrenamiento \n",
    "num_images_val = 1000 # número de imágenes de validación\n",
    "\n",
    "# generación de datos de entrenamiento con bordes verticales\n",
    "X_train =np.zeros((num_images_train,pixel,pixel,1))\n",
    "for i in range(0, int(num_images_train/2)):\n",
    "    X_train[i]=generate_image_with_bars(pixel,10)\n",
    "\n",
    "# generación de datos de entrenamiento con bordes horizontales\n",
    "for i in range(int(num_images_train/2), num_images_train):\n",
    "    X_train[i]=generate_image_with_bars(pixel,10, vertical=False)\n",
    "\n",
    "# generación de datos de validación con bordes verticales\n",
    "X_val =np.zeros((num_images_train,pixel,pixel,1))\n",
    "for i in range(0, int(num_images_train/2)): \n",
    "    X_val[i]=generate_image_with_bars(pixel,10)\n",
    "\n",
    "# generación de datos de validación con bordes horizontales\n",
    "for i in range(int(num_images_train/2), num_images_train):\n",
    "    X_val[i]=generate_image_with_bars(pixel,10, vertical=False)\n",
    "\n",
    "\n",
    "# Normalización de los datos entre 0 y 1\n",
    "X_train=X_train/255\n",
    "X_val=X_val/255\n",
    "\n",
    "print(X_train.shape)\n",
    "print(X_val.shape)"
   ]
  },
  {
   "cell_type": "code",
   "execution_count": null,
   "id": "16489ad0",
   "metadata": {},
   "outputs": [],
   "source": [
    "# Generación de etiquetas\n",
    "\n",
    "y = np.array([[0],[1]])\n",
    "# ejemplo\n",
    "# >> x = np.array([[1,2],[3,4]])\n",
    "# >> np.repeat(x, 2)\n",
    "# array([1, 1, 2, 2, 3, 3, 4, 4])\n",
    "Y_train = np.repeat(y, num_images_train//2)\n",
    "Y_val = np.repeat(y, num_images_train//2)"
   ]
  },
  {
   "cell_type": "code",
   "execution_count": null,
   "id": "cd4e53fc",
   "metadata": {},
   "outputs": [],
   "source": [
    "print(Y_train.shape)\n",
    "print(Y_train)"
   ]
  },
  {
   "cell_type": "code",
   "execution_count": null,
   "id": "eaecd40d",
   "metadata": {},
   "outputs": [],
   "source": [
    "# one-hot-encoding\n",
    "Y_train=to_categorical(Y_train,2)\n",
    "Y_val=to_categorical(Y_val,2)"
   ]
  },
  {
   "cell_type": "code",
   "execution_count": null,
   "id": "f32b4122",
   "metadata": {},
   "outputs": [],
   "source": [
    "Y_train"
   ]
  },
  {
   "cell_type": "markdown",
   "id": "b44f802b",
   "metadata": {},
   "source": [
    "## Red Convolucional "
   ]
  },
  {
   "cell_type": "code",
   "execution_count": null,
   "id": "6fc85e20",
   "metadata": {},
   "outputs": [],
   "source": [
    "model = Sequential()\n",
    "model.add(Convolution2D(1,(5,5),padding='same',input_shape=(pixel,pixel,1)))\n",
    "model.add(Activation('linear'))\n",
    "\n",
    "# toma el valor máximo del mapa de características\n",
    "model.add(MaxPooling2D(pool_size=(pixel,pixel)))\n",
    "\n",
    "# aplanamiento\n",
    "model.add(Flatten()) \n",
    "\n",
    "# capa densa con dos neuronas para generar la clasificación\n",
    "model.add(Dense(2))\n",
    "model.add(Activation('softmax'))\n",
    "\n",
    "# compile model and initialize weights\n",
    "model.compile(loss='categorical_crossentropy',\n",
    "              optimizer='adam',\n",
    "              metrics=['accuracy'])"
   ]
  },
  {
   "cell_type": "code",
   "execution_count": null,
   "id": "e0651772",
   "metadata": {},
   "outputs": [],
   "source": [
    "# let's summarize the CNN architectures along with the number of model weights\n",
    "model.summary()"
   ]
  },
  {
   "cell_type": "code",
   "execution_count": null,
   "id": "b6f3a060",
   "metadata": {},
   "outputs": [],
   "source": [
    "print(X_train.shape)\n",
    "print(Y_train.shape)\n",
    "print(X_val.shape)\n",
    "print(Y_val.shape)"
   ]
  },
  {
   "cell_type": "code",
   "execution_count": null,
   "id": "2d2a6892",
   "metadata": {},
   "outputs": [],
   "source": [
    "# train the model\n",
    "history=model.fit(X_train, Y_train,\n",
    "                  validation_data=(X_val,Y_val),\n",
    "                  batch_size=64, \n",
    "                  epochs=200,\n",
    "                  verbose=0,\n",
    "                  shuffle=True) #shuffle: Boolean (whether to shuffle the training data before each epoch)"
   ]
  },
  {
   "cell_type": "code",
   "execution_count": null,
   "id": "46d1e0d5",
   "metadata": {},
   "outputs": [],
   "source": [
    "# plot the development of the accuracy and loss during training\n",
    "plt.figure(figsize=(12,4))\n",
    "plt.subplot(1,2,(1))\n",
    "plt.plot(history.history['accuracy'],linestyle='-.')\n",
    "plt.plot(history.history['val_accuracy'])\n",
    "\n",
    "plt.title('model accuracy')\n",
    "plt.ylabel('accuracy')\n",
    "plt.xlabel('epoch')\n",
    "plt.legend(['train', 'valid'], loc='lower right')\n",
    "plt.subplot(1,2,(2))\n",
    "plt.plot(history.history['loss'],linestyle='-.')\n",
    "plt.plot(history.history['val_loss'])\n",
    "plt.title('model loss')\n",
    "plt.ylabel('loss')\n",
    "plt.xlabel('epoch')\n",
    "plt.legend(['train', 'valid'], loc='upper right')\n"
   ]
  },
  {
   "cell_type": "code",
   "execution_count": null,
   "id": "726e856b",
   "metadata": {},
   "outputs": [],
   "source": [
    "# get the leared weights and display them as image\n",
    "conv_filter=model.get_weights()[0]\n",
    "conv_filter.shape\n",
    "conv_filter=np.squeeze(conv_filter, axis=2)\n",
    "\n",
    "plt.figure()\n",
    "plt.imshow(conv_filter[:,:,0],\"gray\")\n",
    "plt.axis(\"off\")\n",
    "plt.show()"
   ]
  },
  {
   "cell_type": "code",
   "execution_count": null,
   "id": "825930b3",
   "metadata": {},
   "outputs": [],
   "source": [
    "len(model.get_weights())"
   ]
  },
  {
   "cell_type": "code",
   "execution_count": null,
   "id": "b1e473a0",
   "metadata": {},
   "outputs": [],
   "source": [
    "all_weights = model.get_weights()"
   ]
  },
  {
   "cell_type": "code",
   "execution_count": null,
   "id": "82b3ffa3",
   "metadata": {},
   "outputs": [],
   "source": [
    "print(all_weights[0].shape)\n",
    "print(all_weights[1].shape)\n",
    "print(all_weights[2].shape)\n",
    "print(all_weights[3].shape)"
   ]
  },
  {
   "cell_type": "code",
   "execution_count": null,
   "id": "8f5ae7b7",
   "metadata": {},
   "outputs": [],
   "source": [
    "# conv_filter=model.get_weights()[0]\n",
    "print(conv_filter.shape)"
   ]
  },
  {
   "cell_type": "code",
   "execution_count": null,
   "id": "cf63fb11",
   "metadata": {},
   "outputs": [],
   "source": [
    "ddprint(conv_filter*255)"
   ]
  },
  {
   "cell_type": "code",
   "execution_count": null,
   "id": "71bf56ed",
   "metadata": {},
   "outputs": [],
   "source": []
  }
 ],
 "metadata": {
  "kernelspec": {
   "display_name": "Python 3 (ipykernel)",
   "language": "python",
   "name": "python3"
  },
  "language_info": {
   "codemirror_mode": {
    "name": "ipython",
    "version": 3
   },
   "file_extension": ".py",
   "mimetype": "text/x-python",
   "name": "python",
   "nbconvert_exporter": "python",
   "pygments_lexer": "ipython3",
   "version": "3.8.12"
  }
 },
 "nbformat": 4,
 "nbformat_minor": 5
}
