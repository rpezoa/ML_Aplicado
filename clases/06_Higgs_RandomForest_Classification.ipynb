{
 "cells": [
  {
   "cell_type": "code",
   "execution_count": 1,
   "metadata": {},
   "outputs": [],
   "source": [
    "import pandas as pd\n",
    "import numpy as np\n",
    "from matplotlib import pyplot as plt\n",
    "import seaborn as sns"
   ]
  },
  {
   "cell_type": "markdown",
   "metadata": {},
   "source": [
    "# 1. Problem:\n",
    "*****\n",
    "The problem is to identify the  signal  from the background, where the signal corresponds to a Higgs boson decaying to a pair of bottom quarks according to the process: $gg \\rightarrow H^0 \\rightarrow W^{\\mp} H^{\\pm} \\rightarrow W^{\\mp} W^{\\pm} h^0 \\rightarrow W^{\\mp} W^{\\pm} b \\bar{b}$. \n",
    "\n"
   ]
  },
  {
   "cell_type": "markdown",
   "metadata": {},
   "source": [
    "# 2. Datos\n",
    "*****\n",
    "\n",
    "- The dataset is available [here](https://www.openml.org/d/23512 ). \n",
    "\n",
    "- Check *Baldi, P., P. Sadowski, and D. Whiteson. Searching for Exotic Particles in High-energy Physics with Deep Learning. Nature Communications 5 (July 2, 2014)* y está en este [link](https://www.nature.com/articles/ncomms5308).\n",
    "-\n",
    "Each event is represented by a set of 28 features, including 21 low-level features corresponding to physics properties measured by the detector, and 7 high-level features derived from the previous ones.\n"
   ]
  },
  {
   "cell_type": "markdown",
   "metadata": {},
   "source": [
    "## 2.1 Loading CSV file"
   ]
  },
  {
   "cell_type": "code",
   "execution_count": 2,
   "metadata": {},
   "outputs": [
    {
     "name": "stderr",
     "output_type": "stream",
     "text": [
      "/Users/rpezoa/opt/anaconda3/envs/root_py/lib/python3.8/site-packages/IPython/core/interactiveshell.py:3169: DtypeWarning: Columns (20,21,22,23,24,25,26,27,28) have mixed types.Specify dtype option on import or set low_memory=False.\n",
      "  has_raised = await self.run_ast_nodes(code_ast.body, cell_name,\n"
     ]
    }
   ],
   "source": [
    "df = pd.read_csv(\"../../../data/higgs.csv\")\n"
   ]
  },
  {
   "cell_type": "markdown",
   "metadata": {},
   "source": [
    "Removing last row of the file, because is wrong"
   ]
  },
  {
   "cell_type": "code",
   "execution_count": 3,
   "metadata": {},
   "outputs": [],
   "source": [
    "df.drop(df.tail(1).index,inplace=True) # drop last n rows\n",
    "df = df.apply(pd.to_numeric)\n"
   ]
  },
  {
   "cell_type": "code",
   "execution_count": 4,
   "metadata": {},
   "outputs": [
    {
     "data": {
      "text/html": [
       "<div>\n",
       "<style scoped>\n",
       "    .dataframe tbody tr th:only-of-type {\n",
       "        vertical-align: middle;\n",
       "    }\n",
       "\n",
       "    .dataframe tbody tr th {\n",
       "        vertical-align: top;\n",
       "    }\n",
       "\n",
       "    .dataframe thead th {\n",
       "        text-align: right;\n",
       "    }\n",
       "</style>\n",
       "<table border=\"1\" class=\"dataframe\">\n",
       "  <thead>\n",
       "    <tr style=\"text-align: right;\">\n",
       "      <th></th>\n",
       "      <th>class</th>\n",
       "      <th>lepton_pT</th>\n",
       "      <th>lepton_eta</th>\n",
       "      <th>lepton_phi</th>\n",
       "      <th>missing_energy_magnitude</th>\n",
       "      <th>missing_energy_phi</th>\n",
       "      <th>jet1pt</th>\n",
       "      <th>jet1eta</th>\n",
       "      <th>jet1phi</th>\n",
       "      <th>jet1b-tag</th>\n",
       "      <th>...</th>\n",
       "      <th>jet4eta</th>\n",
       "      <th>jet4phi</th>\n",
       "      <th>jet4b-tag</th>\n",
       "      <th>m_jj</th>\n",
       "      <th>m_jjj</th>\n",
       "      <th>m_lv</th>\n",
       "      <th>m_jlv</th>\n",
       "      <th>m_bb</th>\n",
       "      <th>m_wbb</th>\n",
       "      <th>m_wwbb</th>\n",
       "    </tr>\n",
       "  </thead>\n",
       "  <tbody>\n",
       "    <tr>\n",
       "      <th>0</th>\n",
       "      <td>1</td>\n",
       "      <td>0.907542</td>\n",
       "      <td>0.329147</td>\n",
       "      <td>0.359412</td>\n",
       "      <td>1.497970</td>\n",
       "      <td>-0.313010</td>\n",
       "      <td>1.095531</td>\n",
       "      <td>-0.557525</td>\n",
       "      <td>-1.588230</td>\n",
       "      <td>2.173076</td>\n",
       "      <td>...</td>\n",
       "      <td>-1.138930</td>\n",
       "      <td>-0.000819</td>\n",
       "      <td>0.000000</td>\n",
       "      <td>0.302220</td>\n",
       "      <td>0.833048</td>\n",
       "      <td>0.985700</td>\n",
       "      <td>0.978098</td>\n",
       "      <td>0.779732</td>\n",
       "      <td>0.992356</td>\n",
       "      <td>0.798343</td>\n",
       "    </tr>\n",
       "    <tr>\n",
       "      <th>1</th>\n",
       "      <td>1</td>\n",
       "      <td>0.798835</td>\n",
       "      <td>1.470639</td>\n",
       "      <td>-1.635975</td>\n",
       "      <td>0.453773</td>\n",
       "      <td>0.425629</td>\n",
       "      <td>1.104875</td>\n",
       "      <td>1.282322</td>\n",
       "      <td>1.381664</td>\n",
       "      <td>0.000000</td>\n",
       "      <td>...</td>\n",
       "      <td>1.128848</td>\n",
       "      <td>0.900461</td>\n",
       "      <td>0.000000</td>\n",
       "      <td>0.909753</td>\n",
       "      <td>1.108330</td>\n",
       "      <td>0.985692</td>\n",
       "      <td>0.951331</td>\n",
       "      <td>0.803252</td>\n",
       "      <td>0.865924</td>\n",
       "      <td>0.780118</td>\n",
       "    </tr>\n",
       "    <tr>\n",
       "      <th>2</th>\n",
       "      <td>0</td>\n",
       "      <td>1.344385</td>\n",
       "      <td>-0.876626</td>\n",
       "      <td>0.935913</td>\n",
       "      <td>1.992050</td>\n",
       "      <td>0.882454</td>\n",
       "      <td>1.786066</td>\n",
       "      <td>-1.646778</td>\n",
       "      <td>-0.942383</td>\n",
       "      <td>0.000000</td>\n",
       "      <td>...</td>\n",
       "      <td>-0.678379</td>\n",
       "      <td>-1.360356</td>\n",
       "      <td>0.000000</td>\n",
       "      <td>0.946652</td>\n",
       "      <td>1.028704</td>\n",
       "      <td>0.998656</td>\n",
       "      <td>0.728281</td>\n",
       "      <td>0.869200</td>\n",
       "      <td>1.026736</td>\n",
       "      <td>0.957904</td>\n",
       "    </tr>\n",
       "    <tr>\n",
       "      <th>3</th>\n",
       "      <td>1</td>\n",
       "      <td>1.105009</td>\n",
       "      <td>0.321356</td>\n",
       "      <td>1.522401</td>\n",
       "      <td>0.882808</td>\n",
       "      <td>-1.205349</td>\n",
       "      <td>0.681466</td>\n",
       "      <td>-1.070464</td>\n",
       "      <td>-0.921871</td>\n",
       "      <td>0.000000</td>\n",
       "      <td>...</td>\n",
       "      <td>-0.373566</td>\n",
       "      <td>0.113041</td>\n",
       "      <td>0.000000</td>\n",
       "      <td>0.755856</td>\n",
       "      <td>1.361057</td>\n",
       "      <td>0.986610</td>\n",
       "      <td>0.838085</td>\n",
       "      <td>1.133295</td>\n",
       "      <td>0.872245</td>\n",
       "      <td>0.808487</td>\n",
       "    </tr>\n",
       "    <tr>\n",
       "      <th>4</th>\n",
       "      <td>0</td>\n",
       "      <td>1.595839</td>\n",
       "      <td>-0.607811</td>\n",
       "      <td>0.007075</td>\n",
       "      <td>1.818450</td>\n",
       "      <td>-0.111906</td>\n",
       "      <td>0.847550</td>\n",
       "      <td>-0.566437</td>\n",
       "      <td>1.581239</td>\n",
       "      <td>2.173076</td>\n",
       "      <td>...</td>\n",
       "      <td>-0.654227</td>\n",
       "      <td>-1.274345</td>\n",
       "      <td>3.101961</td>\n",
       "      <td>0.823761</td>\n",
       "      <td>0.938191</td>\n",
       "      <td>0.971758</td>\n",
       "      <td>0.789176</td>\n",
       "      <td>0.430553</td>\n",
       "      <td>0.961357</td>\n",
       "      <td>0.957818</td>\n",
       "    </tr>\n",
       "  </tbody>\n",
       "</table>\n",
       "<p>5 rows × 29 columns</p>\n",
       "</div>"
      ],
      "text/plain": [
       "   class  lepton_pT  lepton_eta  lepton_phi  missing_energy_magnitude  \\\n",
       "0      1   0.907542    0.329147    0.359412                  1.497970   \n",
       "1      1   0.798835    1.470639   -1.635975                  0.453773   \n",
       "2      0   1.344385   -0.876626    0.935913                  1.992050   \n",
       "3      1   1.105009    0.321356    1.522401                  0.882808   \n",
       "4      0   1.595839   -0.607811    0.007075                  1.818450   \n",
       "\n",
       "   missing_energy_phi    jet1pt   jet1eta   jet1phi  jet1b-tag  ...   jet4eta  \\\n",
       "0           -0.313010  1.095531 -0.557525 -1.588230   2.173076  ... -1.138930   \n",
       "1            0.425629  1.104875  1.282322  1.381664   0.000000  ...  1.128848   \n",
       "2            0.882454  1.786066 -1.646778 -0.942383   0.000000  ... -0.678379   \n",
       "3           -1.205349  0.681466 -1.070464 -0.921871   0.000000  ... -0.373566   \n",
       "4           -0.111906  0.847550 -0.566437  1.581239   2.173076  ... -0.654227   \n",
       "\n",
       "    jet4phi  jet4b-tag      m_jj     m_jjj      m_lv     m_jlv      m_bb  \\\n",
       "0 -0.000819   0.000000  0.302220  0.833048  0.985700  0.978098  0.779732   \n",
       "1  0.900461   0.000000  0.909753  1.108330  0.985692  0.951331  0.803252   \n",
       "2 -1.360356   0.000000  0.946652  1.028704  0.998656  0.728281  0.869200   \n",
       "3  0.113041   0.000000  0.755856  1.361057  0.986610  0.838085  1.133295   \n",
       "4 -1.274345   3.101961  0.823761  0.938191  0.971758  0.789176  0.430553   \n",
       "\n",
       "      m_wbb    m_wwbb  \n",
       "0  0.992356  0.798343  \n",
       "1  0.865924  0.780118  \n",
       "2  1.026736  0.957904  \n",
       "3  0.872245  0.808487  \n",
       "4  0.961357  0.957818  \n",
       "\n",
       "[5 rows x 29 columns]"
      ]
     },
     "execution_count": 4,
     "metadata": {},
     "output_type": "execute_result"
    }
   ],
   "source": [
    "df.head()"
   ]
  },
  {
   "cell_type": "markdown",
   "metadata": {},
   "source": [
    "### Features that represent the event\n",
    "-----"
   ]
  },
  {
   "cell_type": "code",
   "execution_count": 5,
   "metadata": {},
   "outputs": [
    {
     "data": {
      "text/plain": [
       "Index(['class', 'lepton_pT', 'lepton_eta', 'lepton_phi',\n",
       "       'missing_energy_magnitude', 'missing_energy_phi', 'jet1pt', 'jet1eta',\n",
       "       'jet1phi', 'jet1b-tag', 'jet2pt', 'jet2eta', 'jet2phi', 'jet2b-tag',\n",
       "       'jet3pt', 'jet3eta', 'jet3phi', 'jet3b-tag', 'jet4pt', 'jet4eta',\n",
       "       'jet4phi', 'jet4b-tag', 'm_jj', 'm_jjj', 'm_lv', 'm_jlv', 'm_bb',\n",
       "       'm_wbb', 'm_wwbb'],\n",
       "      dtype='object')"
      ]
     },
     "execution_count": 5,
     "metadata": {},
     "output_type": "execute_result"
    }
   ],
   "source": [
    "df.columns"
   ]
  },
  {
   "cell_type": "code",
   "execution_count": 6,
   "metadata": {},
   "outputs": [
    {
     "data": {
      "text/html": [
       "<div>\n",
       "<style scoped>\n",
       "    .dataframe tbody tr th:only-of-type {\n",
       "        vertical-align: middle;\n",
       "    }\n",
       "\n",
       "    .dataframe tbody tr th {\n",
       "        vertical-align: top;\n",
       "    }\n",
       "\n",
       "    .dataframe thead th {\n",
       "        text-align: right;\n",
       "    }\n",
       "</style>\n",
       "<table border=\"1\" class=\"dataframe\">\n",
       "  <thead>\n",
       "    <tr style=\"text-align: right;\">\n",
       "      <th></th>\n",
       "      <th>class</th>\n",
       "      <th>lepton_pT</th>\n",
       "      <th>lepton_eta</th>\n",
       "      <th>lepton_phi</th>\n",
       "      <th>missing_energy_magnitude</th>\n",
       "      <th>missing_energy_phi</th>\n",
       "      <th>jet1pt</th>\n",
       "      <th>jet1eta</th>\n",
       "      <th>jet1phi</th>\n",
       "      <th>jet1b-tag</th>\n",
       "      <th>...</th>\n",
       "      <th>jet4eta</th>\n",
       "      <th>jet4phi</th>\n",
       "      <th>jet4b-tag</th>\n",
       "      <th>m_jj</th>\n",
       "      <th>m_jjj</th>\n",
       "      <th>m_lv</th>\n",
       "      <th>m_jlv</th>\n",
       "      <th>m_bb</th>\n",
       "      <th>m_wbb</th>\n",
       "      <th>m_wwbb</th>\n",
       "    </tr>\n",
       "  </thead>\n",
       "  <tbody>\n",
       "    <tr>\n",
       "      <th>count</th>\n",
       "      <td>98049.000000</td>\n",
       "      <td>98049.000000</td>\n",
       "      <td>98049.000000</td>\n",
       "      <td>98049.000000</td>\n",
       "      <td>98049.000000</td>\n",
       "      <td>98049.000000</td>\n",
       "      <td>98049.000000</td>\n",
       "      <td>98049.000000</td>\n",
       "      <td>98049.000000</td>\n",
       "      <td>98049.000000</td>\n",
       "      <td>...</td>\n",
       "      <td>98049.000000</td>\n",
       "      <td>98049.000000</td>\n",
       "      <td>98049.000000</td>\n",
       "      <td>98049.000000</td>\n",
       "      <td>98049.000000</td>\n",
       "      <td>98049.000000</td>\n",
       "      <td>98049.000000</td>\n",
       "      <td>98049.000000</td>\n",
       "      <td>98049.000000</td>\n",
       "      <td>98049.000000</td>\n",
       "    </tr>\n",
       "    <tr>\n",
       "      <th>mean</th>\n",
       "      <td>0.528572</td>\n",
       "      <td>0.990322</td>\n",
       "      <td>-0.003962</td>\n",
       "      <td>-0.001026</td>\n",
       "      <td>0.995363</td>\n",
       "      <td>-0.007895</td>\n",
       "      <td>0.987064</td>\n",
       "      <td>-0.003198</td>\n",
       "      <td>-0.000141</td>\n",
       "      <td>0.998506</td>\n",
       "      <td>...</td>\n",
       "      <td>-0.006840</td>\n",
       "      <td>-0.004252</td>\n",
       "      <td>0.992748</td>\n",
       "      <td>1.032689</td>\n",
       "      <td>1.023186</td>\n",
       "      <td>1.050129</td>\n",
       "      <td>1.010358</td>\n",
       "      <td>0.973207</td>\n",
       "      <td>1.032052</td>\n",
       "      <td>0.959432</td>\n",
       "    </tr>\n",
       "    <tr>\n",
       "      <th>std</th>\n",
       "      <td>0.499185</td>\n",
       "      <td>0.561796</td>\n",
       "      <td>1.004881</td>\n",
       "      <td>1.006120</td>\n",
       "      <td>0.595350</td>\n",
       "      <td>1.006840</td>\n",
       "      <td>0.473272</td>\n",
       "      <td>1.008452</td>\n",
       "      <td>1.008640</td>\n",
       "      <td>1.027324</td>\n",
       "      <td>...</td>\n",
       "      <td>1.008868</td>\n",
       "      <td>1.007205</td>\n",
       "      <td>1.396809</td>\n",
       "      <td>0.653127</td>\n",
       "      <td>0.372136</td>\n",
       "      <td>0.164565</td>\n",
       "      <td>0.398042</td>\n",
       "      <td>0.522968</td>\n",
       "      <td>0.363590</td>\n",
       "      <td>0.313487</td>\n",
       "    </tr>\n",
       "    <tr>\n",
       "      <th>min</th>\n",
       "      <td>0.000000</td>\n",
       "      <td>0.274697</td>\n",
       "      <td>-2.434976</td>\n",
       "      <td>-1.742508</td>\n",
       "      <td>0.001283</td>\n",
       "      <td>-1.743944</td>\n",
       "      <td>0.139976</td>\n",
       "      <td>-2.968735</td>\n",
       "      <td>-1.741237</td>\n",
       "      <td>0.000000</td>\n",
       "      <td>...</td>\n",
       "      <td>-2.497265</td>\n",
       "      <td>-1.742691</td>\n",
       "      <td>0.000000</td>\n",
       "      <td>0.110875</td>\n",
       "      <td>0.303144</td>\n",
       "      <td>0.133012</td>\n",
       "      <td>0.295983</td>\n",
       "      <td>0.048125</td>\n",
       "      <td>0.303350</td>\n",
       "      <td>0.350939</td>\n",
       "    </tr>\n",
       "    <tr>\n",
       "      <th>25%</th>\n",
       "      <td>0.000000</td>\n",
       "      <td>0.590936</td>\n",
       "      <td>-0.741244</td>\n",
       "      <td>-0.867492</td>\n",
       "      <td>0.575677</td>\n",
       "      <td>-0.881764</td>\n",
       "      <td>0.676336</td>\n",
       "      <td>-0.689225</td>\n",
       "      <td>-0.868096</td>\n",
       "      <td>0.000000</td>\n",
       "      <td>...</td>\n",
       "      <td>-0.724184</td>\n",
       "      <td>-0.877583</td>\n",
       "      <td>0.000000</td>\n",
       "      <td>0.791368</td>\n",
       "      <td>0.846572</td>\n",
       "      <td>0.985771</td>\n",
       "      <td>0.767491</td>\n",
       "      <td>0.674055</td>\n",
       "      <td>0.819441</td>\n",
       "      <td>0.770026</td>\n",
       "    </tr>\n",
       "    <tr>\n",
       "      <th>50%</th>\n",
       "      <td>1.000000</td>\n",
       "      <td>0.854835</td>\n",
       "      <td>-0.002976</td>\n",
       "      <td>0.002081</td>\n",
       "      <td>0.890817</td>\n",
       "      <td>-0.011585</td>\n",
       "      <td>0.892163</td>\n",
       "      <td>-0.001016</td>\n",
       "      <td>-0.004931</td>\n",
       "      <td>1.086538</td>\n",
       "      <td>...</td>\n",
       "      <td>-0.009622</td>\n",
       "      <td>-0.010253</td>\n",
       "      <td>0.000000</td>\n",
       "      <td>0.895673</td>\n",
       "      <td>0.950702</td>\n",
       "      <td>0.989737</td>\n",
       "      <td>0.917320</td>\n",
       "      <td>0.874083</td>\n",
       "      <td>0.947187</td>\n",
       "      <td>0.871170</td>\n",
       "    </tr>\n",
       "    <tr>\n",
       "      <th>75%</th>\n",
       "      <td>1.000000</td>\n",
       "      <td>1.236592</td>\n",
       "      <td>0.734318</td>\n",
       "      <td>0.868220</td>\n",
       "      <td>1.291563</td>\n",
       "      <td>0.865105</td>\n",
       "      <td>1.167534</td>\n",
       "      <td>0.683233</td>\n",
       "      <td>0.871085</td>\n",
       "      <td>2.173076</td>\n",
       "      <td>...</td>\n",
       "      <td>0.711603</td>\n",
       "      <td>0.869386</td>\n",
       "      <td>3.101961</td>\n",
       "      <td>1.026068</td>\n",
       "      <td>1.083365</td>\n",
       "      <td>1.020822</td>\n",
       "      <td>1.141703</td>\n",
       "      <td>1.140051</td>\n",
       "      <td>1.139135</td>\n",
       "      <td>1.057654</td>\n",
       "    </tr>\n",
       "    <tr>\n",
       "      <th>max</th>\n",
       "      <td>1.000000</td>\n",
       "      <td>7.805887</td>\n",
       "      <td>2.433894</td>\n",
       "      <td>1.743236</td>\n",
       "      <td>7.998711</td>\n",
       "      <td>1.743229</td>\n",
       "      <td>7.064657</td>\n",
       "      <td>2.969674</td>\n",
       "      <td>1.741454</td>\n",
       "      <td>2.173076</td>\n",
       "      <td>...</td>\n",
       "      <td>2.498009</td>\n",
       "      <td>1.743372</td>\n",
       "      <td>3.101961</td>\n",
       "      <td>18.428827</td>\n",
       "      <td>10.038273</td>\n",
       "      <td>4.565248</td>\n",
       "      <td>7.442589</td>\n",
       "      <td>11.994177</td>\n",
       "      <td>7.318191</td>\n",
       "      <td>6.015647</td>\n",
       "    </tr>\n",
       "  </tbody>\n",
       "</table>\n",
       "<p>8 rows × 29 columns</p>\n",
       "</div>"
      ],
      "text/plain": [
       "              class     lepton_pT    lepton_eta    lepton_phi  \\\n",
       "count  98049.000000  98049.000000  98049.000000  98049.000000   \n",
       "mean       0.528572      0.990322     -0.003962     -0.001026   \n",
       "std        0.499185      0.561796      1.004881      1.006120   \n",
       "min        0.000000      0.274697     -2.434976     -1.742508   \n",
       "25%        0.000000      0.590936     -0.741244     -0.867492   \n",
       "50%        1.000000      0.854835     -0.002976      0.002081   \n",
       "75%        1.000000      1.236592      0.734318      0.868220   \n",
       "max        1.000000      7.805887      2.433894      1.743236   \n",
       "\n",
       "       missing_energy_magnitude  missing_energy_phi        jet1pt  \\\n",
       "count              98049.000000        98049.000000  98049.000000   \n",
       "mean                   0.995363           -0.007895      0.987064   \n",
       "std                    0.595350            1.006840      0.473272   \n",
       "min                    0.001283           -1.743944      0.139976   \n",
       "25%                    0.575677           -0.881764      0.676336   \n",
       "50%                    0.890817           -0.011585      0.892163   \n",
       "75%                    1.291563            0.865105      1.167534   \n",
       "max                    7.998711            1.743229      7.064657   \n",
       "\n",
       "            jet1eta       jet1phi     jet1b-tag  ...       jet4eta  \\\n",
       "count  98049.000000  98049.000000  98049.000000  ...  98049.000000   \n",
       "mean      -0.003198     -0.000141      0.998506  ...     -0.006840   \n",
       "std        1.008452      1.008640      1.027324  ...      1.008868   \n",
       "min       -2.968735     -1.741237      0.000000  ...     -2.497265   \n",
       "25%       -0.689225     -0.868096      0.000000  ...     -0.724184   \n",
       "50%       -0.001016     -0.004931      1.086538  ...     -0.009622   \n",
       "75%        0.683233      0.871085      2.173076  ...      0.711603   \n",
       "max        2.969674      1.741454      2.173076  ...      2.498009   \n",
       "\n",
       "            jet4phi     jet4b-tag          m_jj         m_jjj          m_lv  \\\n",
       "count  98049.000000  98049.000000  98049.000000  98049.000000  98049.000000   \n",
       "mean      -0.004252      0.992748      1.032689      1.023186      1.050129   \n",
       "std        1.007205      1.396809      0.653127      0.372136      0.164565   \n",
       "min       -1.742691      0.000000      0.110875      0.303144      0.133012   \n",
       "25%       -0.877583      0.000000      0.791368      0.846572      0.985771   \n",
       "50%       -0.010253      0.000000      0.895673      0.950702      0.989737   \n",
       "75%        0.869386      3.101961      1.026068      1.083365      1.020822   \n",
       "max        1.743372      3.101961     18.428827     10.038273      4.565248   \n",
       "\n",
       "              m_jlv          m_bb         m_wbb        m_wwbb  \n",
       "count  98049.000000  98049.000000  98049.000000  98049.000000  \n",
       "mean       1.010358      0.973207      1.032052      0.959432  \n",
       "std        0.398042      0.522968      0.363590      0.313487  \n",
       "min        0.295983      0.048125      0.303350      0.350939  \n",
       "25%        0.767491      0.674055      0.819441      0.770026  \n",
       "50%        0.917320      0.874083      0.947187      0.871170  \n",
       "75%        1.141703      1.140051      1.139135      1.057654  \n",
       "max        7.442589     11.994177      7.318191      6.015647  \n",
       "\n",
       "[8 rows x 29 columns]"
      ]
     },
     "execution_count": 6,
     "metadata": {},
     "output_type": "execute_result"
    }
   ],
   "source": [
    "df.describe()"
   ]
  },
  {
   "cell_type": "code",
   "execution_count": 7,
   "metadata": {},
   "outputs": [
    {
     "data": {
      "text/plain": [
       "1    51826\n",
       "0    46223\n",
       "Name: class, dtype: int64"
      ]
     },
     "execution_count": 7,
     "metadata": {},
     "output_type": "execute_result"
    }
   ],
   "source": [
    "df[\"class\"].value_counts()"
   ]
  },
  {
   "cell_type": "markdown",
   "metadata": {},
   "source": [
    "## 3. Using RandomForest\n",
    "-----"
   ]
  },
  {
   "cell_type": "code",
   "execution_count": 8,
   "metadata": {},
   "outputs": [],
   "source": [
    "from sklearn.ensemble import RandomForestClassifier\n",
    "from sklearn.model_selection import train_test_split\n",
    "from sklearn.metrics import classification_report"
   ]
  },
  {
   "cell_type": "code",
   "execution_count": 9,
   "metadata": {},
   "outputs": [],
   "source": [
    "y = df[\"class\"]\n",
    "X = df.iloc[:,1:]\n",
    "\n",
    "from sklearn.preprocessing import MinMaxScaler, StandardScaler\n",
    "\n",
    "scaler = MinMaxScaler()\n",
    "scaler.fit(X)\n",
    "X_scaled = scaler.transform(X)\n",
    "\n",
    "scaler = StandardScaler()\n",
    "scaled_data = scaler.fit_transform(X)\n"
   ]
  },
  {
   "cell_type": "code",
   "execution_count": 10,
   "metadata": {},
   "outputs": [],
   "source": [
    "X_train, X_test, y_train, y_test = train_test_split(scaled_data,y, test_size=0.2, random_state=0)"
   ]
  },
  {
   "cell_type": "code",
   "execution_count": 11,
   "metadata": {},
   "outputs": [
    {
     "data": {
      "text/plain": [
       "RandomForestClassifier()"
      ]
     },
     "execution_count": 11,
     "metadata": {},
     "output_type": "execute_result"
    }
   ],
   "source": [
    "clf = RandomForestClassifier(n_estimators=100)\n",
    "clf.fit(X_train, y_train)"
   ]
  },
  {
   "cell_type": "code",
   "execution_count": 12,
   "metadata": {},
   "outputs": [],
   "source": [
    "y_pred_prob = clf.predict_proba(X_test)\n",
    "\n",
    "y_pred = clf.predict(X_test)"
   ]
  },
  {
   "cell_type": "code",
   "execution_count": 13,
   "metadata": {},
   "outputs": [
    {
     "name": "stdout",
     "output_type": "stream",
     "text": [
      "F1: 0.74  -- prec: 0.73  -- recall: 0.74  -- acc: 0.72\n"
     ]
    }
   ],
   "source": [
    "from sklearn.metrics import roc_curve, auc, confusion_matrix, plot_confusion_matrix\n",
    "from sklearn.metrics import precision_score, recall_score, accuracy_score, f1_score\n",
    "\n",
    "\n",
    "fpr, tpr, ths = roc_curve(y_test,  y_pred)\n",
    "auc_ = auc(fpr, tpr)\n",
    "f1 = f1_score(y_test,  (y_pred>.5))\n",
    "prec = precision_score(y_test,  (y_pred>.5))\n",
    "rec = recall_score(y_test,  (y_pred>.5))\n",
    "acc = accuracy_score(y_test,  (y_pred>.5))\n",
    "print(\"F1: %.2f\" %f1 , \" -- prec: %.2f\" %prec, \" -- recall: %.2f\" %rec, \" -- acc: %.2f\" %acc)\n"
   ]
  },
  {
   "cell_type": "code",
   "execution_count": 14,
   "metadata": {},
   "outputs": [
    {
     "name": "stdout",
     "output_type": "stream",
     "text": [
      "[[6430 2852]\n",
      " [2653 7675]]\n"
     ]
    },
    {
     "data": {
      "image/png": "[encoded data removed]",
      "text/plain": [
       "<Figure size 432x288 with 2 Axes>"
      ]
     },
     "metadata": {
      "needs_background": "light"
     },
     "output_type": "display_data"
    }
   ],
   "source": [
    "cm = confusion_matrix(y_test, y_pred)\n",
    "print(cm)\n",
    "plot_confusion_matrix(clf, X_test, y_test,cmap=plt.cm.Blues)  \n",
    "plt.show()  "
   ]
  },
  {
   "cell_type": "markdown",
   "metadata": {},
   "source": [
    "- Precicion:\n",
    "$$Prec = \\frac{TP}{TP + FP}$$"
   ]
  },
  {
   "cell_type": "code",
   "execution_count": 15,
   "metadata": {},
   "outputs": [
    {
     "data": {
      "text/plain": [
       "0.7290776099553529"
      ]
     },
     "execution_count": 15,
     "metadata": {},
     "output_type": "execute_result"
    }
   ],
   "source": [
    "precision_score(y_test,y_pred)"
   ]
  },
  {
   "cell_type": "markdown",
   "metadata": {},
   "source": [
    "- Recall:\n",
    "$$Rec = \\frac{TP}{TP + FN}$$"
   ]
  },
  {
   "cell_type": "code",
   "execution_count": 16,
   "metadata": {},
   "outputs": [
    {
     "data": {
      "text/plain": [
       "0.7431254841208366"
      ]
     },
     "execution_count": 16,
     "metadata": {},
     "output_type": "execute_result"
    }
   ],
   "source": [
    "recall_score(y_test, y_pred)"
   ]
  },
  {
   "cell_type": "markdown",
   "metadata": {},
   "source": [
    "- F1 score: \n",
    "$$F1 = 2\\frac{prec\\, rec}{prec + rec}$$"
   ]
  },
  {
   "cell_type": "code",
   "execution_count": 17,
   "metadata": {},
   "outputs": [
    {
     "data": {
      "text/plain": [
       "0.7360345240949413"
      ]
     },
     "execution_count": 17,
     "metadata": {},
     "output_type": "execute_result"
    }
   ],
   "source": [
    "f1_score(y_test, y_pred)"
   ]
  },
  {
   "cell_type": "markdown",
   "metadata": {},
   "source": [
    "- Accuracy:\n",
    "$$Acc = \\frac{TP + TN}{TP + TN +FP +FN}$$"
   ]
  },
  {
   "cell_type": "code",
   "execution_count": 18,
   "metadata": {},
   "outputs": [
    {
     "data": {
      "text/plain": [
       "0.7192758796532381"
      ]
     },
     "execution_count": 18,
     "metadata": {},
     "output_type": "execute_result"
    }
   ],
   "source": [
    "accuracy_score(y_test, y_pred)"
   ]
  },
  {
   "cell_type": "code",
   "execution_count": 19,
   "metadata": {},
   "outputs": [
    {
     "data": {
      "image/png": "[encoded data removed]",
      "text/plain": [
       "<Figure size 432x288 with 1 Axes>"
      ]
     },
     "metadata": {
      "needs_background": "light"
     },
     "output_type": "display_data"
    }
   ],
   "source": [
    "plt.plot(fpr,tpr, label='ROC curve (area = %.2f)' %auc_)\n",
    "plt.ylabel('True Positive Rate')\n",
    "plt.xlabel('False Positive Rate')\n",
    "plt.legend()\n",
    "plt.grid()\n",
    "plt.show()"
   ]
  },
  {
   "cell_type": "code",
   "execution_count": 20,
   "metadata": {},
   "outputs": [],
   "source": [
    "d = classification_report(y_test, y_pred,output_dict=True)"
   ]
  },
  {
   "cell_type": "code",
   "execution_count": 21,
   "metadata": {},
   "outputs": [
    {
     "data": {
      "text/html": [
       "<div>\n",
       "<style scoped>\n",
       "    .dataframe tbody tr th:only-of-type {\n",
       "        vertical-align: middle;\n",
       "    }\n",
       "\n",
       "    .dataframe tbody tr th {\n",
       "        vertical-align: top;\n",
       "    }\n",
       "\n",
       "    .dataframe thead th {\n",
       "        text-align: right;\n",
       "    }\n",
       "</style>\n",
       "<table border=\"1\" class=\"dataframe\">\n",
       "  <thead>\n",
       "    <tr style=\"text-align: right;\">\n",
       "      <th></th>\n",
       "      <th>0</th>\n",
       "      <th>1</th>\n",
       "      <th>accuracy</th>\n",
       "      <th>macro avg</th>\n",
       "      <th>weighted avg</th>\n",
       "    </tr>\n",
       "  </thead>\n",
       "  <tbody>\n",
       "    <tr>\n",
       "      <th>precision</th>\n",
       "      <td>0.707916</td>\n",
       "      <td>0.729078</td>\n",
       "      <td>0.719276</td>\n",
       "      <td>0.718497</td>\n",
       "      <td>0.719061</td>\n",
       "    </tr>\n",
       "    <tr>\n",
       "      <th>recall</th>\n",
       "      <td>0.692739</td>\n",
       "      <td>0.743125</td>\n",
       "      <td>0.719276</td>\n",
       "      <td>0.717932</td>\n",
       "      <td>0.719276</td>\n",
       "    </tr>\n",
       "    <tr>\n",
       "      <th>f1-score</th>\n",
       "      <td>0.700245</td>\n",
       "      <td>0.736035</td>\n",
       "      <td>0.719276</td>\n",
       "      <td>0.718140</td>\n",
       "      <td>0.719094</td>\n",
       "    </tr>\n",
       "    <tr>\n",
       "      <th>support</th>\n",
       "      <td>9282.000000</td>\n",
       "      <td>10328.000000</td>\n",
       "      <td>0.719276</td>\n",
       "      <td>19610.000000</td>\n",
       "      <td>19610.000000</td>\n",
       "    </tr>\n",
       "  </tbody>\n",
       "</table>\n",
       "</div>"
      ],
      "text/plain": [
       "                     0             1  accuracy     macro avg  weighted avg\n",
       "precision     0.707916      0.729078  0.719276      0.718497      0.719061\n",
       "recall        0.692739      0.743125  0.719276      0.717932      0.719276\n",
       "f1-score      0.700245      0.736035  0.719276      0.718140      0.719094\n",
       "support    9282.000000  10328.000000  0.719276  19610.000000  19610.000000"
      ]
     },
     "execution_count": 21,
     "metadata": {},
     "output_type": "execute_result"
    }
   ],
   "source": [
    "pd.DataFrame.from_dict(d)"
   ]
  },
  {
   "cell_type": "markdown",
   "metadata": {},
   "source": [
    "## ¿Is a good classification?\n",
    "- Let's see the plot of the distribution of  scores"
   ]
  },
  {
   "cell_type": "code",
   "execution_count": 22,
   "metadata": {},
   "outputs": [
    {
     "data": {
      "image/png": "[encoded data removed]",
      "text/plain": [
       "<Figure size 432x288 with 1 Axes>"
      ]
     },
     "metadata": {
      "needs_background": "light"
     },
     "output_type": "display_data"
    }
   ],
   "source": [
    "import mplhep as hep\n",
    "# Score distribution\n",
    "f, axs = plt.subplots(1, 1, sharex=True, sharey=True)\n",
    "h_sig_test, bins_sig_test = np.histogram(y_pred_prob[y_test == 1], bins=30)\n",
    "h_back_test, bins_back_test = np.histogram(y_pred_prob[y_test == 0], bins=30)\n",
    "axs.set_title(\"Random Forest Classifier\")\n",
    "hep.histplot([h_sig_test, h_back_test], bins_sig_test, ax=axs,label=[\"Test-S\", \"Test-B\"])\n",
    "axs.legend()\n",
    "axs.set_xlabel(\"Score\")\n",
    "axs.set_ylabel(\"Number of Events\")\n",
    "plt.tight_layout()\n",
    "plt.show()"
   ]
  },
  {
   "cell_type": "markdown",
   "metadata": {},
   "source": [
    "- We can observe the Random Forest is not able to separate signal from background\n",
    "- ¿How can we improve the Random Forest performance?\n"
   ]
  },
  {
   "cell_type": "code",
   "execution_count": 23,
   "metadata": {},
   "outputs": [],
   "source": [
    "# https://www.kaggle.com/code/arjunprasadsarkhel/simple-random-forest-with-hyperparameter-tuning\n",
    "n_estimators = [5,20,50,100] # number of trees in the random forest\n",
    "max_features = ['auto', 'sqrt'] # number of features in consideration at every split\n",
    "max_depth = [int(x) for x in np.linspace(10, 120, num = 12)] # maximum number of levels allowed in each decision tree\n",
    "min_samples_split = [2, 6, 10] # minimum sample number to split a node\n",
    "min_samples_leaf = [1, 3, 4] # minimum sample number that can be stored in a leaf node\n",
    "bootstrap = [True, False] # method used to sample data points\n",
    "\n",
    "random_grid = {'n_estimators': n_estimators,\n",
    "\n",
    "'max_features': max_features,\n",
    "\n",
    "'max_depth': max_depth,\n",
    "\n",
    "'min_samples_split': min_samples_split,\n",
    "\n",
    "'min_samples_leaf': min_samples_leaf,\n",
    "\n",
    "'bootstrap': bootstrap}"
   ]
  },
  {
   "cell_type": "code",
   "execution_count": 24,
   "metadata": {},
   "outputs": [],
   "source": [
    "from sklearn.model_selection import RandomizedSearchCV\n",
    "rf_random = RandomizedSearchCV(estimator = clf,param_distributions = random_grid,\n",
    "               n_iter = 100, cv = 5, verbose=2, random_state=35, n_jobs = -1)"
   ]
  },
  {
   "cell_type": "code",
   "execution_count": 25,
   "metadata": {},
   "outputs": [
    {
     "name": "stdout",
     "output_type": "stream",
     "text": [
      "Fitting 5 folds for each of 100 candidates, totalling 500 fits\n"
     ]
    },
    {
     "data": {
      "text/plain": [
       "RandomizedSearchCV(cv=5, estimator=RandomForestClassifier(), n_iter=100,\n",
       "                   n_jobs=-1,\n",
       "                   param_distributions={'bootstrap': [True, False],\n",
       "                                        'max_depth': [10, 20, 30, 40, 50, 60,\n",
       "                                                      70, 80, 90, 100, 110,\n",
       "                                                      120],\n",
       "                                        'max_features': ['auto', 'sqrt'],\n",
       "                                        'min_samples_leaf': [1, 3, 4],\n",
       "                                        'min_samples_split': [2, 6, 10],\n",
       "                                        'n_estimators': [5, 20, 50, 100]},\n",
       "                   random_state=35, verbose=2)"
      ]
     },
     "execution_count": 25,
     "metadata": {},
     "output_type": "execute_result"
    }
   ],
   "source": [
    "rf_random.fit(X_train, y_train)"
   ]
  },
  {
   "cell_type": "code",
   "execution_count": 26,
   "metadata": {},
   "outputs": [
    {
     "name": "stdout",
     "output_type": "stream",
     "text": [
      "Random grid:  {'n_estimators': [5, 20, 50, 100], 'max_features': ['auto', 'sqrt'], 'max_depth': [10, 20, 30, 40, 50, 60, 70, 80, 90, 100, 110, 120], 'min_samples_split': [2, 6, 10], 'min_samples_leaf': [1, 3, 4], 'bootstrap': [True, False]} \n",
      "\n",
      "Best Parameters:  {'n_estimators': 100, 'min_samples_split': 6, 'min_samples_leaf': 4, 'max_features': 'sqrt', 'max_depth': 120, 'bootstrap': False}  \n",
      "\n"
     ]
    }
   ],
   "source": [
    "print ('Random grid: ', random_grid, '\\n')\n",
    "# print the best parameters\n",
    "print ('Best Parameters: ', rf_random.best_params_, ' \\n')"
   ]
  },
  {
   "cell_type": "code",
   "execution_count": 27,
   "metadata": {},
   "outputs": [],
   "source": [
    "y_pred_g = rf_random.best_estimator_.predict(X_test)\n",
    "\n",
    "y_pred_prob_g = rf_random.best_estimator_.predict_proba(X_test)\n",
    "\n"
   ]
  },
  {
   "cell_type": "code",
   "execution_count": 28,
   "metadata": {},
   "outputs": [
    {
     "name": "stdout",
     "output_type": "stream",
     "text": [
      "F1: 0.74  -- prec: 0.73  -- recall: 0.75  -- acc: 0.72\n"
     ]
    }
   ],
   "source": [
    "fpr, tpr, ths = roc_curve(y_test,  y_pred_g)\n",
    "auc_ = auc(fpr, tpr)\n",
    "f1 = f1_score(y_test,  (y_pred_g>.5))\n",
    "prec = precision_score(y_test,  (y_pred_g>.5))\n",
    "rec = recall_score(y_test,  (y_pred_g>.5))\n",
    "acc = accuracy_score(y_test,  (y_pred_g>.5))\n",
    "print(\"F1: %.2f\" %f1 , \" -- prec: %.2f\" %prec, \" -- recall: %.2f\" %rec, \" -- acc: %.2f\" %acc)\n",
    "\n"
   ]
  },
  {
   "cell_type": "code",
   "execution_count": 31,
   "metadata": {},
   "outputs": [
    {
     "name": "stdout",
     "output_type": "stream",
     "text": [
      "[[6357 2925]\n",
      " [2597 7731]]\n"
     ]
    },
    {
     "data": {
      "image/png": "[encoded data removed]",
      "text/plain": [
       "<Figure size 432x288 with 2 Axes>"
      ]
     },
     "metadata": {
      "needs_background": "light"
     },
     "output_type": "display_data"
    }
   ],
   "source": [
    "cm = confusion_matrix(y_test, y_pred_g)\n",
    "print(cm)\n",
    "plot_confusion_matrix(rf_random.best_estimator_, X_test, y_test,cmap=plt.cm.Blues)  \n",
    "plt.show()  "
   ]
  },
  {
   "cell_type": "code",
   "execution_count": 32,
   "metadata": {},
   "outputs": [
    {
     "data": {
      "image/png": "[encoded data removed]",
      "text/plain": [
       "<Figure size 432x288 with 1 Axes>"
      ]
     },
     "metadata": {
      "needs_background": "light"
     },
     "output_type": "display_data"
    }
   ],
   "source": [
    "plt.plot(fpr,tpr, label='ROC curve (area = %.2f)' %auc_)\n",
    "plt.ylabel('True Positive Rate')\n",
    "plt.xlabel('False Positive Rate')\n",
    "plt.legend()\n",
    "plt.grid()\n",
    "plt.show()"
   ]
  },
  {
   "cell_type": "code",
   "execution_count": 33,
   "metadata": {},
   "outputs": [],
   "source": [
    "d = classification_report(y_test, y_pred_g,output_dict=True)"
   ]
  },
  {
   "cell_type": "code",
   "execution_count": 34,
   "metadata": {},
   "outputs": [
    {
     "data": {
      "text/html": [
       "<div>\n",
       "<style scoped>\n",
       "    .dataframe tbody tr th:only-of-type {\n",
       "        vertical-align: middle;\n",
       "    }\n",
       "\n",
       "    .dataframe tbody tr th {\n",
       "        vertical-align: top;\n",
       "    }\n",
       "\n",
       "    .dataframe thead th {\n",
       "        text-align: right;\n",
       "    }\n",
       "</style>\n",
       "<table border=\"1\" class=\"dataframe\">\n",
       "  <thead>\n",
       "    <tr style=\"text-align: right;\">\n",
       "      <th></th>\n",
       "      <th>0</th>\n",
       "      <th>1</th>\n",
       "      <th>accuracy</th>\n",
       "      <th>macro avg</th>\n",
       "      <th>weighted avg</th>\n",
       "    </tr>\n",
       "  </thead>\n",
       "  <tbody>\n",
       "    <tr>\n",
       "      <th>precision</th>\n",
       "      <td>0.709962</td>\n",
       "      <td>0.725507</td>\n",
       "      <td>0.718409</td>\n",
       "      <td>0.717734</td>\n",
       "      <td>0.718149</td>\n",
       "    </tr>\n",
       "    <tr>\n",
       "      <th>recall</th>\n",
       "      <td>0.684874</td>\n",
       "      <td>0.748548</td>\n",
       "      <td>0.718409</td>\n",
       "      <td>0.716711</td>\n",
       "      <td>0.718409</td>\n",
       "    </tr>\n",
       "    <tr>\n",
       "      <th>f1-score</th>\n",
       "      <td>0.697192</td>\n",
       "      <td>0.736847</td>\n",
       "      <td>0.718409</td>\n",
       "      <td>0.717020</td>\n",
       "      <td>0.718077</td>\n",
       "    </tr>\n",
       "    <tr>\n",
       "      <th>support</th>\n",
       "      <td>9282.000000</td>\n",
       "      <td>10328.000000</td>\n",
       "      <td>0.718409</td>\n",
       "      <td>19610.000000</td>\n",
       "      <td>19610.000000</td>\n",
       "    </tr>\n",
       "  </tbody>\n",
       "</table>\n",
       "</div>"
      ],
      "text/plain": [
       "                     0             1  accuracy     macro avg  weighted avg\n",
       "precision     0.709962      0.725507  0.718409      0.717734      0.718149\n",
       "recall        0.684874      0.748548  0.718409      0.716711      0.718409\n",
       "f1-score      0.697192      0.736847  0.718409      0.717020      0.718077\n",
       "support    9282.000000  10328.000000  0.718409  19610.000000  19610.000000"
      ]
     },
     "execution_count": 34,
     "metadata": {},
     "output_type": "execute_result"
    }
   ],
   "source": [
    "pd.DataFrame.from_dict(d)"
   ]
  },
  {
   "cell_type": "code",
   "execution_count": 35,
   "metadata": {},
   "outputs": [
    {
     "data": {
      "image/png": "[encoded data removed]",
      "text/plain": [
       "<Figure size 432x288 with 1 Axes>"
      ]
     },
     "metadata": {
      "needs_background": "light"
     },
     "output_type": "display_data"
    }
   ],
   "source": [
    "import mplhep as hep\n",
    "# Score distribution\n",
    "f, axs = plt.subplots(1, 1, sharex=True, sharey=True)\n",
    "h_sig_test, bins_sig_test = np.histogram(y_pred_prob_g[y_test == 1], bins=30)\n",
    "h_back_test, bins_back_test = np.histogram(y_pred_prob_g[y_test == 0], bins=30)\n",
    "axs.set_title(\"Random Forest Classifier\")\n",
    "hep.histplot([h_sig_test, h_back_test], bins_sig_test, ax=axs,label=[\"Test-S\", \"Test-B\"])\n",
    "axs.legend()\n",
    "axs.set_xlabel(\"Score\")\n",
    "axs.set_ylabel(\"Number of Events\")\n",
    "plt.tight_layout()\n",
    "plt.show()"
   ]
  },
  {
   "cell_type": "code",
   "execution_count": null,
   "metadata": {},
   "outputs": [],
   "source": []
  }
 ],
 "metadata": {
  "kernelspec": {
   "display_name": "Python 3",
   "language": "python",
   "name": "python3"
  },
  "language_info": {
   "codemirror_mode": {
    "name": "ipython",
    "version": 3
   },
   "file_extension": ".py",
   "mimetype": "text/x-python",
   "name": "python",
   "nbconvert_exporter": "python",
   "pygments_lexer": "ipython3",
   "version": "3.8.10"
  }
 },
 "nbformat": 4,
 "nbformat_minor": 2
}
