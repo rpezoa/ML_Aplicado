{
 "cells": [
  {
   "cell_type": "markdown",
   "id": "d5bbf139",
   "metadata": {},
   "source": [
    "# Generation of training and testing data from models\n",
    "****\n",
    "- Data source: Dr. Michel Curé and Catalina Arcos, IFA UV\n",
    "- Each model is stored in a file with a name like: \"t4000g20v10.dat\", where\n",
    " - t is the effective temperature: 4000 [K]\n",
    " - g is 10 times the logarithm of the gravity in [cm/seg^2]: 20/10 = 2.0\n",
    " - v_rot is the rotational velocity in [km/seg]: 10\n",
    " \n",
    "- For this analysis we will consider:\n",
    " - v_rot >= 100\n",
    " - t_eff >= 15000\n",
    " - wavelength range [4460, 4480]\n",
    "\n",
    "- Note that the y axis is the normalized flux\n"
   ]
  },
  {
   "cell_type": "markdown",
   "id": "1514735f",
   "metadata": {},
   "source": [
    "## Needed libraries"
   ]
  },
  {
   "cell_type": "code",
   "execution_count": 1,
   "id": "7b8af453",
   "metadata": {},
   "outputs": [],
   "source": [
    "import glob\n",
    "import numpy as np\n",
    "import pandas as pd\n",
    "from matplotlib import pyplot as plt\n",
    "import shutil\n",
    "\n",
    "from sklearn.model_selection import train_test_split\n"
   ]
  },
  {
   "cell_type": "markdown",
   "id": "ff6e1c6c",
   "metadata": {},
   "source": [
    "## Functions"
   ]
  },
  {
   "cell_type": "code",
   "execution_count": 2,
   "id": "070638e5",
   "metadata": {},
   "outputs": [],
   "source": [
    "def string2params(string, show=True):\n",
    "    s1 = string.partition(\"g\")\n",
    "    t = s1[0][1:]\n",
    "    s2 = s1[2].partition(\"v\")\n",
    "    g = s2[0]\n",
    "    v = s2[-1]\n",
    "    if show:\n",
    "        print(s1)\n",
    "        print(\"t:\",t)\n",
    "        print(s2)\n",
    "        print(\"g: \",float(g)/10)\n",
    "        print(\"v:\", v)\n",
    "    return float(t), float(g)/10, float(v)"
   ]
  },
  {
   "cell_type": "markdown",
   "id": "f1604739",
   "metadata": {},
   "source": [
    "## Files list"
   ]
  },
  {
   "cell_type": "code",
   "execution_count": 3,
   "id": "416941eb",
   "metadata": {},
   "outputs": [
    {
     "name": "stdout",
     "output_type": "stream",
     "text": [
      "Number of files in models 3875\n",
      "5 first files: \n",
      " ['filtered_wv_models/f_t17000g30v170.dat', 'filtered_wv_models/f_t19000g45v220.dat', 'filtered_wv_models/f_t30000g45v230.dat', 'filtered_wv_models/f_t38000g45v300.dat', 'filtered_wv_models/f_t20000g30v260.dat']\n"
     ]
    }
   ],
   "source": [
    "files = glob.glob('filtered_wv_models/*')\n",
    "m = len(files)\n",
    "print(\"Number of files in models\", m)\n",
    "print(\"5 first files: \\n\", files[0:5])\n"
   ]
  },
  {
   "cell_type": "markdown",
   "id": "487add32",
   "metadata": {},
   "source": [
    "## Building X an y matrices\n",
    "*****"
   ]
  },
  {
   "cell_type": "code",
   "execution_count": 4,
   "id": "7c341313",
   "metadata": {},
   "outputs": [
    {
     "name": "stdout",
     "output_type": "stream",
     "text": [
      "--> X has dimension 3875  x 201\n",
      "--> y has diemsnion 3875  x 3\n"
     ]
    },
    {
     "data": {
      "text/plain": [
       "(201,)"
      ]
     },
     "metadata": {},
     "output_type": "display_data"
    },
    {
     "name": "stdout",
     "output_type": "stream",
     "text": [
      "Num. of points in x axis:  201\n"
     ]
    }
   ],
   "source": [
    "print(\"--> X has dimension\", m, \" x 201\")\n",
    "print(\"--> y has diemsnion\", m, \" x 3\")\n",
    "\n",
    "y = np.zeros((m,3))\n",
    "df = pd.read_csv(files[0], sep=\" \", header=None)\n",
    "x_points = df[0].values\n",
    "n_points, n_columns = df.shape\n",
    "display(df[1].values.shape)\n",
    "print(\"Num. of points in x axis: \", n_points)\n",
    "\n"
   ]
  },
  {
   "cell_type": "code",
   "execution_count": 7,
   "id": "b97b52e3",
   "metadata": {
    "scrolled": false
   },
   "outputs": [],
   "source": [
    "# X matrix contains the spectral lines\n",
    "X = np.zeros((m,n_points))\n",
    "# y matrix contains the labels of each spectral line\n",
    "y = np.zeros((m,3))\n",
    "for i,name in enumerate(files):\n",
    "    file_name = name.split(\"/\")[-1].split(\".\")[0]\n",
    "    #print(file_name)\n",
    "    df = pd.read_csv(name, sep=\" \", header=None)\n",
    "    #print(file_name.split(\"_\")[1])\n",
    "    t,g,v = string2params(file_name.split(\"_\")[1],show=False)\n",
    "    X[i,:] = df[1].values\n",
    "    y[i] = t,g,v\n",
    "    #print(\"----\")"
   ]
  },
  {
   "cell_type": "code",
   "execution_count": 8,
   "id": "77184ef3",
   "metadata": {},
   "outputs": [],
   "source": [
    "from sklearn.preprocessing import MinMaxScaler, StandardScaler\n",
    "from sklearn.model_selection import train_test_split\n",
    "from sklearn.metrics import classification_report, plot_confusion_matrix\n",
    "\n",
    "\n",
    "# ¿Será necesario normalizar X?\n",
    "########\n",
    "#scaler = StandardScaler()\n",
    "#scaler.fit(X)\n",
    "#X_s = scaler.transform(X)\n",
    "\n",
    "# Normalización de los labels\n",
    "scaler2 = StandardScaler()\n",
    "scaler2.fit(y)\n",
    "y_s = scaler2.transform(y)"
   ]
  },
  {
   "cell_type": "markdown",
   "id": "158b3fcc",
   "metadata": {},
   "source": [
    "## Training, testing and validation sets"
   ]
  },
  {
   "cell_type": "code",
   "execution_count": 9,
   "id": "2a81076b",
   "metadata": {},
   "outputs": [],
   "source": [
    "def train_val_test_split(X, y, train_size, val_size, test_size, random_state = 1):\n",
    "    if train_size + val_size + test_size != 1.0:\n",
    "        print(\"Incorrect sizes!\")\n",
    "        return None\n",
    "    \n",
    "    X_tmp, X_test, y_tmp, y_test = train_test_split(X, y, test_size = test_size, random_state=random_state)\n",
    "    X_train, X_val, y_train, y_val = train_test_split(X_tmp, y_tmp, test_size = val_size/(test_size + train_size), random_state=random_state)\n",
    "    return X_train, X_val, X_test, y_train, y_val, y_test"
   ]
  },
  {
   "cell_type": "code",
   "execution_count": 10,
   "id": "266c7d96",
   "metadata": {},
   "outputs": [],
   "source": [
    "X_train, X_val, X_test, y_train, y_val, y_test = train_val_test_split(X, y_s, .8, .1, .1)"
   ]
  },
  {
   "cell_type": "code",
   "execution_count": 11,
   "id": "59a828ef",
   "metadata": {},
   "outputs": [
    {
     "name": "stdout",
     "output_type": "stream",
     "text": [
      "(3099, 201) (3099, 3)\n",
      "(388, 201) (388, 3)\n",
      "(388, 201) (388, 3)\n"
     ]
    }
   ],
   "source": [
    "print(X_train.shape, y_train.shape)\n",
    "print(X_test.shape, y_test.shape)\n",
    "print(X_val.shape, y_val.shape)"
   ]
  },
  {
   "cell_type": "markdown",
   "id": "a44cf7c8",
   "metadata": {},
   "source": [
    "# Convolutional neural network"
   ]
  },
  {
   "cell_type": "code",
   "execution_count": 12,
   "id": "90614e20",
   "metadata": {},
   "outputs": [],
   "source": [
    "# about activation functions: https://datascience.stackexchange.com/questions/47751/what-activation-function-should-i-use-for-a-specific-regression-problem"
   ]
  },
  {
   "cell_type": "code",
   "execution_count": 13,
   "id": "c1941b5e",
   "metadata": {},
   "outputs": [],
   "source": [
    "# https://colab.research.google.com/drive/1zjh0tUPYJYgJJunpLC9fW5uf--O0LKeZ?usp=sharing#scrollTo=ud_tq1A0Ffvl\n",
    "\n",
    "time_steps = X.shape[1]\n",
    "input_dimension = 1"
   ]
  },
  {
   "cell_type": "code",
   "execution_count": 14,
   "id": "281627e8",
   "metadata": {},
   "outputs": [],
   "source": [
    "sample_size = X_train.shape[0]\n",
    "X_train_reshaped = X_train.reshape((sample_size, time_steps, input_dimension))\n",
    "sample_size = X_val.shape[0]\n",
    "X_val_reshaped = X_val.reshape((sample_size, time_steps, input_dimension))\n",
    "sample_size = X_test.shape[0]\n",
    "X_test_reshaped = X_test.reshape((sample_size, time_steps, input_dimension))"
   ]
  },
  {
   "cell_type": "code",
   "execution_count": 15,
   "id": "4cdfad1e",
   "metadata": {},
   "outputs": [
    {
     "name": "stdout",
     "output_type": "stream",
     "text": [
      "(3099, 201, 1)\n",
      "(388, 201, 1)\n",
      "(388, 201, 1)\n"
     ]
    }
   ],
   "source": [
    "print(X_train_reshaped.shape)\n",
    "print(X_val_reshaped.shape)\n",
    "print(X_test_reshaped.shape)"
   ]
  },
  {
   "cell_type": "markdown",
   "id": "e94553e2",
   "metadata": {},
   "source": [
    "# Histograms\n",
    "*****\n"
   ]
  },
  {
   "cell_type": "code",
   "execution_count": 16,
   "id": "749587ea",
   "metadata": {},
   "outputs": [],
   "source": [
    "def histograms_params(train, test, val, bins, labels, title=None):\n",
    "    plt.figure()\n",
    "    plt.hist(train, bins='auto', label=labels[0])\n",
    "    if val is not None:\n",
    "        plt.hist(val, bins='auto', label=labels[1])\n",
    "    if test is not None:\n",
    "        plt.hist(test, bins='auto', label=labels[2], alpha=0.3)\n",
    "    \n",
    "    if title is not None:\n",
    "        plt.title(title)\n",
    "    plt.legend(loc=\"best\")\n",
    "    plt.show()\n",
    "    \n",
    "\n",
    "import seaborn as sns\n",
    "sns.set_theme(style=\"whitegrid\")\n"
   ]
  },
  {
   "cell_type": "code",
   "execution_count": 17,
   "id": "0d430cf7",
   "metadata": {},
   "outputs": [
    {
     "data": {
      "image/png": "[encoded data removed]",
      "text/plain": [
       "<Figure size 432x288 with 1 Axes>"
      ]
     },
     "metadata": {
      "needs_background": "light"
     },
     "output_type": "display_data"
    },
    {
     "data": {
      "image/png": "[encoded data removed]",
      "text/plain": [
       "<Figure size 432x288 with 1 Axes>"
      ]
     },
     "metadata": {
      "needs_background": "light"
     },
     "output_type": "display_data"
    },
    {
     "data": {
      "image/png": "[encoded data removed]",
      "text/plain": [
       "<Figure size 432x288 with 1 Axes>"
      ]
     },
     "metadata": {
      "needs_background": "light"
     },
     "output_type": "display_data"
    }
   ],
   "source": [
    "histograms_params(y_train[:,0], y_val[:,0], y_test[:,0], 0, [\"train\", \"test\", \"val\"])\n",
    "histograms_params(y_train[:,1], y_val[:,1], y_test[:,1], 0, [\"train\", \"test\", \"val\"], \"Log g\")\n",
    "histograms_params(y_train[:,2], y_val[:,2], y_test[:,2], 0, [\"train\", \"test\", \"val\"], \"v rot\")"
   ]
  },
  {
   "cell_type": "code",
   "execution_count": 18,
   "id": "0c3df83b",
   "metadata": {},
   "outputs": [],
   "source": [
    "import tensorflow as tf\n",
    "import keras"
   ]
  },
  {
   "cell_type": "markdown",
   "id": "a71be514",
   "metadata": {},
   "source": [
    "### Optimizar los parámetros de esta red\n",
    "***\n",
    "- Puede cambiar la arquitectura, agregando o quitando capas, modificando las funciones de activación, cambiando la función de pérdida, etc."
   ]
  },
  {
   "cell_type": "code",
   "execution_count": 19,
   "id": "13fba70c",
   "metadata": {},
   "outputs": [
    {
     "name": "stderr",
     "output_type": "stream",
     "text": [
      "2023-06-22 10:30:35.801938: I tensorflow/core/platform/cpu_feature_guard.cc:193] This TensorFlow binary is optimized with oneAPI Deep Neural Network Library (oneDNN) to use the following CPU instructions in performance-critical operations:  AVX2 FMA\n",
      "To enable them in other operations, rebuild TensorFlow with the appropriate compiler flags.\n"
     ]
    },
    {
     "name": "stdout",
     "output_type": "stream",
     "text": [
      "Model: \"model_conv1D\"\n",
      "_________________________________________________________________\n",
      " Layer (type)                Output Shape              Param #   \n",
      "=================================================================\n",
      " Conv1D_1 (Conv1D)           (None, 195, 32)           256       \n",
      "                                                                 \n",
      " Conv1D_2 (Conv1D)           (None, 193, 16)           1552      \n",
      "                                                                 \n",
      " flatten (Flatten)           (None, 3088)              0         \n",
      "                                                                 \n",
      " Dense_1 (Dense)             (None, 32)                98848     \n",
      "                                                                 \n",
      " Dense_4 (Dense)             (None, 3)                 99        \n",
      "                                                                 \n",
      "=================================================================\n",
      "Total params: 100,755\n",
      "Trainable params: 100,755\n",
      "Non-trainable params: 0\n",
      "_________________________________________________________________\n"
     ]
    }
   ],
   "source": [
    "def build_conv1D_model():\n",
    "    n_timesteps = X_train_reshaped.shape[1] #210\n",
    "    n_features  = X_train_reshaped.shape[2] #1 \n",
    "    model = keras.Sequential(name=\"model_conv1D\")\n",
    "    model.add(keras.layers.Input(shape=(n_timesteps,n_features)))\n",
    "    model.add(keras.layers.Conv1D(filters=32, kernel_size=7, activation='relu', name=\"Conv1D_1\"))\n",
    " \n",
    "    model.add(keras.layers.Conv1D(filters=16, kernel_size=3, activation='relu', name=\"Conv1D_2\"))\n",
    "    tf.keras.layers.BatchNormalization()\n",
    "    model.add(keras.layers.Flatten())\n",
    "    model.add(keras.layers.Dense(32, activation= \"selu\", name=\"Dense_1\"))\n",
    "    model.add(keras.layers.Dense(3, activation = \"linear\", name=\"Dense_4\"))\n",
    "\n",
    "\n",
    "    optimizer = tf.keras.optimizers.RMSprop(0.001)\n",
    "\n",
    "    l = tf.keras.losses.LogCosh()\n",
    "    \n",
    "    \n",
    "    model.compile(loss='mse',optimizer=optimizer,metrics=['mse'])\n",
    "    return model\n",
    "\n",
    "model_conv1D = build_conv1D_model()\n",
    "model_conv1D.summary()"
   ]
  },
  {
   "cell_type": "code",
   "execution_count": 20,
   "id": "7725c634",
   "metadata": {},
   "outputs": [
    {
     "name": "stdout",
     "output_type": "stream",
     "text": [
      "Epoch 1/50\n",
      "97/97 [==============================] - 6s 28ms/step - loss: 1.0580 - mse: 1.0580 - val_loss: 1.0208 - val_mse: 1.0208\n",
      "Epoch 2/50\n",
      "97/97 [==============================] - 2s 15ms/step - loss: 0.9165 - mse: 0.9165 - val_loss: 0.8229 - val_mse: 0.8229\n",
      "Epoch 3/50\n",
      "97/97 [==============================] - 2s 15ms/step - loss: 0.7265 - mse: 0.7265 - val_loss: 0.6569 - val_mse: 0.6569\n",
      "Epoch 4/50\n",
      "97/97 [==============================] - 1s 14ms/step - loss: 0.6136 - mse: 0.6136 - val_loss: 0.5741 - val_mse: 0.5741\n",
      "Epoch 5/50\n",
      "97/97 [==============================] - 1s 15ms/step - loss: 0.5750 - mse: 0.5750 - val_loss: 0.5179 - val_mse: 0.5179\n",
      "Epoch 6/50\n",
      "97/97 [==============================] - 1s 15ms/step - loss: 0.5300 - mse: 0.5300 - val_loss: 0.5281 - val_mse: 0.5281\n",
      "Epoch 7/50\n",
      "97/97 [==============================] - 2s 16ms/step - loss: 0.5145 - mse: 0.5145 - val_loss: 0.5592 - val_mse: 0.5592\n",
      "Epoch 8/50\n",
      "97/97 [==============================] - 2s 16ms/step - loss: 0.4985 - mse: 0.4985 - val_loss: 0.5528 - val_mse: 0.5528\n",
      "Epoch 9/50\n",
      "97/97 [==============================] - 1s 15ms/step - loss: 0.4933 - mse: 0.4933 - val_loss: 0.5531 - val_mse: 0.5531\n",
      "Epoch 10/50\n",
      "97/97 [==============================] - 3s 31ms/step - loss: 0.4806 - mse: 0.4806 - val_loss: 0.5589 - val_mse: 0.5589\n",
      "Epoch 11/50\n",
      "97/97 [==============================] - 2s 18ms/step - loss: 0.4811 - mse: 0.4811 - val_loss: 0.5065 - val_mse: 0.5065\n",
      "Epoch 12/50\n",
      "97/97 [==============================] - 2s 20ms/step - loss: 0.4664 - mse: 0.4664 - val_loss: 0.4666 - val_mse: 0.4666\n",
      "Epoch 13/50\n",
      "97/97 [==============================] - 2s 20ms/step - loss: 0.4596 - mse: 0.4596 - val_loss: 0.4690 - val_mse: 0.4690\n",
      "Epoch 14/50\n",
      "97/97 [==============================] - 2s 21ms/step - loss: 0.4503 - mse: 0.4503 - val_loss: 0.4849 - val_mse: 0.4849\n",
      "Epoch 15/50\n",
      "97/97 [==============================] - 2s 20ms/step - loss: 0.4565 - mse: 0.4565 - val_loss: 0.4904 - val_mse: 0.4904\n",
      "Epoch 16/50\n",
      "97/97 [==============================] - 2s 18ms/step - loss: 0.4378 - mse: 0.4378 - val_loss: 0.5232 - val_mse: 0.5232\n",
      "Epoch 17/50\n",
      "97/97 [==============================] - 2s 16ms/step - loss: 0.4295 - mse: 0.4295 - val_loss: 0.4250 - val_mse: 0.4250\n",
      "Epoch 18/50\n",
      "97/97 [==============================] - 2s 16ms/step - loss: 0.4125 - mse: 0.4125 - val_loss: 0.4498 - val_mse: 0.4498\n",
      "Epoch 19/50\n",
      "97/97 [==============================] - 2s 16ms/step - loss: 0.4025 - mse: 0.4025 - val_loss: 0.4135 - val_mse: 0.4135\n",
      "Epoch 20/50\n",
      "97/97 [==============================] - 2s 15ms/step - loss: 0.3970 - mse: 0.3970 - val_loss: 0.4077 - val_mse: 0.4077\n",
      "Epoch 21/50\n",
      "97/97 [==============================] - 1s 14ms/step - loss: 0.3781 - mse: 0.3781 - val_loss: 0.3663 - val_mse: 0.3663\n",
      "Epoch 22/50\n",
      "97/97 [==============================] - 2s 21ms/step - loss: 0.3673 - mse: 0.3673 - val_loss: 0.3663 - val_mse: 0.3663\n",
      "Epoch 23/50\n",
      "97/97 [==============================] - 1s 14ms/step - loss: 0.3535 - mse: 0.3535 - val_loss: 0.3292 - val_mse: 0.3292\n",
      "Epoch 24/50\n",
      "97/97 [==============================] - 2s 15ms/step - loss: 0.3379 - mse: 0.3379 - val_loss: 0.3355 - val_mse: 0.3355\n",
      "Epoch 25/50\n",
      "97/97 [==============================] - 2s 17ms/step - loss: 0.3221 - mse: 0.3221 - val_loss: 0.2917 - val_mse: 0.2917\n",
      "Epoch 26/50\n",
      "97/97 [==============================] - 2s 17ms/step - loss: 0.2987 - mse: 0.2987 - val_loss: 0.3074 - val_mse: 0.3074\n",
      "Epoch 27/50\n",
      "97/97 [==============================] - 2s 17ms/step - loss: 0.2844 - mse: 0.2844 - val_loss: 0.2447 - val_mse: 0.2447\n",
      "Epoch 28/50\n",
      "97/97 [==============================] - 2s 16ms/step - loss: 0.2794 - mse: 0.2794 - val_loss: 0.2874 - val_mse: 0.2874\n",
      "Epoch 29/50\n",
      "97/97 [==============================] - 1s 14ms/step - loss: 0.2661 - mse: 0.2661 - val_loss: 0.2845 - val_mse: 0.2845\n",
      "Epoch 30/50\n",
      "97/97 [==============================] - 1s 15ms/step - loss: 0.2626 - mse: 0.2626 - val_loss: 0.2610 - val_mse: 0.2610\n",
      "Epoch 31/50\n",
      "97/97 [==============================] - 1s 15ms/step - loss: 0.2692 - mse: 0.2692 - val_loss: 0.2276 - val_mse: 0.2276\n",
      "Epoch 32/50\n",
      "97/97 [==============================] - 2s 18ms/step - loss: 0.2688 - mse: 0.2688 - val_loss: 0.2678 - val_mse: 0.2678\n",
      "Epoch 33/50\n",
      "97/97 [==============================] - 2s 16ms/step - loss: 0.2609 - mse: 0.2609 - val_loss: 0.2245 - val_mse: 0.2245\n",
      "Epoch 34/50\n",
      "97/97 [==============================] - 2s 20ms/step - loss: 0.2546 - mse: 0.2546 - val_loss: 0.2769 - val_mse: 0.2769\n",
      "Epoch 35/50\n",
      "97/97 [==============================] - 2s 17ms/step - loss: 0.2491 - mse: 0.2491 - val_loss: 0.2800 - val_mse: 0.2800\n",
      "Epoch 36/50\n",
      "97/97 [==============================] - 2s 18ms/step - loss: 0.2512 - mse: 0.2512 - val_loss: 0.2042 - val_mse: 0.2042\n",
      "Epoch 37/50\n",
      "97/97 [==============================] - 2s 16ms/step - loss: 0.2510 - mse: 0.2510 - val_loss: 0.2854 - val_mse: 0.2854\n",
      "Epoch 38/50\n",
      "97/97 [==============================] - 2s 17ms/step - loss: 0.2413 - mse: 0.2413 - val_loss: 0.2156 - val_mse: 0.2156\n",
      "Epoch 39/50\n",
      "97/97 [==============================] - 2s 16ms/step - loss: 0.2436 - mse: 0.2436 - val_loss: 0.2160 - val_mse: 0.2160\n",
      "Epoch 40/50\n",
      "97/97 [==============================] - 2s 17ms/step - loss: 0.2348 - mse: 0.2348 - val_loss: 0.2005 - val_mse: 0.2005\n",
      "Epoch 41/50\n",
      "97/97 [==============================] - 2s 16ms/step - loss: 0.2349 - mse: 0.2349 - val_loss: 0.2017 - val_mse: 0.2017\n",
      "Epoch 42/50\n",
      "97/97 [==============================] - 2s 20ms/step - loss: 0.2307 - mse: 0.2307 - val_loss: 0.1962 - val_mse: 0.1962\n",
      "Epoch 43/50\n",
      "97/97 [==============================] - 2s 19ms/step - loss: 0.2351 - mse: 0.2351 - val_loss: 0.2069 - val_mse: 0.2069\n",
      "Epoch 44/50\n",
      "97/97 [==============================] - 2s 19ms/step - loss: 0.2284 - mse: 0.2284 - val_loss: 0.2364 - val_mse: 0.2364\n",
      "Epoch 45/50\n",
      "97/97 [==============================] - 2s 20ms/step - loss: 0.2290 - mse: 0.2290 - val_loss: 0.2212 - val_mse: 0.2212\n",
      "Epoch 46/50\n",
      "97/97 [==============================] - 2s 17ms/step - loss: 0.2252 - mse: 0.2252 - val_loss: 0.1860 - val_mse: 0.1860\n",
      "Epoch 47/50\n",
      "97/97 [==============================] - 2s 16ms/step - loss: 0.2235 - mse: 0.2235 - val_loss: 0.2896 - val_mse: 0.2896\n",
      "Epoch 48/50\n",
      "97/97 [==============================] - 1s 15ms/step - loss: 0.2189 - mse: 0.2189 - val_loss: 0.2376 - val_mse: 0.2376\n",
      "Epoch 49/50\n",
      "97/97 [==============================] - 2s 18ms/step - loss: 0.2169 - mse: 0.2169 - val_loss: 0.2135 - val_mse: 0.2135\n",
      "Epoch 50/50\n",
      "97/97 [==============================] - 2s 19ms/step - loss: 0.2273 - mse: 0.2273 - val_loss: 0.1917 - val_mse: 0.1917\n"
     ]
    }
   ],
   "source": [
    "ep = 50\n",
    "callback = tf.keras.callbacks.EarlyStopping(monitor='loss', \n",
    "                                                patience=5)\n",
    "history = model_conv1D.fit(X_train_reshaped, y_train, epochs=ep,\n",
    "                    validation_data = (X_val_reshaped, y_val), \n",
    "                           verbose=1, callbacks=[callback])"
   ]
  },
  {
   "cell_type": "code",
   "execution_count": 21,
   "id": "55c8322a",
   "metadata": {},
   "outputs": [
    {
     "name": "stdout",
     "output_type": "stream",
     "text": [
      "Testing set Mean Abs Error:  179.00\n",
      "13/13 [==============================] - 0s 13ms/step\n"
     ]
    },
    {
     "data": {
      "image/png": "[encoded data removed]",
      "text/plain": [
       "<Figure size 720x432 with 1 Axes>"
      ]
     },
     "metadata": {
      "needs_background": "light"
     },
     "output_type": "display_data"
    }
   ],
   "source": [
    "[loss, mae] = model_conv1D.evaluate(X_test_reshaped, y_test, verbose=0)\n",
    "print(\"Testing set Mean Abs Error: {:7.2f}\".format(mae * 1000))\n",
    "\n",
    "pred =model_conv1D.predict(X_test_reshaped)\n",
    "\n",
    "y_pred_inv = scaler2.inverse_transform(y)\n",
    "\n",
    "\n",
    "train_loss = history.history['loss']\n",
    "\n",
    "\n",
    "val_loss = history.history['val_loss']\n",
    "\n",
    "\n",
    "def plot_train_val(A, B, n, xlabel, ylabel, title):\n",
    "    plt.figure(1, figsize=(10, 6))\n",
    "    plt.plot(range(n),A)\n",
    "    plt.plot(range(n),B)\n",
    "    plt.ylabel(xlabel)\n",
    "    plt.xlabel(ylabel)\n",
    "    plt.title(title)\n",
    "    plt.grid(True)\n",
    "    plt.legend(['Training', 'Validation'])\n",
    "    plt.show()\n",
    "\n",
    "\n",
    "plot_train_val(train_loss, val_loss, ep, 'Loss', 'Number of epochs', 'Training loss vs Validation loss')"
   ]
  },
  {
   "cell_type": "code",
   "execution_count": 22,
   "id": "6931e5c7",
   "metadata": {},
   "outputs": [],
   "source": [
    "from sklearn.metrics import mean_absolute_error"
   ]
  },
  {
   "cell_type": "code",
   "execution_count": 23,
   "id": "c97e3512",
   "metadata": {},
   "outputs": [
    {
     "name": "stdout",
     "output_type": "stream",
     "text": [
      "(388,)\n",
      "(388,)\n"
     ]
    },
    {
     "data": {
      "image/png": "[encoded data removed]",
      "text/plain": [
       "<Figure size 432x288 with 1 Axes>"
      ]
     },
     "metadata": {
      "needs_background": "light"
     },
     "output_type": "display_data"
    }
   ],
   "source": [
    "a = scaler2.inverse_transform(pred)\n",
    "print(a[:,0].shape)\n",
    "\n",
    "\n",
    "b = scaler2.inverse_transform(y_test)\n",
    "print(b[:,0].shape)\n",
    "\n",
    "plt.figure()\n",
    "plt.hist(a[:,0], label=\"pred\")\n",
    "plt.hist(b[:,0], label=\"test\")\n",
    "\n",
    "plt.legend(loc=\"best\")\n",
    "plt.show()\n",
    "\n",
    "\n",
    "\n"
   ]
  },
  {
   "cell_type": "code",
   "execution_count": 24,
   "id": "1b53e51c",
   "metadata": {},
   "outputs": [
    {
     "data": {
      "text/plain": [
       "(388,)"
      ]
     },
     "execution_count": 24,
     "metadata": {},
     "output_type": "execute_result"
    }
   ],
   "source": [
    "pred[:,0].shape"
   ]
  },
  {
   "cell_type": "code",
   "execution_count": 25,
   "id": "2b014b7d",
   "metadata": {},
   "outputs": [
    {
     "data": {
      "image/png": "[encoded data removed]",
      "text/plain": [
       "<Figure size 432x288 with 1 Axes>"
      ]
     },
     "metadata": {
      "needs_background": "light"
     },
     "output_type": "display_data"
    }
   ],
   "source": [
    "plt.figure()\n",
    "plt.hist(a[:,1], label=\"pred\")\n",
    "plt.hist(b[:,1], label=\"test\")\n",
    "\n",
    "plt.legend(loc=\"best\")\n",
    "plt.show()\n",
    "\n"
   ]
  },
  {
   "cell_type": "code",
   "execution_count": 26,
   "id": "86bb68fb",
   "metadata": {},
   "outputs": [
    {
     "data": {
      "image/png": "[encoded data removed]",
      "text/plain": [
       "<Figure size 432x288 with 1 Axes>"
      ]
     },
     "metadata": {
      "needs_background": "light"
     },
     "output_type": "display_data"
    }
   ],
   "source": [
    "\n",
    "plt.figure()\n",
    "plt.hist(a[:,2], label=\"pred\")\n",
    "plt.hist(b[:,2], label=\"test\")\n",
    "\n",
    "plt.legend(loc=\"best\")\n",
    "plt.show()\n",
    "\n"
   ]
  },
  {
   "cell_type": "code",
   "execution_count": 27,
   "id": "4d6223e8",
   "metadata": {},
   "outputs": [
    {
     "data": {
      "image/png": "[encoded data removed]",
      "text/plain": [
       "<Figure size 432x288 with 1 Axes>"
      ]
     },
     "metadata": {
      "needs_background": "light"
     },
     "output_type": "display_data"
    }
   ],
   "source": [
    "plt.figure()\n",
    "plt.hist(pred[:,0], label=\"pred\")\n",
    "plt.hist(y_test[:,0], label=\"test\")\n",
    "\n",
    "plt.legend(loc=\"best\")\n",
    "plt.show()\n"
   ]
  },
  {
   "cell_type": "code",
   "execution_count": 28,
   "id": "2c5f36fb",
   "metadata": {},
   "outputs": [
    {
     "data": {
      "image/png": "[encoded data removed]",
      "text/plain": [
       "<Figure size 432x288 with 1 Axes>"
      ]
     },
     "metadata": {
      "needs_background": "light"
     },
     "output_type": "display_data"
    }
   ],
   "source": [
    "plt.figure()\n",
    "plt.hist(pred[:,1], label=\"pred\")\n",
    "plt.hist(y_test[:,1], label=\"test\")\n",
    "\n",
    "plt.legend(loc=\"best\")\n",
    "plt.show()"
   ]
  },
  {
   "cell_type": "code",
   "execution_count": 29,
   "id": "b9b947af",
   "metadata": {},
   "outputs": [
    {
     "data": {
      "image/png": "[encoded data removed]",
      "text/plain": [
       "<Figure size 432x288 with 1 Axes>"
      ]
     },
     "metadata": {
      "needs_background": "light"
     },
     "output_type": "display_data"
    }
   ],
   "source": [
    "plt.figure()\n",
    "plt.hist(y_test[:,2], label=\"test\")\n",
    "plt.hist(pred[:,2], label=\"pred\")\n",
    "plt.legend(loc=\"best\")\n",
    "plt.show()"
   ]
  },
  {
   "cell_type": "code",
   "execution_count": 30,
   "id": "4356cec3",
   "metadata": {},
   "outputs": [
    {
     "data": {
      "text/plain": [
       "797.5560851795566"
      ]
     },
     "execution_count": 30,
     "metadata": {},
     "output_type": "execute_result"
    }
   ],
   "source": [
    "mean_absolute_error(a, b)"
   ]
  },
  {
   "cell_type": "code",
   "execution_count": 31,
   "id": "7b5d1b52",
   "metadata": {},
   "outputs": [],
   "source": [
    "e_teff = abs(y_test[:,0] - pred[:,0])\n",
    "e_logg = abs(y_test[:,1] - pred[:,1])\n",
    "e_vrot = abs(y_test[:,2] - pred[:,2])"
   ]
  },
  {
   "cell_type": "code",
   "execution_count": 32,
   "id": "e48f475d",
   "metadata": {},
   "outputs": [
    {
     "data": {
      "image/png": "[encoded data removed]",
      "text/plain": [
       "<Figure size 432x288 with 1 Axes>"
      ]
     },
     "metadata": {
      "needs_background": "light"
     },
     "output_type": "display_data"
    }
   ],
   "source": [
    "plt.figure()\n",
    "plt.hist(e_teff)\n",
    "plt.show()"
   ]
  },
  {
   "cell_type": "code",
   "execution_count": 33,
   "id": "e286b17c",
   "metadata": {},
   "outputs": [
    {
     "data": {
      "image/png": "[encoded data removed]",
      "text/plain": [
       "<Figure size 432x288 with 1 Axes>"
      ]
     },
     "metadata": {
      "needs_background": "light"
     },
     "output_type": "display_data"
    }
   ],
   "source": [
    "plt.figure()\n",
    "plt.hist(e_logg)\n",
    "plt.show()"
   ]
  },
  {
   "cell_type": "code",
   "execution_count": 34,
   "id": "85c1cccb",
   "metadata": {},
   "outputs": [
    {
     "data": {
      "image/png": "[encoded data removed]",
      "text/plain": [
       "<Figure size 432x288 with 1 Axes>"
      ]
     },
     "metadata": {
      "needs_background": "light"
     },
     "output_type": "display_data"
    }
   ],
   "source": [
    "plt.figure()\n",
    "plt.hist(e_vrot)\n",
    "plt.show()"
   ]
  },
  {
   "cell_type": "markdown",
   "id": "0c98884f",
   "metadata": {},
   "source": [
    "# BeSoS lines"
   ]
  },
  {
   "cell_type": "code",
   "execution_count": 36,
   "id": "2f053d2f",
   "metadata": {},
   "outputs": [
    {
     "name": "stderr",
     "output_type": "stream",
     "text": [
      "/var/folders/9k/d6llwp313m768w9t2bml_6000000gn/T/ipykernel_9292/2473376380.py:6: UserWarning: Boolean Series key will be reindexed to match DataFrame index.\n",
      "  df2 = df[m1][m2]\n"
     ]
    },
    {
     "data": {
      "text/html": [
       "<div>\n",
       "<style scoped>\n",
       "    .dataframe tbody tr th:only-of-type {\n",
       "        vertical-align: middle;\n",
       "    }\n",
       "\n",
       "    .dataframe tbody tr th {\n",
       "        vertical-align: top;\n",
       "    }\n",
       "\n",
       "    .dataframe thead th {\n",
       "        text-align: right;\n",
       "    }\n",
       "</style>\n",
       "<table border=\"1\" class=\"dataframe\">\n",
       "  <thead>\n",
       "    <tr style=\"text-align: right;\">\n",
       "      <th></th>\n",
       "      <th>0</th>\n",
       "      <th>1</th>\n",
       "    </tr>\n",
       "  </thead>\n",
       "  <tbody>\n",
       "    <tr>\n",
       "      <th>2368</th>\n",
       "      <td>4460.008658</td>\n",
       "      <td>1.018850</td>\n",
       "    </tr>\n",
       "    <tr>\n",
       "      <th>2369</th>\n",
       "      <td>4460.097998</td>\n",
       "      <td>1.025028</td>\n",
       "    </tr>\n",
       "    <tr>\n",
       "      <th>2370</th>\n",
       "      <td>4460.187338</td>\n",
       "      <td>1.014237</td>\n",
       "    </tr>\n",
       "    <tr>\n",
       "      <th>2371</th>\n",
       "      <td>4460.276678</td>\n",
       "      <td>1.007267</td>\n",
       "    </tr>\n",
       "    <tr>\n",
       "      <th>2372</th>\n",
       "      <td>4460.366019</td>\n",
       "      <td>1.001199</td>\n",
       "    </tr>\n",
       "    <tr>\n",
       "      <th>...</th>\n",
       "      <td>...</td>\n",
       "      <td>...</td>\n",
       "    </tr>\n",
       "    <tr>\n",
       "      <th>2587</th>\n",
       "      <td>4479.574171</td>\n",
       "      <td>0.981866</td>\n",
       "    </tr>\n",
       "    <tr>\n",
       "      <th>2588</th>\n",
       "      <td>4479.663511</td>\n",
       "      <td>0.993424</td>\n",
       "    </tr>\n",
       "    <tr>\n",
       "      <th>2589</th>\n",
       "      <td>4479.752851</td>\n",
       "      <td>0.984521</td>\n",
       "    </tr>\n",
       "    <tr>\n",
       "      <th>2590</th>\n",
       "      <td>4479.842191</td>\n",
       "      <td>0.957564</td>\n",
       "    </tr>\n",
       "    <tr>\n",
       "      <th>2591</th>\n",
       "      <td>4479.931532</td>\n",
       "      <td>0.963475</td>\n",
       "    </tr>\n",
       "  </tbody>\n",
       "</table>\n",
       "<p>224 rows × 2 columns</p>\n",
       "</div>"
      ],
      "text/plain": [
       "                0         1\n",
       "2368  4460.008658  1.018850\n",
       "2369  4460.097998  1.025028\n",
       "2370  4460.187338  1.014237\n",
       "2371  4460.276678  1.007267\n",
       "2372  4460.366019  1.001199\n",
       "...           ...       ...\n",
       "2587  4479.574171  0.981866\n",
       "2588  4479.663511  0.993424\n",
       "2589  4479.752851  0.984521\n",
       "2590  4479.842191  0.957564\n",
       "2591  4479.931532  0.963475\n",
       "\n",
       "[224 rows x 2 columns]"
      ]
     },
     "execution_count": 36,
     "metadata": {},
     "output_type": "execute_result"
    }
   ],
   "source": [
    "df = pd.read_csv(\"BESOS/2_Be_stars/HD33328/PUCHEROS/hd33328_2013-02-26_00-55-34_final_corr.txt\", sep=\"\\t\", header=None)\n",
    "\n",
    "m1 = df[0] >= 4460\n",
    "m2 = df[0] <= 4480\n",
    "\n",
    "df2 = df[m1][m2]\n",
    "\n",
    "df2"
   ]
  },
  {
   "cell_type": "code",
   "execution_count": 37,
   "id": "d21e6fc0",
   "metadata": {},
   "outputs": [
    {
     "data": {
      "image/png": "[encoded data removed]",
      "text/plain": [
       "<Figure size 576x432 with 1 Axes>"
      ]
     },
     "metadata": {
      "needs_background": "light"
     },
     "output_type": "display_data"
    }
   ],
   "source": [
    "plt.figure(figsize=(8,6))\n",
    "plt.plot(df2[0], df2[1], label=\"Línea observada\")\n",
    "#plt.plot(df4[0], df4[1], label=\"Modelo\")\n",
    "plt.grid()\n",
    "plt.legend(loc=\"best\")\n",
    "plt.show()"
   ]
  },
  {
   "cell_type": "code",
   "execution_count": 38,
   "id": "17ace05e",
   "metadata": {},
   "outputs": [],
   "source": [
    "n = 201  # for 2 random indices\n",
    "index = np.random.choice(df2[0].shape[0], n, replace=False) "
   ]
  },
  {
   "cell_type": "code",
   "execution_count": 39,
   "id": "76a3788f",
   "metadata": {},
   "outputs": [],
   "source": [
    "index.sort()"
   ]
  },
  {
   "cell_type": "code",
   "execution_count": 40,
   "id": "64d4c525",
   "metadata": {},
   "outputs": [],
   "source": [
    "obs_waves = df2[0].values[index]\n",
    "\n",
    "obs_flux = df2[1].values[index]\n",
    "\n"
   ]
  },
  {
   "cell_type": "code",
   "execution_count": 41,
   "id": "09c8a8d4",
   "metadata": {},
   "outputs": [
    {
     "data": {
      "text/plain": [
       "(201,)"
      ]
     },
     "execution_count": 41,
     "metadata": {},
     "output_type": "execute_result"
    }
   ],
   "source": [
    "obs_flux.shape"
   ]
  },
  {
   "cell_type": "code",
   "execution_count": 42,
   "id": "cad962e9",
   "metadata": {},
   "outputs": [
    {
     "data": {
      "image/png": "[encoded data removed]",
      "text/plain": [
       "<Figure size 576x432 with 1 Axes>"
      ]
     },
     "metadata": {
      "needs_background": "light"
     },
     "output_type": "display_data"
    }
   ],
   "source": [
    "plt.figure(figsize=(8,6))\n",
    "plt.plot(obs_waves, obs_flux ,label=\"Línea observada\")\n",
    "plt.legend(loc=\"best\")\n",
    "plt.show()"
   ]
  },
  {
   "cell_type": "code",
   "execution_count": 43,
   "id": "2fc93f29",
   "metadata": {},
   "outputs": [],
   "source": [
    "#obs_x_reshaped = x_obs_inv.reshape((1, time_steps, input_dimension))\n",
    "#obs_x_reshaped = obs_x.reshape((1, time_steps, input_dimension))\n",
    "\n",
    "obs_flux_reshaped = obs_flux.reshape((1, time_steps, input_dimension))"
   ]
  },
  {
   "cell_type": "code",
   "execution_count": 44,
   "id": "42156890",
   "metadata": {},
   "outputs": [
    {
     "name": "stdout",
     "output_type": "stream",
     "text": [
      "1/1 [==============================] - 0s 54ms/step\n"
     ]
    }
   ],
   "source": [
    "pred_obs =model_conv1D.predict(obs_flux_reshaped)"
   ]
  },
  {
   "cell_type": "code",
   "execution_count": 45,
   "id": "c91ef2a6",
   "metadata": {},
   "outputs": [
    {
     "name": "stdout",
     "output_type": "stream",
     "text": [
      "t_eff: -0.6223042\n",
      "log g: 0.1526095\n",
      "v_rot: 0.77248645\n"
     ]
    }
   ],
   "source": [
    "# Acá los resultados es con los datos normalizados\n",
    "print(\"t_eff:\", pred_obs[0][0])\n",
    "print(\"log g:\", pred_obs[0][1])\n",
    "print(\"v_rot:\", pred_obs[0][2])\n"
   ]
  },
  {
   "cell_type": "markdown",
   "id": "0d5c54de",
   "metadata": {},
   "source": [
    "## \"Desnomralización de la predicción\""
   ]
  },
  {
   "cell_type": "code",
   "execution_count": 46,
   "id": "16502e96",
   "metadata": {},
   "outputs": [],
   "source": [
    "pred_obs_inv = scaler2.inverse_transform(pred_obs)"
   ]
  },
  {
   "cell_type": "code",
   "execution_count": 47,
   "id": "0b03f608",
   "metadata": {},
   "outputs": [
    {
     "data": {
      "text/plain": [
       "array([[2.251250e+04, 4.107911e+00, 3.190933e+02]], dtype=float32)"
      ]
     },
     "execution_count": 47,
     "metadata": {},
     "output_type": "execute_result"
    }
   ],
   "source": [
    "pred_obs_inv"
   ]
  },
  {
   "cell_type": "code",
   "execution_count": 48,
   "id": "03df7da4",
   "metadata": {},
   "outputs": [
    {
     "name": "stdout",
     "output_type": "stream",
     "text": [
      "22512.5\n",
      "4.107911\n",
      "319.0933\n"
     ]
    }
   ],
   "source": [
    "print(pred_obs_inv[0,0])\n",
    "print(pred_obs_inv[0,1])\n",
    "print(pred_obs_inv[0,2])"
   ]
  },
  {
   "cell_type": "code",
   "execution_count": null,
   "id": "6fcf3efc",
   "metadata": {},
   "outputs": [],
   "source": []
  }
 ],
 "metadata": {
  "kernelspec": {
   "display_name": "Python 3 (ipykernel)",
   "language": "python",
   "name": "python3"
  },
  "language_info": {
   "codemirror_mode": {
    "name": "ipython",
    "version": 3
   },
   "file_extension": ".py",
   "mimetype": "text/x-python",
   "name": "python",
   "nbconvert_exporter": "python",
   "pygments_lexer": "ipython3",
   "version": "3.9.12"
  }
 },
 "nbformat": 4,
 "nbformat_minor": 5
}
