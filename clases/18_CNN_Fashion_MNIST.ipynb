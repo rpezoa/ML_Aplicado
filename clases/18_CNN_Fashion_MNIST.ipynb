{
 "cells": [
  {
   "cell_type": "markdown",
   "id": "54d0b67f",
   "metadata": {},
   "source": [
    "# CNN aplicado a clasificar imágenes \n",
    "***\n",
    "Ejemplo basado en ejemplo de: https://keras.io/examples/vision/mnist_convnet/"
   ]
  },
  {
   "cell_type": "code",
   "execution_count": 1,
   "id": "a65a905e",
   "metadata": {},
   "outputs": [],
   "source": [
    "import numpy as np\n",
    "from tensorflow import keras\n",
    "from tensorflow.keras import layers\n",
    "from matplotlib import pyplot as plt\n",
    "from sklearn.metrics import classification_report"
   ]
  },
  {
   "cell_type": "code",
   "execution_count": 2,
   "id": "ab415ea5",
   "metadata": {},
   "outputs": [
    {
     "name": "stdout",
     "output_type": "stream",
     "text": [
      "x_train shape: (60000, 28, 28, 1)\n",
      "60000 train samples\n",
      "10000 test samples\n"
     ]
    }
   ],
   "source": [
    "# Model / data parameters\n",
    "num_classes = 10\n",
    "input_shape = (28, 28, 1)\n",
    "\n",
    "# the data, split between train and test sets\n",
    "#(x_train, y_train), (x_test, y_test) = keras.datasets.mnist.load_data()\n",
    "(x_train, y_train), (x_test, y_test) = keras.datasets.fashion_mnist.load_data()\n",
    "\n",
    "assert x_train.shape == (60000, 28, 28)\n",
    "assert x_test.shape == (10000, 28, 28)\n",
    "assert y_train.shape == (60000,)\n",
    "assert y_test.shape == (10000,)\n",
    "\n",
    "# Scale images to the [0, 1] range\n",
    "x_train = x_train.astype(\"float32\") / 255\n",
    "x_test = x_test.astype(\"float32\") / 255\n",
    "# Make sure images have shape (28, 28, 1)\n",
    "x_train = np.expand_dims(x_train, -1)\n",
    "x_test = np.expand_dims(x_test, -1)\n",
    "print(\"x_train shape:\", x_train.shape)\n",
    "print(x_train.shape[0], \"train samples\")\n",
    "print(x_test.shape[0], \"test samples\")\n",
    "\n",
    "\n",
    "# convert class vectors to binary class matrices\n",
    "y_train = keras.utils.to_categorical(y_train, num_classes)\n",
    "y_test = keras.utils.to_categorical(y_test, num_classes)"
   ]
  },
  {
   "cell_type": "code",
   "execution_count": 3,
   "id": "495f7bbc",
   "metadata": {},
   "outputs": [
    {
     "data": {
      "text/plain": [
       "array([[0., 0., 0., ..., 0., 0., 1.],\n",
       "       [0., 0., 1., ..., 0., 0., 0.],\n",
       "       [0., 1., 0., ..., 0., 0., 0.],\n",
       "       ...,\n",
       "       [0., 0., 0., ..., 0., 1., 0.],\n",
       "       [0., 1., 0., ..., 0., 0., 0.],\n",
       "       [0., 0., 0., ..., 0., 0., 0.]], dtype=float32)"
      ]
     },
     "execution_count": 3,
     "metadata": {},
     "output_type": "execute_result"
    }
   ],
   "source": [
    "y_test"
   ]
  },
  {
   "cell_type": "markdown",
   "id": "ed1fe367",
   "metadata": {},
   "source": [
    "### Fashion MNIST datasetdataset\n",
    "****\n",
    "\n",
    "- Problema de clasificación de imágenes\n",
    "- 10 clases: 0, 1, 2, ..., 9\n",
    "- https://keras.io/api/datasets/fashion_mnist/"
   ]
  },
  {
   "cell_type": "code",
   "execution_count": 4,
   "id": "76f6cde2",
   "metadata": {},
   "outputs": [
    {
     "data": {
      "image/png": "[encoded data removed]",
      "text/plain": [
       "<Figure size 432x288 with 6 Axes>"
      ]
     },
     "metadata": {
      "needs_background": "light"
     },
     "output_type": "display_data"
    }
   ],
   "source": [
    "for i in range(1, 7):\n",
    "    plt.subplot(2, 3, i)\n",
    "    plt.imshow(x_train[i], cmap=\"gray\")\n",
    "    \n"
   ]
  },
  {
   "cell_type": "code",
   "execution_count": 5,
   "id": "a57d1c31",
   "metadata": {},
   "outputs": [
    {
     "name": "stdout",
     "output_type": "stream",
     "text": [
      "Model: \"sequential\"\n",
      "_________________________________________________________________\n",
      " Layer (type)                Output Shape              Param #   \n",
      "=================================================================\n",
      " conv2d (Conv2D)             (None, 26, 26, 32)        320       \n",
      "                                                                 \n",
      " max_pooling2d (MaxPooling2D  (None, 13, 13, 32)       0         \n",
      " )                                                               \n",
      "                                                                 \n",
      " conv2d_1 (Conv2D)           (None, 11, 11, 64)        18496     \n",
      "                                                                 \n",
      " max_pooling2d_1 (MaxPooling  (None, 5, 5, 64)         0         \n",
      " 2D)                                                             \n",
      "                                                                 \n",
      " flatten (Flatten)           (None, 1600)              0         \n",
      "                                                                 \n",
      " dropout (Dropout)           (None, 1600)              0         \n",
      "                                                                 \n",
      " dense (Dense)               (None, 10)                16010     \n",
      "                                                                 \n",
      "=================================================================\n",
      "Total params: 34,826\n",
      "Trainable params: 34,826\n",
      "Non-trainable params: 0\n",
      "_________________________________________________________________\n"
     ]
    },
    {
     "name": "stderr",
     "output_type": "stream",
     "text": [
      "2022-11-09 10:20:19.771982: I tensorflow/core/platform/cpu_feature_guard.cc:151] This TensorFlow binary is optimized with oneAPI Deep Neural Network Library (oneDNN) to use the following CPU instructions in performance-critical operations:  AVX2 FMA\n",
      "To enable them in other operations, rebuild TensorFlow with the appropriate compiler flags.\n"
     ]
    }
   ],
   "source": [
    "model = keras.Sequential(\n",
    "    [\n",
    "        keras.Input(shape=input_shape),\n",
    "        layers.Conv2D(32, kernel_size=(3, 3), activation=\"relu\", \n",
    "                      kernel_initializer=keras.initializers.random_normal),\n",
    "        layers.MaxPooling2D(pool_size=(2, 2)),\n",
    "        layers.Conv2D(64, kernel_size=(3, 3), activation=\"relu\"),\n",
    "        layers.MaxPooling2D(pool_size=(2, 2)),\n",
    "        layers.Flatten(),\n",
    "        layers.Dropout(0.5),\n",
    "        layers.Dense(num_classes, activation=\"softmax\"),\n",
    "    ]\n",
    ")\n",
    "\n",
    "model.summary()"
   ]
  },
  {
   "cell_type": "code",
   "execution_count": 6,
   "id": "5cd0240c",
   "metadata": {},
   "outputs": [
    {
     "name": "stdout",
     "output_type": "stream",
     "text": [
      "Epoch 1/15\n",
      "422/422 [==============================] - 23s 51ms/step - loss: 1.7389 - accuracy: 0.3918 - val_loss: 0.9358 - val_accuracy: 0.6970\n",
      "Epoch 2/15\n",
      "422/422 [==============================] - 23s 54ms/step - loss: 0.9347 - accuracy: 0.6567 - val_loss: 0.7282 - val_accuracy: 0.7238\n",
      "Epoch 3/15\n",
      "422/422 [==============================] - 16s 39ms/step - loss: 0.7739 - accuracy: 0.7181 - val_loss: 0.6416 - val_accuracy: 0.7638\n",
      "Epoch 4/15\n",
      "422/422 [==============================] - 16s 38ms/step - loss: 0.6979 - accuracy: 0.7459 - val_loss: 0.5952 - val_accuracy: 0.7840\n",
      "Epoch 5/15\n",
      "422/422 [==============================] - 16s 39ms/step - loss: 0.6477 - accuracy: 0.7633 - val_loss: 0.5541 - val_accuracy: 0.7957\n",
      "Epoch 6/15\n",
      "422/422 [==============================] - 16s 38ms/step - loss: 0.6175 - accuracy: 0.7749 - val_loss: 0.5339 - val_accuracy: 0.8033\n",
      "Epoch 7/15\n",
      "422/422 [==============================] - 17s 40ms/step - loss: 0.5851 - accuracy: 0.7866 - val_loss: 0.5132 - val_accuracy: 0.8138\n",
      "Epoch 8/15\n",
      "422/422 [==============================] - 17s 39ms/step - loss: 0.5694 - accuracy: 0.7927 - val_loss: 0.5011 - val_accuracy: 0.8127\n",
      "Epoch 9/15\n",
      "422/422 [==============================] - 16s 39ms/step - loss: 0.5513 - accuracy: 0.8007 - val_loss: 0.4883 - val_accuracy: 0.8228\n",
      "Epoch 10/15\n",
      "422/422 [==============================] - 16s 38ms/step - loss: 0.5367 - accuracy: 0.8057 - val_loss: 0.4775 - val_accuracy: 0.8262\n",
      "Epoch 11/15\n",
      "422/422 [==============================] - 16s 38ms/step - loss: 0.5269 - accuracy: 0.8100 - val_loss: 0.4673 - val_accuracy: 0.8322\n",
      "Epoch 12/15\n",
      "422/422 [==============================] - 16s 38ms/step - loss: 0.5186 - accuracy: 0.8123 - val_loss: 0.4626 - val_accuracy: 0.8322\n",
      "Epoch 13/15\n",
      "422/422 [==============================] - 16s 38ms/step - loss: 0.5075 - accuracy: 0.8161 - val_loss: 0.4533 - val_accuracy: 0.8348\n",
      "Epoch 14/15\n",
      "422/422 [==============================] - 16s 38ms/step - loss: 0.4979 - accuracy: 0.8210 - val_loss: 0.4435 - val_accuracy: 0.8363\n",
      "Epoch 15/15\n",
      "422/422 [==============================] - 16s 38ms/step - loss: 0.4930 - accuracy: 0.8226 - val_loss: 0.4401 - val_accuracy: 0.8423\n"
     ]
    },
    {
     "data": {
      "text/plain": [
       "<keras.callbacks.History at 0x7f87688a10d0>"
      ]
     },
     "execution_count": 6,
     "metadata": {},
     "output_type": "execute_result"
    }
   ],
   "source": [
    "batch_size = 128\n",
    "epochs = 15\n",
    "\n",
    "model.compile(loss=\"categorical_crossentropy\", optimizer=keras.optimizers.SGD(), metrics=[\"accuracy\"])\n",
    "\n",
    "model.fit(x_train, y_train, batch_size=batch_size, epochs=epochs, validation_split=0.1)"
   ]
  },
  {
   "cell_type": "code",
   "execution_count": 7,
   "id": "0dec237b",
   "metadata": {},
   "outputs": [
    {
     "name": "stdout",
     "output_type": "stream",
     "text": [
      "Test loss: 0.46170058846473694\n",
      "Test accuracy: 0.8364999890327454\n"
     ]
    }
   ],
   "source": [
    "score = model.evaluate(x_test, y_test, verbose=0)\n",
    "print(\"Test loss:\", score[0])\n",
    "print(\"Test accuracy:\", score[1])"
   ]
  },
  {
   "cell_type": "code",
   "execution_count": 8,
   "id": "03cb378c",
   "metadata": {},
   "outputs": [
    {
     "name": "stdout",
     "output_type": "stream",
     "text": [
      "La predicción para cada imagen es un vector con 10 componentes\n",
      "[1.8041545e-05 3.2482881e-06 4.1518924e-05 4.6650901e-05 2.6803056e-05\n",
      " 7.2007410e-02 2.5948773e-05 2.0817791e-01 4.5279162e-03 7.1512455e-01]\n"
     ]
    }
   ],
   "source": [
    "prediction = model.predict(x_test)\n",
    "print(\"La predicción para cada imagen es un vector con 10 componentes\")\n",
    "print(prediction[0])"
   ]
  },
  {
   "cell_type": "code",
   "execution_count": 9,
   "id": "18ad6914",
   "metadata": {},
   "outputs": [
    {
     "data": {
      "text/plain": [
       "array([[1.80415445e-05, 3.24828807e-06, 4.15189243e-05, ...,\n",
       "        2.08177909e-01, 4.52791620e-03, 7.15124547e-01],\n",
       "       [1.46583300e-02, 2.67839528e-06, 9.05230582e-01, ...,\n",
       "        1.35905098e-09, 2.68673524e-04, 2.77545320e-09],\n",
       "       [4.97605761e-08, 9.99999166e-01, 1.62833613e-09, ...,\n",
       "        3.18206267e-10, 1.08907265e-07, 1.25028651e-11],\n",
       "       ...,\n",
       "       [3.75548899e-02, 5.88564071e-05, 1.96007011e-03, ...,\n",
       "        2.35743428e-05, 9.14933920e-01, 1.82017232e-06],\n",
       "       [2.57471356e-06, 9.98284519e-01, 6.28753511e-08, ...,\n",
       "        5.75185936e-07, 1.45271133e-06, 2.75228643e-07],\n",
       "       [1.27250911e-03, 1.71585460e-04, 3.11459298e-03, ...,\n",
       "        3.07142317e-01, 4.50405590e-02, 5.68520045e-03]], dtype=float32)"
      ]
     },
     "execution_count": 9,
     "metadata": {},
     "output_type": "execute_result"
    }
   ],
   "source": [
    "prediction"
   ]
  },
  {
   "cell_type": "code",
   "execution_count": 10,
   "id": "65d9a37e",
   "metadata": {},
   "outputs": [
    {
     "data": {
      "text/plain": [
       "array([[1.80415445e-05, 3.24828807e-06, 4.15189243e-05, ...,\n",
       "        2.08177909e-01, 4.52791620e-03, 7.15124547e-01],\n",
       "       [1.46583300e-02, 2.67839528e-06, 9.05230582e-01, ...,\n",
       "        1.35905098e-09, 2.68673524e-04, 2.77545320e-09],\n",
       "       [4.97605761e-08, 9.99999166e-01, 1.62833613e-09, ...,\n",
       "        3.18206267e-10, 1.08907265e-07, 1.25028651e-11],\n",
       "       ...,\n",
       "       [3.75548899e-02, 5.88564071e-05, 1.96007011e-03, ...,\n",
       "        2.35743428e-05, 9.14933920e-01, 1.82017232e-06],\n",
       "       [2.57471356e-06, 9.98284519e-01, 6.28753511e-08, ...,\n",
       "        5.75185936e-07, 1.45271133e-06, 2.75228643e-07],\n",
       "       [1.27250911e-03, 1.71585460e-04, 3.11459298e-03, ...,\n",
       "        3.07142317e-01, 4.50405590e-02, 5.68520045e-03]], dtype=float32)"
      ]
     },
     "execution_count": 10,
     "metadata": {},
     "output_type": "execute_result"
    }
   ],
   "source": [
    "prediction"
   ]
  },
  {
   "cell_type": "code",
   "execution_count": 11,
   "id": "f6e9161e",
   "metadata": {},
   "outputs": [],
   "source": [
    "labels = {0: \"T-shirt/top\", 1: \"trouser\", 2: \"Pullover\", 3: \"Dress\", 4: \"Coat\", 5: \"Sandal\", 6: \"Shirt\",\n",
    "         7: \"Sneaker\", 8:\"Bag\", 9: \"Ankle boot\"}"
   ]
  },
  {
   "cell_type": "code",
   "execution_count": 12,
   "id": "cdee14be",
   "metadata": {},
   "outputs": [
    {
     "name": "stdout",
     "output_type": "stream",
     "text": [
      "              precision    recall  f1-score   support\n",
      "\n",
      " T-shirt/top       0.81      0.78      0.79      1000\n",
      "     trouser       0.99      0.96      0.97      1000\n",
      "    Pullover       0.73      0.74      0.74      1000\n",
      "       Dress       0.82      0.88      0.85      1000\n",
      "        Coat       0.68      0.75      0.72      1000\n",
      "      Sandal       0.93      0.94      0.94      1000\n",
      "       Shirt       0.60      0.51      0.55      1000\n",
      "     Sneaker       0.91      0.92      0.92      1000\n",
      "         Bag       0.93      0.95      0.94      1000\n",
      "  Ankle boot       0.95      0.94      0.94      1000\n",
      "\n",
      "    accuracy                           0.84     10000\n",
      "   macro avg       0.83      0.84      0.83     10000\n",
      "weighted avg       0.83      0.84      0.83     10000\n",
      "\n"
     ]
    }
   ],
   "source": [
    "d = classification_report(y_test.argmax(axis=1), prediction.argmax(axis=1),  target_names=labels.values())\n",
    "\n",
    "print(d)"
   ]
  },
  {
   "cell_type": "markdown",
   "id": "9bccfcb3",
   "metadata": {},
   "source": [
    "### Analicemos las primeras imágenes del conjunto de testing"
   ]
  },
  {
   "cell_type": "code",
   "execution_count": 13,
   "id": "7cb3a708",
   "metadata": {},
   "outputs": [
    {
     "name": "stdout",
     "output_type": "stream",
     "text": [
      "image  1 predicts  Ankle boot\n",
      "image  2 predicts  Pullover\n",
      "image  3 predicts  trouser\n",
      "image  4 predicts  trouser\n",
      "image  5 predicts  Shirt\n",
      "image  6 predicts  trouser\n"
     ]
    },
    {
     "data": {
      "image/png": "[encoded data removed]",
      "text/plain": [
       "<Figure size 432x288 with 6 Axes>"
      ]
     },
     "metadata": {
      "needs_background": "light"
     },
     "output_type": "display_data"
    }
   ],
   "source": [
    "for i in range(1, 7):\n",
    "    index_max = np.argmax(prediction[i-1,:])\n",
    "    print(\"image \", i, \"predicts \", labels[index_max])\n",
    "    plt.subplot(2, 3, i)\n",
    "    plt.imshow(x_test[i-1,:,:,0], cmap=\"gray\")"
   ]
  }
 ],
 "metadata": {
  "kernelspec": {
   "display_name": "Python 3 (ipykernel)",
   "language": "python",
   "name": "python3"
  },
  "language_info": {
   "codemirror_mode": {
    "name": "ipython",
    "version": 3
   },
   "file_extension": ".py",
   "mimetype": "text/x-python",
   "name": "python",
   "nbconvert_exporter": "python",
   "pygments_lexer": "ipython3",
   "version": "3.8.12"
  }
 },
 "nbformat": 4,
 "nbformat_minor": 5
}
