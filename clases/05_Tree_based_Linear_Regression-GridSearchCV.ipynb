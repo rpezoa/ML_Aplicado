{
 "cells": [
  {
   "cell_type": "markdown",
   "id": "ab80c3de",
   "metadata": {},
   "source": [
    "# Decision Tree Regressor\n",
    "### scikit-learn method\n",
    "---\n",
    "Based on Chapter 6, Hands-On Machine Learning with Scikit-Learn, Keras, and Tensorflow_ Concepts, Tools, and Techniques to Build Intelligent Systems - Aurélien Géron "
   ]
  },
  {
   "cell_type": "markdown",
   "id": "246ce4d8",
   "metadata": {},
   "source": [
    "## DecisionTreeRegressor()\n",
    "---\n",
    "Check here:\n",
    "https://scikit-learn.org/stable/modules/generated/sklearn.tree.DecisionTreeRegressor.html"
   ]
  },
  {
   "cell_type": "markdown",
   "id": "9e07ce26",
   "metadata": {},
   "source": [
    "## Libraries"
   ]
  },
  {
   "cell_type": "code",
   "execution_count": null,
   "id": "bc5d14d3",
   "metadata": {},
   "outputs": [],
   "source": [
    "import os\n",
    "import tarfile\n",
    "from six.moves import urllib\n",
    "from matplotlib import pyplot as plt\n",
    "import pandas as pd\n",
    "from sklearn.metrics import mean_squared_error\n",
    "import numpy as np\n",
    "from sklearn.tree import DecisionTreeRegressor \n",
    "from sklearn.model_selection import cross_val_score\n",
    "from sklearn.model_selection import GridSearchCV"
   ]
  },
  {
   "cell_type": "markdown",
   "id": "91bf4df7",
   "metadata": {},
   "source": [
    "## Getting the data"
   ]
  },
  {
   "cell_type": "code",
   "execution_count": null,
   "id": "363b0af0",
   "metadata": {},
   "outputs": [],
   "source": [
    "DOWNLOAD_ROOT = \"https://raw.githubusercontent.com/ageron/handson-ml2/master/\"\n",
    "HOUSING_PATH = os.path.join(\"datasets\", \"housing\")\n",
    "HOUSING_URL = DOWNLOAD_ROOT + \"datasets/housing/housing.tgz\""
   ]
  },
  {
   "cell_type": "code",
   "execution_count": null,
   "id": "f4cd3b35",
   "metadata": {},
   "outputs": [],
   "source": [
    "def fetch_housing_data(housing_url=HOUSING_URL, housing_path=HOUSING_PATH): \n",
    "    if not os.path.isdir(housing_path):\n",
    "        os.makedirs(housing_path)\n",
    "    tgz_path = os.path.join(housing_path, \"housing.tgz\")\n",
    "    urllib.request.urlretrieve(housing_url, tgz_path)\n",
    "    housing_tgz = tarfile.open(tgz_path)\n",
    "    housing_tgz.extractall(path=housing_path)\n",
    "    housing_tgz.close()"
   ]
  },
  {
   "cell_type": "code",
   "execution_count": null,
   "id": "ecb560c1",
   "metadata": {},
   "outputs": [],
   "source": [
    "def load_housing_data(housing_path=HOUSING_PATH): \n",
    "    csv_path = os.path.join(housing_path, \"housing.csv\") \n",
    "    return pd.read_csv(csv_path)"
   ]
  },
  {
   "cell_type": "code",
   "execution_count": null,
   "id": "b56007af",
   "metadata": {},
   "outputs": [],
   "source": [
    "fetch_housing_data()"
   ]
  },
  {
   "cell_type": "code",
   "execution_count": null,
   "id": "a294cb3c",
   "metadata": {},
   "outputs": [],
   "source": [
    "housing = load_housing_data()"
   ]
  },
  {
   "cell_type": "markdown",
   "id": "622aa6c9",
   "metadata": {},
   "source": [
    "## Exploratory Data Analysis\n",
    "---\n",
    "- Realice analisis exploratorio de datos:\n",
    " - Datos faltantes\n",
    " - Histogramas\n",
    " - Correlaciones, etc"
   ]
  },
  {
   "cell_type": "code",
   "execution_count": null,
   "id": "d6e6b2e6",
   "metadata": {},
   "outputs": [],
   "source": [
    "housing.plot(kind=\"scatter\", x=\"longitude\", y=\"latitude\", alpha=0.4,\n",
    "             s=housing[\"population\"]/100, label=\"population\", figsize=(10,7),\n",
    "             c=\"median_house_value\", cmap=plt.get_cmap(\"jet\"), colorbar=True,\n",
    "            )\n",
    "plt.legend()\n",
    "plt.show()"
   ]
  },
  {
   "cell_type": "code",
   "execution_count": null,
   "id": "b8d92b7d",
   "metadata": {},
   "outputs": [],
   "source": [
    "X = housing.drop(['ocean_proximity','median_house_value'], axis = 1).astype('float64')"
   ]
  },
  {
   "cell_type": "code",
   "execution_count": null,
   "id": "c4227e8e",
   "metadata": {},
   "outputs": [],
   "source": [
    "y = housing.median_house_value"
   ]
  },
  {
   "cell_type": "markdown",
   "id": "4887bae3",
   "metadata": {},
   "source": [
    "## X, y"
   ]
  },
  {
   "cell_type": "code",
   "execution_count": null,
   "id": "7150c852",
   "metadata": {},
   "outputs": [],
   "source": [
    "from sklearn.model_selection import train_test_split\n",
    "X_train, X_test , y_train, y_test = train_test_split(X, y, test_size=0.5, random_state=1)"
   ]
  },
  {
   "cell_type": "code",
   "execution_count": null,
   "id": "8fbdb94a",
   "metadata": {},
   "outputs": [],
   "source": [
    "X_train"
   ]
  },
  {
   "cell_type": "code",
   "execution_count": null,
   "id": "a5cff2b9",
   "metadata": {},
   "outputs": [],
   "source": [
    "y_train"
   ]
  },
  {
   "cell_type": "markdown",
   "id": "de9a3626",
   "metadata": {},
   "source": [
    "## DecisionTreeRegressor"
   ]
  },
  {
   "cell_type": "code",
   "execution_count": null,
   "id": "bb0fdcc8",
   "metadata": {},
   "outputs": [],
   "source": [
    "tree_reg = DecisionTreeRegressor()\n",
    "tree_reg.fit(X_train, y_train)"
   ]
  },
  {
   "cell_type": "markdown",
   "id": "a616f18c",
   "metadata": {},
   "source": [
    "### Train performance metrics"
   ]
  },
  {
   "cell_type": "code",
   "execution_count": null,
   "id": "348eab27",
   "metadata": {},
   "outputs": [],
   "source": [
    "housing_predictions = tree_reg.predict(X_train)\n",
    "tree_mse = mean_squared_error(y_train, housing_predictions)\n",
    "tree_rmse = np.sqrt(tree_mse)\n",
    "print(tree_rmse)"
   ]
  },
  {
   "cell_type": "markdown",
   "id": "e213aaa5",
   "metadata": {},
   "source": [
    "### Test performance metrics"
   ]
  },
  {
   "cell_type": "code",
   "execution_count": null,
   "id": "f7d238cd",
   "metadata": {},
   "outputs": [],
   "source": [
    "housing_predictions_test = tree_reg.predict(X_test)\n",
    "tree_mse_test = mean_squared_error(y_test, housing_predictions_test)\n",
    "tree_rmse_test = np.sqrt(tree_mse_test)\n",
    "print(tree_mse_test)"
   ]
  },
  {
   "cell_type": "markdown",
   "id": "36811120",
   "metadata": {},
   "source": [
    "### Pregunta\n",
    "---\n",
    "¿Qué puede opinar del desempeño de este modelo de regresión?"
   ]
  },
  {
   "cell_type": "markdown",
   "id": "990bc1a1",
   "metadata": {},
   "source": [
    "## Cross validation "
   ]
  },
  {
   "cell_type": "code",
   "execution_count": null,
   "id": "eeade52b",
   "metadata": {},
   "outputs": [],
   "source": [
    "scores = cross_val_score(tree_reg, X_train, y_train,\n",
    "                             scoring=\"neg_mean_squared_error\", cv=10)\n",
    "tree_rmse_scores = np.sqrt(-scores)\n"
   ]
  },
  {
   "cell_type": "code",
   "execution_count": null,
   "id": "eb857b08",
   "metadata": {},
   "outputs": [],
   "source": [
    "def display_scores(scores):\n",
    "    print(\"Scores:\", scores)\n",
    "    print(\"Mean:\", scores.mean())\n",
    "    print(\"Standard deviation:\", scores.std())"
   ]
  },
  {
   "cell_type": "code",
   "execution_count": null,
   "id": "9c8786e3",
   "metadata": {},
   "outputs": [],
   "source": [
    "display_scores(tree_rmse_scores)"
   ]
  },
  {
   "cell_type": "markdown",
   "id": "7becac1a",
   "metadata": {},
   "source": [
    "## GridSearchCV()\n",
    "---\n",
    "Busque en http://scikit-learn.org/stable/modules/generated/sklearn.model_selection.GridSearchCV.html como usar el método"
   ]
  },
  {
   "cell_type": "code",
   "execution_count": null,
   "id": "2f7a7867",
   "metadata": {},
   "outputs": [],
   "source": [
    "param_grid = {'max_depth': [1,2,3], 'min_samples_split': [2,3,4,5]}"
   ]
  },
  {
   "cell_type": "code",
   "execution_count": null,
   "id": "bc8b3ad1",
   "metadata": {},
   "outputs": [],
   "source": [
    "grid_search = GridSearchCV(tree_reg, param_grid, cv=5,\n",
    "                               scoring='neg_mean_squared_error',\n",
    "                               return_train_score=True)"
   ]
  },
  {
   "cell_type": "code",
   "execution_count": null,
   "id": "c0fc68ee",
   "metadata": {},
   "outputs": [],
   "source": [
    "grid_search.fit(X_train, y_train)"
   ]
  },
  {
   "cell_type": "code",
   "execution_count": null,
   "id": "6644b679",
   "metadata": {},
   "outputs": [],
   "source": [
    "grid_search.best_params_"
   ]
  },
  {
   "cell_type": "code",
   "execution_count": null,
   "id": "a6948bf1",
   "metadata": {},
   "outputs": [],
   "source": [
    "best_reg =  grid_search.best_estimator_"
   ]
  },
  {
   "cell_type": "code",
   "execution_count": null,
   "id": "8d0aaba1",
   "metadata": {},
   "outputs": [],
   "source": [
    "best_reg"
   ]
  },
  {
   "cell_type": "code",
   "execution_count": null,
   "id": "c299804d",
   "metadata": {},
   "outputs": [],
   "source": [
    "cvres = grid_search.cv_results_"
   ]
  },
  {
   "cell_type": "code",
   "execution_count": null,
   "id": "79564fa3",
   "metadata": {},
   "outputs": [],
   "source": [
    "for mean_score, params in zip(cvres[\"mean_test_score\"], cvres[\"params\"]):\n",
    "    print(np.sqrt(-mean_score), params)"
   ]
  },
  {
   "cell_type": "code",
   "execution_count": null,
   "id": "7a773d2f",
   "metadata": {},
   "outputs": [],
   "source": [
    "train_pred = best_reg.predict(X_train)\n",
    "test_pred = best_reg.predict(X_test)"
   ]
  },
  {
   "cell_type": "code",
   "execution_count": null,
   "id": "836f1304",
   "metadata": {},
   "outputs": [],
   "source": [
    "mse_train = mean_squared_error(y_train,train_pred)\n",
    "mse_test = mean_squared_error(y_test, test_pred)\n",
    "print(np.sqrt(mse_train), np.sqrt(mse_test))"
   ]
  },
  {
   "cell_type": "markdown",
   "id": "55b8162c",
   "metadata": {},
   "source": [
    "## Grafique el mejor árbol encontrado con GridSearchCV"
   ]
  },
  {
   "cell_type": "code",
   "execution_count": null,
   "id": "fc7bb875",
   "metadata": {},
   "outputs": [],
   "source": []
  }
 ],
 "metadata": {
  "kernelspec": {
   "display_name": "Python 3",
   "language": "python",
   "name": "python3"
  },
  "language_info": {
   "codemirror_mode": {
    "name": "ipython",
    "version": 3
   },
   "file_extension": ".py",
   "mimetype": "text/x-python",
   "name": "python",
   "nbconvert_exporter": "python",
   "pygments_lexer": "ipython3",
   "version": "3.8.10"
  }
 },
 "nbformat": 4,
 "nbformat_minor": 5
}
