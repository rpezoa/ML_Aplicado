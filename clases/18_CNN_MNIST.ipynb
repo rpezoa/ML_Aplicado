{
 "cells": [
  {
   "cell_type": "markdown",
   "id": "54d0b67f",
   "metadata": {},
   "source": [
    "# CNN aplicado a clasificar imágenes de la base de datos MNIST\n",
    "***\n",
    "Ejemplo obtenido desde: https://keras.io/examples/vision/mnist_convnet/"
   ]
  },
  {
   "cell_type": "code",
   "execution_count": 10,
   "id": "a65a905e",
   "metadata": {},
   "outputs": [],
   "source": [
    "import numpy as np\n",
    "from tensorflow import keras\n",
    "from tensorflow.keras import layers\n",
    "from matplotlib import pyplot as plt"
   ]
  },
  {
   "cell_type": "code",
   "execution_count": 2,
   "id": "ab415ea5",
   "metadata": {},
   "outputs": [
    {
     "name": "stdout",
     "output_type": "stream",
     "text": [
      "x_train shape: (60000, 28, 28, 1)\n",
      "60000 train samples\n",
      "10000 test samples\n"
     ]
    }
   ],
   "source": [
    "# Model / data parameters\n",
    "num_classes = 10\n",
    "input_shape = (28, 28, 1)\n",
    "\n",
    "# the data, split between train and test sets\n",
    "(x_train, y_train), (x_test, y_test) = keras.datasets.mnist.load_data()\n",
    "\n",
    "# Scale images to the [0, 1] range\n",
    "x_train = x_train.astype(\"float32\") / 255\n",
    "x_test = x_test.astype(\"float32\") / 255\n",
    "# Make sure images have shape (28, 28, 1)\n",
    "x_train = np.expand_dims(x_train, -1)\n",
    "x_test = np.expand_dims(x_test, -1)\n",
    "print(\"x_train shape:\", x_train.shape)\n",
    "print(x_train.shape[0], \"train samples\")\n",
    "print(x_test.shape[0], \"test samples\")\n",
    "\n",
    "\n",
    "# convert class vectors to binary class matrices\n",
    "y_train = keras.utils.to_categorical(y_train, num_classes)\n",
    "y_test = keras.utils.to_categorical(y_test, num_classes)"
   ]
  },
  {
   "cell_type": "markdown",
   "id": "ed1fe367",
   "metadata": {},
   "source": [
    "### MNIST dataset\n",
    "****\n",
    "- Revisar [MNIST](http://yann.lecun.com/exdb/mnist/)\n",
    "- Problema de clasificación de imágenes\n",
    "- 10 clases: 0, 1, 2, ..., 9"
   ]
  },
  {
   "cell_type": "code",
   "execution_count": 23,
   "id": "76f6cde2",
   "metadata": {},
   "outputs": [
    {
     "data": {
      "image/png": "[encoded data removed]",
      "text/plain": [
       "<Figure size 432x288 with 6 Axes>"
      ]
     },
     "metadata": {
      "needs_background": "light"
     },
     "output_type": "display_data"
    }
   ],
   "source": [
    "for i in range(1, 7):\n",
    "    plt.subplot(2, 3, i)\n",
    "    plt.imshow(x_train[i], cmap=\"gray\")\n",
    "    \n"
   ]
  },
  {
   "cell_type": "code",
   "execution_count": 3,
   "id": "a57d1c31",
   "metadata": {},
   "outputs": [
    {
     "name": "stdout",
     "output_type": "stream",
     "text": [
      "Model: \"sequential\"\n",
      "_________________________________________________________________\n",
      "Layer (type)                 Output Shape              Param #   \n",
      "=================================================================\n",
      "conv2d (Conv2D)              (None, 26, 26, 32)        320       \n",
      "_________________________________________________________________\n",
      "max_pooling2d (MaxPooling2D) (None, 13, 13, 32)        0         \n",
      "_________________________________________________________________\n",
      "conv2d_1 (Conv2D)            (None, 11, 11, 64)        18496     \n",
      "_________________________________________________________________\n",
      "max_pooling2d_1 (MaxPooling2 (None, 5, 5, 64)          0         \n",
      "_________________________________________________________________\n",
      "flatten (Flatten)            (None, 1600)              0         \n",
      "_________________________________________________________________\n",
      "dropout (Dropout)            (None, 1600)              0         \n",
      "_________________________________________________________________\n",
      "dense (Dense)                (None, 10)                16010     \n",
      "=================================================================\n",
      "Total params: 34,826\n",
      "Trainable params: 34,826\n",
      "Non-trainable params: 0\n",
      "_________________________________________________________________\n"
     ]
    }
   ],
   "source": [
    "model = keras.Sequential(\n",
    "    [\n",
    "        keras.Input(shape=input_shape),\n",
    "        layers.Conv2D(32, kernel_size=(3, 3), activation=\"relu\"),\n",
    "        layers.MaxPooling2D(pool_size=(2, 2)),\n",
    "        layers.Conv2D(64, kernel_size=(3, 3), activation=\"relu\"),\n",
    "        layers.MaxPooling2D(pool_size=(2, 2)),\n",
    "        layers.Flatten(),\n",
    "        layers.Dropout(0.5),\n",
    "        layers.Dense(num_classes, activation=\"softmax\"),\n",
    "    ]\n",
    ")\n",
    "\n",
    "model.summary()"
   ]
  },
  {
   "cell_type": "code",
   "execution_count": 5,
   "id": "5cd0240c",
   "metadata": {},
   "outputs": [
    {
     "name": "stdout",
     "output_type": "stream",
     "text": [
      "Epoch 1/15\n",
      "422/422 [==============================] - 48s 103ms/step - loss: 0.7442 - accuracy: 0.7702 - val_loss: 0.0792 - val_accuracy: 0.9793\n",
      "Epoch 2/15\n",
      "422/422 [==============================] - 35s 83ms/step - loss: 0.1195 - accuracy: 0.9640 - val_loss: 0.0562 - val_accuracy: 0.9840\n",
      "Epoch 3/15\n",
      "422/422 [==============================] - 31s 73ms/step - loss: 0.0886 - accuracy: 0.9733 - val_loss: 0.0496 - val_accuracy: 0.9860\n",
      "Epoch 4/15\n",
      "422/422 [==============================] - 41s 98ms/step - loss: 0.0764 - accuracy: 0.9771 - val_loss: 0.0466 - val_accuracy: 0.9860\n",
      "Epoch 5/15\n",
      "422/422 [==============================] - 57s 134ms/step - loss: 0.0628 - accuracy: 0.9803 - val_loss: 0.0402 - val_accuracy: 0.9895\n",
      "Epoch 6/15\n",
      "422/422 [==============================] - 48s 113ms/step - loss: 0.0568 - accuracy: 0.9817 - val_loss: 0.0347 - val_accuracy: 0.9903\n",
      "Epoch 7/15\n",
      "422/422 [==============================] - 35s 83ms/step - loss: 0.0520 - accuracy: 0.9838 - val_loss: 0.0343 - val_accuracy: 0.9898\n",
      "Epoch 8/15\n",
      "422/422 [==============================] - 36s 85ms/step - loss: 0.0465 - accuracy: 0.9840 - val_loss: 0.0325 - val_accuracy: 0.9905\n",
      "Epoch 9/15\n",
      "422/422 [==============================] - 30s 70ms/step - loss: 0.0437 - accuracy: 0.9867 - val_loss: 0.0332 - val_accuracy: 0.9917\n",
      "Epoch 10/15\n",
      "422/422 [==============================] - 37s 87ms/step - loss: 0.0397 - accuracy: 0.9877 - val_loss: 0.0312 - val_accuracy: 0.9912\n",
      "Epoch 11/15\n",
      "422/422 [==============================] - 25s 60ms/step - loss: 0.0376 - accuracy: 0.9876 - val_loss: 0.0313 - val_accuracy: 0.9915\n",
      "Epoch 12/15\n",
      "422/422 [==============================] - 26s 62ms/step - loss: 0.0382 - accuracy: 0.9880 - val_loss: 0.0372 - val_accuracy: 0.9907\n",
      "Epoch 13/15\n",
      "422/422 [==============================] - 26s 62ms/step - loss: 0.0366 - accuracy: 0.9882 - val_loss: 0.0296 - val_accuracy: 0.9913\n",
      "Epoch 14/15\n",
      "422/422 [==============================] - 33s 78ms/step - loss: 0.0337 - accuracy: 0.9890 - val_loss: 0.0291 - val_accuracy: 0.9908\n",
      "Epoch 15/15\n",
      "422/422 [==============================] - 35s 84ms/step - loss: 0.0327 - accuracy: 0.9891 - val_loss: 0.0301 - val_accuracy: 0.9922\n"
     ]
    },
    {
     "data": {
      "text/plain": [
       "<tensorflow.python.keras.callbacks.History at 0x147de60d0>"
      ]
     },
     "execution_count": 5,
     "metadata": {},
     "output_type": "execute_result"
    }
   ],
   "source": [
    "batch_size = 128\n",
    "epochs = 15\n",
    "\n",
    "model.compile(loss=\"categorical_crossentropy\", optimizer=\"adam\", metrics=[\"accuracy\"])\n",
    "\n",
    "model.fit(x_train, y_train, batch_size=batch_size, epochs=epochs, validation_split=0.1)"
   ]
  },
  {
   "cell_type": "code",
   "execution_count": 6,
   "id": "0dec237b",
   "metadata": {},
   "outputs": [
    {
     "name": "stdout",
     "output_type": "stream",
     "text": [
      "Test loss: 0.026000699028372765\n",
      "Test accuracy: 0.9921000003814697\n"
     ]
    }
   ],
   "source": [
    "score = model.evaluate(x_test, y_test, verbose=0)\n",
    "print(\"Test loss:\", score[0])\n",
    "print(\"Test accuracy:\", score[1])"
   ]
  },
  {
   "cell_type": "code",
   "execution_count": 54,
   "id": "03cb378c",
   "metadata": {},
   "outputs": [
    {
     "name": "stdout",
     "output_type": "stream",
     "text": [
      "La predicción para cada imagen es un vector con 10 componentes\n",
      "[6.7418321e-10 6.1914661e-11 8.4837819e-07 2.5875543e-06 8.3985898e-14\n",
      " 1.3051502e-10 1.1040516e-17 9.9999630e-01 5.1904947e-09 2.0279683e-07]\n"
     ]
    }
   ],
   "source": [
    "prediction = model.predict(x_test)\n",
    "print(\"La predicción para cada imagen es un vector con 10 componentes\")\n",
    "print(prediction[0])"
   ]
  },
  {
   "cell_type": "markdown",
   "id": "9bccfcb3",
   "metadata": {},
   "source": [
    "### Analicemos las primeras imágenes del conjunto de testing"
   ]
  },
  {
   "cell_type": "code",
   "execution_count": 53,
   "id": "7cb3a708",
   "metadata": {},
   "outputs": [
    {
     "name": "stdout",
     "output_type": "stream",
     "text": [
      "image  1 predicts  7\n",
      "image  2 predicts  2\n",
      "image  3 predicts  1\n",
      "image  4 predicts  0\n",
      "image  5 predicts  4\n",
      "image  6 predicts  1\n"
     ]
    },
    {
     "data": {
      "image/png": "[encoded data removed]",
      "text/plain": [
       "<Figure size 432x288 with 6 Axes>"
      ]
     },
     "metadata": {
      "needs_background": "light"
     },
     "output_type": "display_data"
    }
   ],
   "source": [
    "for i in range(1, 7):\n",
    "    index_max = np.argmax(prediction[i-1,:])\n",
    "    print(\"image \", i, \"predicts \", index_max)\n",
    "    plt.subplot(2, 3, i)\n",
    "    plt.imshow(x_test[i-1,:,:,0], cmap=\"gray\")"
   ]
  },
  {
   "cell_type": "code",
   "execution_count": null,
   "id": "9c7ba13d",
   "metadata": {},
   "outputs": [],
   "source": []
  }
 ],
 "metadata": {
  "kernelspec": {
   "display_name": "Python 3",
   "language": "python",
   "name": "python3"
  },
  "language_info": {
   "codemirror_mode": {
    "name": "ipython",
    "version": 3
   },
   "file_extension": ".py",
   "mimetype": "text/x-python",
   "name": "python",
   "nbconvert_exporter": "python",
   "pygments_lexer": "ipython3",
   "version": "3.8.10"
  }
 },
 "nbformat": 4,
 "nbformat_minor": 5
}
