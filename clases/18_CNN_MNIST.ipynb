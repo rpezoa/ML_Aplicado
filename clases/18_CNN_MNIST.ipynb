{
 "cells": [
  {
   "cell_type": "markdown",
   "id": "54d0b67f",
   "metadata": {},
   "source": [
    "# CNN aplicado a clasificar imágenes de la base de datos MNIST\n",
    "***\n",
    "Ejemplo obtenido desde: https://keras.io/examples/vision/mnist_convnet/"
   ]
  },
  {
   "cell_type": "code",
   "execution_count": 4,
   "id": "a65a905e",
   "metadata": {},
   "outputs": [],
   "source": [
    "import numpy as np\n",
    "from tensorflow import keras\n",
    "from tensorflow.keras import layers\n",
    "from matplotlib import pyplot as plt"
   ]
  },
  {
   "cell_type": "code",
   "execution_count": 5,
   "id": "ab415ea5",
   "metadata": {},
   "outputs": [
    {
     "name": "stdout",
     "output_type": "stream",
     "text": [
      "x_train shape: (60000, 28, 28, 1)\n",
      "60000 train samples\n",
      "10000 test samples\n"
     ]
    }
   ],
   "source": [
    "# Model / data parameters\n",
    "num_classes = 10\n",
    "input_shape = (28, 28, 1)\n",
    "\n",
    "# the data, split between train and test sets\n",
    "(x_train, y_train), (x_test, y_test) = keras.datasets.mnist.load_data()\n",
    "\n",
    "# Scale images to the [0, 1] range\n",
    "x_train = x_train.astype(\"float32\") / 255\n",
    "x_test = x_test.astype(\"float32\") / 255\n",
    "# Make sure images have shape (28, 28, 1)\n",
    "x_train = np.expand_dims(x_train, -1)\n",
    "x_test = np.expand_dims(x_test, -1)\n",
    "print(\"x_train shape:\", x_train.shape)\n",
    "print(x_train.shape[0], \"train samples\")\n",
    "print(x_test.shape[0], \"test samples\")\n",
    "\n",
    "\n",
    "# convert class vectors to binary class matrices\n",
    "y_train = keras.utils.to_categorical(y_train, num_classes)\n",
    "y_test = keras.utils.to_categorical(y_test, num_classes)"
   ]
  },
  {
   "cell_type": "code",
   "execution_count": 6,
   "id": "495f7bbc",
   "metadata": {},
   "outputs": [
    {
     "data": {
      "text/plain": [
       "array([[0., 0., 0., ..., 1., 0., 0.],\n",
       "       [0., 0., 1., ..., 0., 0., 0.],\n",
       "       [0., 1., 0., ..., 0., 0., 0.],\n",
       "       ...,\n",
       "       [0., 0., 0., ..., 0., 0., 0.],\n",
       "       [0., 0., 0., ..., 0., 0., 0.],\n",
       "       [0., 0., 0., ..., 0., 0., 0.]], dtype=float32)"
      ]
     },
     "execution_count": 6,
     "metadata": {},
     "output_type": "execute_result"
    }
   ],
   "source": [
    "y_test"
   ]
  },
  {
   "cell_type": "markdown",
   "id": "ed1fe367",
   "metadata": {},
   "source": [
    "### MNIST dataset\n",
    "****\n",
    "- Revisar [MNIST](http://yann.lecun.com/exdb/mnist/)\n",
    "- Problema de clasificación de imágenes\n",
    "- 10 clases: 0, 1, 2, ..., 9"
   ]
  },
  {
   "cell_type": "code",
   "execution_count": 7,
   "id": "76f6cde2",
   "metadata": {},
   "outputs": [
    {
     "data": {
      "image/png": "[encoded data removed]",
      "text/plain": [
       "<Figure size 432x288 with 6 Axes>"
      ]
     },
     "metadata": {
      "needs_background": "light"
     },
     "output_type": "display_data"
    }
   ],
   "source": [
    "for i in range(1, 7):\n",
    "    plt.subplot(2, 3, i)\n",
    "    plt.imshow(x_train[i], cmap=\"gray\")\n",
    "    \n"
   ]
  },
  {
   "cell_type": "code",
   "execution_count": 8,
   "id": "a57d1c31",
   "metadata": {},
   "outputs": [
    {
     "name": "stdout",
     "output_type": "stream",
     "text": [
      "Model: \"sequential\"\n",
      "_________________________________________________________________\n",
      " Layer (type)                Output Shape              Param #   \n",
      "=================================================================\n",
      " conv2d (Conv2D)             (None, 26, 26, 32)        320       \n",
      "                                                                 \n",
      " max_pooling2d (MaxPooling2D  (None, 13, 13, 32)       0         \n",
      " )                                                               \n",
      "                                                                 \n",
      " conv2d_1 (Conv2D)           (None, 11, 11, 64)        18496     \n",
      "                                                                 \n",
      " max_pooling2d_1 (MaxPooling  (None, 5, 5, 64)         0         \n",
      " 2D)                                                             \n",
      "                                                                 \n",
      " flatten (Flatten)           (None, 1600)              0         \n",
      "                                                                 \n",
      " dropout (Dropout)           (None, 1600)              0         \n",
      "                                                                 \n",
      " dense (Dense)               (None, 10)                16010     \n",
      "                                                                 \n",
      "=================================================================\n",
      "Total params: 34,826\n",
      "Trainable params: 34,826\n",
      "Non-trainable params: 0\n",
      "_________________________________________________________________\n"
     ]
    },
    {
     "name": "stderr",
     "output_type": "stream",
     "text": [
      "2022-11-09 08:38:48.784642: I tensorflow/core/platform/cpu_feature_guard.cc:151] This TensorFlow binary is optimized with oneAPI Deep Neural Network Library (oneDNN) to use the following CPU instructions in performance-critical operations:  AVX2 FMA\n",
      "To enable them in other operations, rebuild TensorFlow with the appropriate compiler flags.\n"
     ]
    }
   ],
   "source": [
    "model = keras.Sequential(\n",
    "    [\n",
    "        keras.Input(shape=input_shape),\n",
    "        layers.Conv2D(32, kernel_size=(3, 3), activation=\"relu\", \n",
    "                      kernel_initializer=keras.initializers.random_normal),\n",
    "        layers.MaxPooling2D(pool_size=(2, 2)),\n",
    "        layers.Conv2D(64, kernel_size=(3, 3), activation=\"relu\"),\n",
    "        layers.MaxPooling2D(pool_size=(2, 2)),\n",
    "        layers.Flatten(),\n",
    "        layers.Dropout(0.5),\n",
    "        layers.Dense(num_classes, activation=\"softmax\"),\n",
    "    ]\n",
    ")\n",
    "\n",
    "model.summary()"
   ]
  },
  {
   "cell_type": "code",
   "execution_count": 14,
   "id": "5cd0240c",
   "metadata": {},
   "outputs": [
    {
     "name": "stdout",
     "output_type": "stream",
     "text": [
      "Epoch 1/15\n",
      "422/422 [==============================] - 17s 38ms/step - loss: 0.0279 - accuracy: 0.9909 - val_loss: 0.0273 - val_accuracy: 0.9925\n",
      "Epoch 2/15\n",
      "422/422 [==============================] - 16s 38ms/step - loss: 0.0274 - accuracy: 0.9911 - val_loss: 0.0268 - val_accuracy: 0.9928\n",
      "Epoch 3/15\n",
      "422/422 [==============================] - 16s 38ms/step - loss: 0.0265 - accuracy: 0.9913 - val_loss: 0.0266 - val_accuracy: 0.9930\n",
      "Epoch 4/15\n",
      "422/422 [==============================] - 16s 39ms/step - loss: 0.0251 - accuracy: 0.9917 - val_loss: 0.0268 - val_accuracy: 0.9927\n",
      "Epoch 5/15\n",
      "422/422 [==============================] - 16s 39ms/step - loss: 0.0258 - accuracy: 0.9912 - val_loss: 0.0263 - val_accuracy: 0.9933\n",
      "Epoch 6/15\n",
      "422/422 [==============================] - 16s 39ms/step - loss: 0.0249 - accuracy: 0.9920 - val_loss: 0.0266 - val_accuracy: 0.9930\n",
      "Epoch 7/15\n",
      "422/422 [==============================] - 16s 39ms/step - loss: 0.0261 - accuracy: 0.9914 - val_loss: 0.0265 - val_accuracy: 0.9932\n",
      "Epoch 8/15\n",
      "422/422 [==============================] - 16s 39ms/step - loss: 0.0246 - accuracy: 0.9921 - val_loss: 0.0264 - val_accuracy: 0.9933\n",
      "Epoch 9/15\n",
      "422/422 [==============================] - 16s 39ms/step - loss: 0.0251 - accuracy: 0.9913 - val_loss: 0.0267 - val_accuracy: 0.9930\n",
      "Epoch 10/15\n",
      "422/422 [==============================] - 17s 40ms/step - loss: 0.0255 - accuracy: 0.9916 - val_loss: 0.0266 - val_accuracy: 0.9932\n",
      "Epoch 11/15\n",
      "422/422 [==============================] - 17s 39ms/step - loss: 0.0245 - accuracy: 0.9919 - val_loss: 0.0266 - val_accuracy: 0.9932\n",
      "Epoch 12/15\n",
      "422/422 [==============================] - 17s 39ms/step - loss: 0.0249 - accuracy: 0.9917 - val_loss: 0.0265 - val_accuracy: 0.9928\n",
      "Epoch 13/15\n",
      "422/422 [==============================] - 17s 39ms/step - loss: 0.0248 - accuracy: 0.9917 - val_loss: 0.0267 - val_accuracy: 0.9928\n",
      "Epoch 14/15\n",
      "422/422 [==============================] - 19s 44ms/step - loss: 0.0235 - accuracy: 0.9920 - val_loss: 0.0268 - val_accuracy: 0.9928\n",
      "Epoch 15/15\n",
      "422/422 [==============================] - 17s 40ms/step - loss: 0.0264 - accuracy: 0.9918 - val_loss: 0.0264 - val_accuracy: 0.9933\n"
     ]
    },
    {
     "data": {
      "text/plain": [
       "<keras.callbacks.History at 0x7fe2bc9d06a0>"
      ]
     },
     "execution_count": 14,
     "metadata": {},
     "output_type": "execute_result"
    }
   ],
   "source": [
    "batch_size = 128\n",
    "epochs = 15\n",
    "\n",
    "model.compile(loss=\"categorical_crossentropy\", optimizer=keras.optimizers.SGD(), metrics=[\"accuracy\"])\n",
    "\n",
    "model.fit(x_train, y_train, batch_size=batch_size, epochs=epochs, validation_split=0.1)"
   ]
  },
  {
   "cell_type": "code",
   "execution_count": 15,
   "id": "0dec237b",
   "metadata": {},
   "outputs": [
    {
     "name": "stdout",
     "output_type": "stream",
     "text": [
      "Test loss: 0.02253304421901703\n",
      "Test accuracy: 0.9922000169754028\n"
     ]
    }
   ],
   "source": [
    "score = model.evaluate(x_test, y_test, verbose=0)\n",
    "print(\"Test loss:\", score[0])\n",
    "print(\"Test accuracy:\", score[1])"
   ]
  },
  {
   "cell_type": "code",
   "execution_count": 16,
   "id": "03cb378c",
   "metadata": {},
   "outputs": [
    {
     "name": "stdout",
     "output_type": "stream",
     "text": [
      "La predicción para cada imagen es un vector con 10 componentes\n",
      "[6.1396649e-10 4.1255447e-11 3.5538096e-06 5.9391905e-06 7.7379523e-14\n",
      " 1.5354712e-10 3.5843361e-18 9.9999022e-01 8.2858458e-09 2.1215676e-07]\n"
     ]
    }
   ],
   "source": [
    "prediction = model.predict(x_test)\n",
    "print(\"La predicción para cada imagen es un vector con 10 componentes\")\n",
    "print(prediction[0])"
   ]
  },
  {
   "cell_type": "code",
   "execution_count": 17,
   "id": "65d9a37e",
   "metadata": {},
   "outputs": [
    {
     "data": {
      "text/plain": [
       "array([[6.1396649e-10, 4.1255447e-11, 3.5538096e-06, ..., 9.9999022e-01,\n",
       "        8.2858458e-09, 2.1215676e-07],\n",
       "       [1.3523336e-07, 1.3639929e-06, 9.9999738e-01, ..., 3.8406184e-12,\n",
       "        1.9296307e-08, 3.5096833e-13],\n",
       "       [3.3224450e-07, 9.9982637e-01, 1.7423896e-06, ..., 2.9214078e-05,\n",
       "        5.9001427e-06, 1.3193585e-07],\n",
       "       ...,\n",
       "       [1.5243743e-13, 4.1590545e-10, 2.4294627e-12, ..., 8.5076648e-09,\n",
       "        1.1936825e-07, 5.5970704e-09],\n",
       "       [4.7974808e-08, 1.1876924e-13, 9.6318686e-10, ..., 8.7509205e-13,\n",
       "        6.3304084e-05, 1.8136292e-08],\n",
       "       [1.0657383e-06, 7.2866522e-12, 2.1254791e-06, ..., 2.6054107e-12,\n",
       "        1.8125509e-05, 6.9561090e-10]], dtype=float32)"
      ]
     },
     "execution_count": 17,
     "metadata": {},
     "output_type": "execute_result"
    }
   ],
   "source": [
    "prediction"
   ]
  },
  {
   "cell_type": "markdown",
   "id": "9bccfcb3",
   "metadata": {},
   "source": [
    "### Analicemos las primeras imágenes del conjunto de testing"
   ]
  },
  {
   "cell_type": "code",
   "execution_count": 18,
   "id": "7cb3a708",
   "metadata": {},
   "outputs": [
    {
     "name": "stdout",
     "output_type": "stream",
     "text": [
      "image  1 predicts  7\n",
      "image  2 predicts  2\n",
      "image  3 predicts  1\n",
      "image  4 predicts  0\n",
      "image  5 predicts  4\n",
      "image  6 predicts  1\n"
     ]
    },
    {
     "data": {
      "image/png": "[encoded data removed]",
      "text/plain": [
       "<Figure size 432x288 with 6 Axes>"
      ]
     },
     "metadata": {
      "needs_background": "light"
     },
     "output_type": "display_data"
    }
   ],
   "source": [
    "for i in range(1, 7):\n",
    "    index_max = np.argmax(prediction[i-1,:])\n",
    "    print(\"image \", i, \"predicts \", index_max)\n",
    "    plt.subplot(2, 3, i)\n",
    "    plt.imshow(x_test[i-1,:,:,0], cmap=\"gray\")"
   ]
  },
  {
   "cell_type": "code",
   "execution_count": null,
   "id": "9c7ba13d",
   "metadata": {},
   "outputs": [],
   "source": []
  }
 ],
 "metadata": {
  "kernelspec": {
   "display_name": "Python 3 (ipykernel)",
   "language": "python",
   "name": "python3"
  },
  "language_info": {
   "codemirror_mode": {
    "name": "ipython",
    "version": 3
   },
   "file_extension": ".py",
   "mimetype": "text/x-python",
   "name": "python",
   "nbconvert_exporter": "python",
   "pygments_lexer": "ipython3",
   "version": "3.8.12"
  }
 },
 "nbformat": 4,
 "nbformat_minor": 5
}
