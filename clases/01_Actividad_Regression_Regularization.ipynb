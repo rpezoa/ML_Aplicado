{
 "cells": [
  {
   "cell_type": "markdown",
   "id": "8a29ce5f",
   "metadata": {},
   "source": [
    "# Actividad en clases"
   ]
  },
  {
   "cell_type": "code",
   "execution_count": 1,
   "id": "1df5871c",
   "metadata": {},
   "outputs": [],
   "source": [
    "# Basaado en: http://www.science.smith.edu/~jcrouser/SDS293/labs/lab10-py.html\n",
    "\n",
    "import pandas as pd\n",
    "import numpy as np\n",
    "import matplotlib.pyplot as plt\n",
    "\n",
    "from sklearn.preprocessing import scale \n",
    "from sklearn.model_selection import train_test_split\n",
    "from sklearn.linear_model import Ridge, Lasso\n",
    "from sklearn.metrics import mean_squared_error"
   ]
  },
  {
   "cell_type": "markdown",
   "id": "1074cb38",
   "metadata": {},
   "source": [
    "## 1. Cargar los datos del dataset \"Hitters\"\n",
    "_____\n",
    "1. Descarge los datos desde: https://www.kaggle.com/datasets/floser/hitters\n",
    "2. Use pandas para cargar los datos en un dataframe\n",
    "3. Elimine las filas que tengas datos no definidos (NaN)\n",
    "4. Muestre el dataframe"
   ]
  },
  {
   "cell_type": "code",
   "execution_count": 3,
   "id": "9f5cb4ed",
   "metadata": {},
   "outputs": [],
   "source": [
    "# Su código acá"
   ]
  },
  {
   "cell_type": "markdown",
   "id": "cfd1ecbf",
   "metadata": {},
   "source": [
    "## 2. Listar las columnas y eliminar aquellas que no son de tipo numérica\n",
    "-----\n",
    "1. Eliminar usando df.drop([col1, col2, ...], axis=1).astype('float64') y dejar dataframe en la variable X\n",
    "2. Mostrar X"
   ]
  },
  {
   "cell_type": "code",
   "execution_count": 4,
   "id": "a9a50993",
   "metadata": {},
   "outputs": [],
   "source": [
    "# Su código acá"
   ]
  },
  {
   "cell_type": "markdown",
   "id": "2ef38400",
   "metadata": {},
   "source": [
    "## 3. Obtener vector y, correspondiente a las etiquetas de los datos\n",
    "-----\n",
    "1. Utilizar la variable y para almacenar las etiquetas, que corresponden a los valores de la columna Salary"
   ]
  },
  {
   "cell_type": "code",
   "execution_count": 5,
   "id": "8cf084fe",
   "metadata": {},
   "outputs": [],
   "source": [
    "# Su código acá"
   ]
  },
  {
   "cell_type": "markdown",
   "id": "d8b0d4be",
   "metadata": {},
   "source": [
    "## 4. Generar un conjunto de valores de $\\lambda$, parámetro de penalización \n",
    "-----\n",
    "1. Generar un arreglo numpy con 100 valores (usar código indicado)\n",
    "2. Gráficar los valores"
   ]
  },
  {
   "cell_type": "code",
   "execution_count": 6,
   "id": "6750c616",
   "metadata": {},
   "outputs": [],
   "source": [
    "# Su código acá"
   ]
  },
  {
   "cell_type": "markdown",
   "id": "0dbf03b2",
   "metadata": {},
   "source": [
    "## 5. Usar el método ridge regression (1)\n",
    "-----\n",
    "1. Usar Ridge(), y mediante un ciclo probar cada uno de los valores de lambda.\n",
    "2. Guardar en la lista llamada coefs, los coeficientes generados. Notar que en el método Ridge() el parámetro de penalización se llama alpha\n"
   ]
  },
  {
   "cell_type": "code",
   "execution_count": 7,
   "id": "7af9cf5d",
   "metadata": {},
   "outputs": [],
   "source": [
    "# Su código acá"
   ]
  },
  {
   "cell_type": "markdown",
   "id": "fed921bd",
   "metadata": {},
   "source": [
    "## Generar datos de entrenamiento y testing\n",
    "-----\n",
    "1. Usar train_test_split() como se indica a continuación"
   ]
  },
  {
   "cell_type": "code",
   "execution_count": 8,
   "id": "64347ac7",
   "metadata": {},
   "outputs": [],
   "source": [
    "# Su código acá"
   ]
  },
  {
   "cell_type": "markdown",
   "id": "5b51ce82",
   "metadata": {},
   "source": [
    "## Usar Ridge Regression (2)\n",
    "-----\n",
    "1. Usar alpha= 4, y usar los datos de entrenaiento para ajustar\n",
    "2. Imprimir por pantalla los coeficientes encontrados\n",
    "3. Imprimer el error de generalización (mean squared error entre el conjunto de testing y la predicción)"
   ]
  },
  {
   "cell_type": "code",
   "execution_count": 9,
   "id": "48519c3b",
   "metadata": {},
   "outputs": [],
   "source": [
    "# Su código acá"
   ]
  },
  {
   "cell_type": "markdown",
   "id": "b5aedc93",
   "metadata": {},
   "source": [
    "## Usar Ridge Regression (3)\n",
    "-----\n",
    "1. Usar alpha muy grande, por ejemplo $\\alpha=10^{10}$, y usar los datos de entrenaiento para ajustar\n",
    "2. Imprimir por pantalla los coeficientes encontrados\n",
    "3. Imprimer el error de generalización (mean squared error entre el conjunto de testing y la predicción)"
   ]
  },
  {
   "cell_type": "code",
   "execution_count": 10,
   "id": "801b8828",
   "metadata": {},
   "outputs": [],
   "source": [
    "# Su código acá"
   ]
  },
  {
   "cell_type": "markdown",
   "id": "72683912",
   "metadata": {},
   "source": [
    "## Usar Ridge Regression (4)\n",
    "-----\n",
    "1. Usar  $\\alpha=0$, y usar los datos de entrenaiento para ajustar\n",
    "2. Imprimir por pantalla los coeficientes encontrados\n",
    "3. Imprimer el error de generalización (mean squared error entre el conjunto de testing y la predicción)"
   ]
  },
  {
   "cell_type": "markdown",
   "id": "477e47b1",
   "metadata": {},
   "source": [
    "## Usar Lasso\n",
    "-----\n",
    "1. Usar Lasso(), y mediante un ciclo probar cada uno de los valores de lambda.\n",
    "2. Guardar en la lista llamada coefs, los coeficientes generados. Notar que en el método Ridge() el parámetro de penalización se llama alpha"
   ]
  },
  {
   "cell_type": "code",
   "execution_count": 11,
   "id": "72984005",
   "metadata": {},
   "outputs": [],
   "source": [
    "# Su código acá"
   ]
  }
 ],
 "metadata": {
  "kernelspec": {
   "display_name": "Python 3 (ipykernel)",
   "language": "python",
   "name": "python3"
  },
  "language_info": {
   "codemirror_mode": {
    "name": "ipython",
    "version": 3
   },
   "file_extension": ".py",
   "mimetype": "text/x-python",
   "name": "python",
   "nbconvert_exporter": "python",
   "pygments_lexer": "ipython3",
   "version": "3.8.12"
  }
 },
 "nbformat": 4,
 "nbformat_minor": 5
}
