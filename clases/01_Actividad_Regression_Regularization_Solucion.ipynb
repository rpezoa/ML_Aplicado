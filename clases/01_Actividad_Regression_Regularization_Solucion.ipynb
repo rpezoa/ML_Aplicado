{
 "cells": [
  {
   "cell_type": "markdown",
   "id": "97e46d7a",
   "metadata": {},
   "source": [
    "# Actividad en clases"
   ]
  },
  {
   "cell_type": "code",
   "execution_count": 1,
   "id": "1df5871c",
   "metadata": {},
   "outputs": [],
   "source": [
    "# Basaado en: http://www.science.smith.edu/~jcrouser/SDS293/labs/lab10-py.html\n",
    "\n",
    "import pandas as pd\n",
    "import numpy as np\n",
    "import matplotlib.pyplot as plt\n",
    "\n",
    "from sklearn.preprocessing import scale \n",
    "from sklearn.model_selection import train_test_split\n",
    "from sklearn.linear_model import Ridge, Lasso\n",
    "from sklearn.metrics import mean_squared_error\n",
    "from sklearn.preprocessing import StandardScaler"
   ]
  },
  {
   "cell_type": "markdown",
   "id": "001643c1",
   "metadata": {},
   "source": [
    "## 1. Cargar los datos del dataset \"Hitters\"\n",
    "_____\n",
    "1. Descarge los datos desde: https://www.kaggle.com/datasets/floser/hitters\n",
    "2. Use pandas para cargar los datos en un dataframe\n",
    "3. Elimine las filas que tengas datos no definidos (NaN)\n",
    "4. Muestre el dataframe"
   ]
  },
  {
   "cell_type": "code",
   "execution_count": 2,
   "id": "4d7b909d",
   "metadata": {},
   "outputs": [
    {
     "data": {
      "text/html": [
       "<div>\n",
       "<style scoped>\n",
       "    .dataframe tbody tr th:only-of-type {\n",
       "        vertical-align: middle;\n",
       "    }\n",
       "\n",
       "    .dataframe tbody tr th {\n",
       "        vertical-align: top;\n",
       "    }\n",
       "\n",
       "    .dataframe thead th {\n",
       "        text-align: right;\n",
       "    }\n",
       "</style>\n",
       "<table border=\"1\" class=\"dataframe\">\n",
       "  <thead>\n",
       "    <tr style=\"text-align: right;\">\n",
       "      <th></th>\n",
       "      <th>Unnamed: 0</th>\n",
       "      <th>AtBat</th>\n",
       "      <th>Hits</th>\n",
       "      <th>HmRun</th>\n",
       "      <th>Runs</th>\n",
       "      <th>RBI</th>\n",
       "      <th>Walks</th>\n",
       "      <th>Years</th>\n",
       "      <th>CAtBat</th>\n",
       "      <th>CHits</th>\n",
       "      <th>...</th>\n",
       "      <th>CRuns</th>\n",
       "      <th>CRBI</th>\n",
       "      <th>CWalks</th>\n",
       "      <th>League</th>\n",
       "      <th>Division</th>\n",
       "      <th>PutOuts</th>\n",
       "      <th>Assists</th>\n",
       "      <th>Errors</th>\n",
       "      <th>Salary</th>\n",
       "      <th>NewLeague</th>\n",
       "    </tr>\n",
       "  </thead>\n",
       "  <tbody>\n",
       "    <tr>\n",
       "      <th>1</th>\n",
       "      <td>-Alan Ashby</td>\n",
       "      <td>315</td>\n",
       "      <td>81</td>\n",
       "      <td>7</td>\n",
       "      <td>24</td>\n",
       "      <td>38</td>\n",
       "      <td>39</td>\n",
       "      <td>14</td>\n",
       "      <td>3449</td>\n",
       "      <td>835</td>\n",
       "      <td>...</td>\n",
       "      <td>321</td>\n",
       "      <td>414</td>\n",
       "      <td>375</td>\n",
       "      <td>N</td>\n",
       "      <td>W</td>\n",
       "      <td>632</td>\n",
       "      <td>43</td>\n",
       "      <td>10</td>\n",
       "      <td>475.0</td>\n",
       "      <td>N</td>\n",
       "    </tr>\n",
       "    <tr>\n",
       "      <th>2</th>\n",
       "      <td>-Alvin Davis</td>\n",
       "      <td>479</td>\n",
       "      <td>130</td>\n",
       "      <td>18</td>\n",
       "      <td>66</td>\n",
       "      <td>72</td>\n",
       "      <td>76</td>\n",
       "      <td>3</td>\n",
       "      <td>1624</td>\n",
       "      <td>457</td>\n",
       "      <td>...</td>\n",
       "      <td>224</td>\n",
       "      <td>266</td>\n",
       "      <td>263</td>\n",
       "      <td>A</td>\n",
       "      <td>W</td>\n",
       "      <td>880</td>\n",
       "      <td>82</td>\n",
       "      <td>14</td>\n",
       "      <td>480.0</td>\n",
       "      <td>A</td>\n",
       "    </tr>\n",
       "    <tr>\n",
       "      <th>3</th>\n",
       "      <td>-Andre Dawson</td>\n",
       "      <td>496</td>\n",
       "      <td>141</td>\n",
       "      <td>20</td>\n",
       "      <td>65</td>\n",
       "      <td>78</td>\n",
       "      <td>37</td>\n",
       "      <td>11</td>\n",
       "      <td>5628</td>\n",
       "      <td>1575</td>\n",
       "      <td>...</td>\n",
       "      <td>828</td>\n",
       "      <td>838</td>\n",
       "      <td>354</td>\n",
       "      <td>N</td>\n",
       "      <td>E</td>\n",
       "      <td>200</td>\n",
       "      <td>11</td>\n",
       "      <td>3</td>\n",
       "      <td>500.0</td>\n",
       "      <td>N</td>\n",
       "    </tr>\n",
       "    <tr>\n",
       "      <th>4</th>\n",
       "      <td>-Andres Galarraga</td>\n",
       "      <td>321</td>\n",
       "      <td>87</td>\n",
       "      <td>10</td>\n",
       "      <td>39</td>\n",
       "      <td>42</td>\n",
       "      <td>30</td>\n",
       "      <td>2</td>\n",
       "      <td>396</td>\n",
       "      <td>101</td>\n",
       "      <td>...</td>\n",
       "      <td>48</td>\n",
       "      <td>46</td>\n",
       "      <td>33</td>\n",
       "      <td>N</td>\n",
       "      <td>E</td>\n",
       "      <td>805</td>\n",
       "      <td>40</td>\n",
       "      <td>4</td>\n",
       "      <td>91.5</td>\n",
       "      <td>N</td>\n",
       "    </tr>\n",
       "    <tr>\n",
       "      <th>5</th>\n",
       "      <td>-Alfredo Griffin</td>\n",
       "      <td>594</td>\n",
       "      <td>169</td>\n",
       "      <td>4</td>\n",
       "      <td>74</td>\n",
       "      <td>51</td>\n",
       "      <td>35</td>\n",
       "      <td>11</td>\n",
       "      <td>4408</td>\n",
       "      <td>1133</td>\n",
       "      <td>...</td>\n",
       "      <td>501</td>\n",
       "      <td>336</td>\n",
       "      <td>194</td>\n",
       "      <td>A</td>\n",
       "      <td>W</td>\n",
       "      <td>282</td>\n",
       "      <td>421</td>\n",
       "      <td>25</td>\n",
       "      <td>750.0</td>\n",
       "      <td>A</td>\n",
       "    </tr>\n",
       "    <tr>\n",
       "      <th>...</th>\n",
       "      <td>...</td>\n",
       "      <td>...</td>\n",
       "      <td>...</td>\n",
       "      <td>...</td>\n",
       "      <td>...</td>\n",
       "      <td>...</td>\n",
       "      <td>...</td>\n",
       "      <td>...</td>\n",
       "      <td>...</td>\n",
       "      <td>...</td>\n",
       "      <td>...</td>\n",
       "      <td>...</td>\n",
       "      <td>...</td>\n",
       "      <td>...</td>\n",
       "      <td>...</td>\n",
       "      <td>...</td>\n",
       "      <td>...</td>\n",
       "      <td>...</td>\n",
       "      <td>...</td>\n",
       "      <td>...</td>\n",
       "      <td>...</td>\n",
       "    </tr>\n",
       "    <tr>\n",
       "      <th>317</th>\n",
       "      <td>-Willie McGee</td>\n",
       "      <td>497</td>\n",
       "      <td>127</td>\n",
       "      <td>7</td>\n",
       "      <td>65</td>\n",
       "      <td>48</td>\n",
       "      <td>37</td>\n",
       "      <td>5</td>\n",
       "      <td>2703</td>\n",
       "      <td>806</td>\n",
       "      <td>...</td>\n",
       "      <td>379</td>\n",
       "      <td>311</td>\n",
       "      <td>138</td>\n",
       "      <td>N</td>\n",
       "      <td>E</td>\n",
       "      <td>325</td>\n",
       "      <td>9</td>\n",
       "      <td>3</td>\n",
       "      <td>700.0</td>\n",
       "      <td>N</td>\n",
       "    </tr>\n",
       "    <tr>\n",
       "      <th>318</th>\n",
       "      <td>-Willie Randolph</td>\n",
       "      <td>492</td>\n",
       "      <td>136</td>\n",
       "      <td>5</td>\n",
       "      <td>76</td>\n",
       "      <td>50</td>\n",
       "      <td>94</td>\n",
       "      <td>12</td>\n",
       "      <td>5511</td>\n",
       "      <td>1511</td>\n",
       "      <td>...</td>\n",
       "      <td>897</td>\n",
       "      <td>451</td>\n",
       "      <td>875</td>\n",
       "      <td>A</td>\n",
       "      <td>E</td>\n",
       "      <td>313</td>\n",
       "      <td>381</td>\n",
       "      <td>20</td>\n",
       "      <td>875.0</td>\n",
       "      <td>A</td>\n",
       "    </tr>\n",
       "    <tr>\n",
       "      <th>319</th>\n",
       "      <td>-Wayne Tolleson</td>\n",
       "      <td>475</td>\n",
       "      <td>126</td>\n",
       "      <td>3</td>\n",
       "      <td>61</td>\n",
       "      <td>43</td>\n",
       "      <td>52</td>\n",
       "      <td>6</td>\n",
       "      <td>1700</td>\n",
       "      <td>433</td>\n",
       "      <td>...</td>\n",
       "      <td>217</td>\n",
       "      <td>93</td>\n",
       "      <td>146</td>\n",
       "      <td>A</td>\n",
       "      <td>W</td>\n",
       "      <td>37</td>\n",
       "      <td>113</td>\n",
       "      <td>7</td>\n",
       "      <td>385.0</td>\n",
       "      <td>A</td>\n",
       "    </tr>\n",
       "    <tr>\n",
       "      <th>320</th>\n",
       "      <td>-Willie Upshaw</td>\n",
       "      <td>573</td>\n",
       "      <td>144</td>\n",
       "      <td>9</td>\n",
       "      <td>85</td>\n",
       "      <td>60</td>\n",
       "      <td>78</td>\n",
       "      <td>8</td>\n",
       "      <td>3198</td>\n",
       "      <td>857</td>\n",
       "      <td>...</td>\n",
       "      <td>470</td>\n",
       "      <td>420</td>\n",
       "      <td>332</td>\n",
       "      <td>A</td>\n",
       "      <td>E</td>\n",
       "      <td>1314</td>\n",
       "      <td>131</td>\n",
       "      <td>12</td>\n",
       "      <td>960.0</td>\n",
       "      <td>A</td>\n",
       "    </tr>\n",
       "    <tr>\n",
       "      <th>321</th>\n",
       "      <td>-Willie Wilson</td>\n",
       "      <td>631</td>\n",
       "      <td>170</td>\n",
       "      <td>9</td>\n",
       "      <td>77</td>\n",
       "      <td>44</td>\n",
       "      <td>31</td>\n",
       "      <td>11</td>\n",
       "      <td>4908</td>\n",
       "      <td>1457</td>\n",
       "      <td>...</td>\n",
       "      <td>775</td>\n",
       "      <td>357</td>\n",
       "      <td>249</td>\n",
       "      <td>A</td>\n",
       "      <td>W</td>\n",
       "      <td>408</td>\n",
       "      <td>4</td>\n",
       "      <td>3</td>\n",
       "      <td>1000.0</td>\n",
       "      <td>A</td>\n",
       "    </tr>\n",
       "  </tbody>\n",
       "</table>\n",
       "<p>263 rows × 21 columns</p>\n",
       "</div>"
      ],
      "text/plain": [
       "            Unnamed: 0  AtBat  Hits  HmRun  Runs  RBI  Walks  Years  CAtBat  \\\n",
       "1          -Alan Ashby    315    81      7    24   38     39     14    3449   \n",
       "2         -Alvin Davis    479   130     18    66   72     76      3    1624   \n",
       "3        -Andre Dawson    496   141     20    65   78     37     11    5628   \n",
       "4    -Andres Galarraga    321    87     10    39   42     30      2     396   \n",
       "5     -Alfredo Griffin    594   169      4    74   51     35     11    4408   \n",
       "..                 ...    ...   ...    ...   ...  ...    ...    ...     ...   \n",
       "317      -Willie McGee    497   127      7    65   48     37      5    2703   \n",
       "318   -Willie Randolph    492   136      5    76   50     94     12    5511   \n",
       "319    -Wayne Tolleson    475   126      3    61   43     52      6    1700   \n",
       "320     -Willie Upshaw    573   144      9    85   60     78      8    3198   \n",
       "321     -Willie Wilson    631   170      9    77   44     31     11    4908   \n",
       "\n",
       "     CHits  ...  CRuns  CRBI  CWalks  League Division PutOuts  Assists  \\\n",
       "1      835  ...    321   414     375       N        W     632       43   \n",
       "2      457  ...    224   266     263       A        W     880       82   \n",
       "3     1575  ...    828   838     354       N        E     200       11   \n",
       "4      101  ...     48    46      33       N        E     805       40   \n",
       "5     1133  ...    501   336     194       A        W     282      421   \n",
       "..     ...  ...    ...   ...     ...     ...      ...     ...      ...   \n",
       "317    806  ...    379   311     138       N        E     325        9   \n",
       "318   1511  ...    897   451     875       A        E     313      381   \n",
       "319    433  ...    217    93     146       A        W      37      113   \n",
       "320    857  ...    470   420     332       A        E    1314      131   \n",
       "321   1457  ...    775   357     249       A        W     408        4   \n",
       "\n",
       "     Errors  Salary  NewLeague  \n",
       "1        10   475.0          N  \n",
       "2        14   480.0          A  \n",
       "3         3   500.0          N  \n",
       "4         4    91.5          N  \n",
       "5        25   750.0          A  \n",
       "..      ...     ...        ...  \n",
       "317       3   700.0          N  \n",
       "318      20   875.0          A  \n",
       "319       7   385.0          A  \n",
       "320      12   960.0          A  \n",
       "321       3  1000.0          A  \n",
       "\n",
       "[263 rows x 21 columns]"
      ]
     },
     "execution_count": 2,
     "metadata": {},
     "output_type": "execute_result"
    }
   ],
   "source": [
    "df = pd.read_csv('../data/Hitters.csv').dropna()\n",
    "\n",
    "df"
   ]
  },
  {
   "cell_type": "markdown",
   "id": "3d6376af",
   "metadata": {},
   "source": [
    "## 2. Crear y visualizar histogramas de X e y\n",
    "-----\n",
    "1. Eliminar del dataframe las variables que no son numéricas, usando df.drop([col1, col2, ...], axis=1).astype('float64') y dejar dataframe en la variable X\n",
    "2. Crear y tomando la variable Salary\n",
    "2. Generar histogramas de X e y"
   ]
  },
  {
   "cell_type": "code",
   "execution_count": 4,
   "id": "6cef3c0a",
   "metadata": {},
   "outputs": [
    {
     "data": {
      "text/plain": [
       "1       475.0\n",
       "2       480.0\n",
       "3       500.0\n",
       "4        91.5\n",
       "5       750.0\n",
       "        ...  \n",
       "317     700.0\n",
       "318     875.0\n",
       "319     385.0\n",
       "320     960.0\n",
       "321    1000.0\n",
       "Name: Salary, Length: 263, dtype: float64"
      ]
     },
     "execution_count": 4,
     "metadata": {},
     "output_type": "execute_result"
    }
   ],
   "source": [
    "# Drop the column with the independent variable (Salary), and columns for which we created dummy variables\n",
    "X = df.drop(['Salary','Unnamed: 0','League', 'Division', 'NewLeague'], axis = 1).astype('float64')\n",
    "\n",
    "# Define the feature set X.\n",
    "X\n",
    "\n",
    "y = df.Salary\n",
    "y"
   ]
  },
  {
   "cell_type": "code",
   "execution_count": 7,
   "id": "142cb38a",
   "metadata": {},
   "outputs": [
    {
     "name": "stderr",
     "output_type": "stream",
     "text": [
      "<ipython-input-7-cb5c69a24f19>:3: UserWarning: To output multiple subplots, the figure containing the passed axes is being cleared\n",
      "  X.hist(ax = ax)\n"
     ]
    },
    {
     "data": {
      "image/png": "[encoded data removed]",
      "text/plain": [
       "<Figure size 1080x1440 with 16 Axes>"
      ]
     },
     "metadata": {
      "needs_background": "light"
     },
     "output_type": "display_data"
    }
   ],
   "source": [
    "fig = plt.figure(figsize = (15,20))   \n",
    "ax = fig.gca()\n",
    "X.hist(ax = ax)\n",
    "plt.show()"
   ]
  },
  {
   "cell_type": "code",
   "execution_count": 8,
   "id": "5e51ec12",
   "metadata": {},
   "outputs": [
    {
     "data": {
      "text/plain": [
       "<AxesSubplot:ylabel='Frequency'>"
      ]
     },
     "execution_count": 8,
     "metadata": {},
     "output_type": "execute_result"
    },
    {
     "data": {
      "image/png": "[encoded data removed]",
      "text/plain": [
       "<Figure size 432x288 with 1 Axes>"
      ]
     },
     "metadata": {
      "needs_background": "light"
     },
     "output_type": "display_data"
    }
   ],
   "source": [
    "X.plot.hist()"
   ]
  },
  {
   "cell_type": "markdown",
   "id": "e7830bec",
   "metadata": {},
   "source": [
    "## 3. Centrar los datos para que tengan promedio cero\n",
    "-----\n",
    "1. Usar StandardScaler()\n",
    "2. Mostrar nuevamente los histogramas de los datos escalados"
   ]
  },
  {
   "cell_type": "code",
   "execution_count": 9,
   "id": "86d8381d",
   "metadata": {},
   "outputs": [
    {
     "name": "stdout",
     "output_type": "stream",
     "text": [
      "4.094738912115596e-17 1.4859258732625668e-16\n"
     ]
    },
    {
     "name": "stderr",
     "output_type": "stream",
     "text": [
      "<ipython-input-9-0fdf0d1052c7>:15: UserWarning: To output multiple subplots, the figure containing the passed axes is being cleared\n",
      "  df_s.hist(ax = ax)\n"
     ]
    },
    {
     "data": {
      "image/png": "[encoded data removed]",
      "text/plain": [
       "<Figure size 1080x1440 with 16 Axes>"
      ]
     },
     "metadata": {
      "needs_background": "light"
     },
     "output_type": "display_data"
    }
   ],
   "source": [
    "scaler = StandardScaler()\n",
    "X_ = scaler.fit_transform(X)\n",
    "\n",
    "scaler2 = StandardScaler()\n",
    "y_ = scaler2.fit_transform(y.values.reshape(-1,1))\n",
    "\n",
    "\n",
    "print(X_.mean(), y_.mean())\n",
    "\n",
    "\n",
    "df_s = pd.DataFrame(X_, columns = X.columns)\n",
    "\n",
    "fig = plt.figure(figsize = (15,20))   \n",
    "ax = fig.gca()\n",
    "df_s.hist(ax = ax)\n",
    "plt.show()"
   ]
  },
  {
   "cell_type": "code",
   "execution_count": 6,
   "id": "1d0fc2ed",
   "metadata": {},
   "outputs": [
    {
     "data": {
      "image/png": "[encoded data removed]",
      "text/plain": [
       "<Figure size 432x288 with 1 Axes>"
      ]
     },
     "metadata": {
      "needs_background": "light"
     },
     "output_type": "display_data"
    }
   ],
   "source": [
    "salary_s = pd.DataFrame(y_, columns = ['salary'])\n",
    "fig = plt.figure()   \n",
    "ax = fig.gca()\n",
    "salary_s.hist(ax = ax)\n",
    "plt.show()"
   ]
  },
  {
   "cell_type": "markdown",
   "id": "fe0c6a5d",
   "metadata": {},
   "source": [
    "## 4. Generar un conjunto de valores de $\\lambda$, parámetro de penalización \n",
    "-----\n",
    "1. Generar un arreglo numpy con 100 valores (usar código indicado)\n",
    "2. Gráficar los valores"
   ]
  },
  {
   "cell_type": "code",
   "execution_count": 11,
   "id": "f2b7127a",
   "metadata": {},
   "outputs": [
    {
     "data": {
      "text/plain": [
       "array([10.        ,  9.87878788,  9.75757576,  9.63636364,  9.51515152,\n",
       "        9.39393939,  9.27272727,  9.15151515,  9.03030303,  8.90909091,\n",
       "        8.78787879,  8.66666667,  8.54545455,  8.42424242,  8.3030303 ,\n",
       "        8.18181818,  8.06060606,  7.93939394,  7.81818182,  7.6969697 ,\n",
       "        7.57575758,  7.45454545,  7.33333333,  7.21212121,  7.09090909,\n",
       "        6.96969697,  6.84848485,  6.72727273,  6.60606061,  6.48484848,\n",
       "        6.36363636,  6.24242424,  6.12121212,  6.        ,  5.87878788,\n",
       "        5.75757576,  5.63636364,  5.51515152,  5.39393939,  5.27272727,\n",
       "        5.15151515,  5.03030303,  4.90909091,  4.78787879,  4.66666667,\n",
       "        4.54545455,  4.42424242,  4.3030303 ,  4.18181818,  4.06060606,\n",
       "        3.93939394,  3.81818182,  3.6969697 ,  3.57575758,  3.45454545,\n",
       "        3.33333333,  3.21212121,  3.09090909,  2.96969697,  2.84848485,\n",
       "        2.72727273,  2.60606061,  2.48484848,  2.36363636,  2.24242424,\n",
       "        2.12121212,  2.        ,  1.87878788,  1.75757576,  1.63636364,\n",
       "        1.51515152,  1.39393939,  1.27272727,  1.15151515,  1.03030303,\n",
       "        0.90909091,  0.78787879,  0.66666667,  0.54545455,  0.42424242,\n",
       "        0.3030303 ,  0.18181818,  0.06060606, -0.06060606, -0.18181818,\n",
       "       -0.3030303 , -0.42424242, -0.54545455, -0.66666667, -0.78787879,\n",
       "       -0.90909091, -1.03030303, -1.15151515, -1.27272727, -1.39393939,\n",
       "       -1.51515152, -1.63636364, -1.75757576, -1.87878788, -2.        ])"
      ]
     },
     "execution_count": 11,
     "metadata": {},
     "output_type": "execute_result"
    }
   ],
   "source": [
    "np.linspace(10,-2,100)"
   ]
  },
  {
   "cell_type": "code",
   "execution_count": 12,
   "id": "f93a24b1",
   "metadata": {},
   "outputs": [
    {
     "data": {
      "text/plain": [
       "[]"
      ]
     },
     "execution_count": 12,
     "metadata": {},
     "output_type": "execute_result"
    },
    {
     "data": {
      "image/png": "[encoded data removed]",
      "text/plain": [
       "<Figure size 432x288 with 1 Axes>"
      ]
     },
     "metadata": {
      "needs_background": "light"
     },
     "output_type": "display_data"
    }
   ],
   "source": [
    "lambdas = 10**np.linspace(10,-2,100)*0.5\n",
    "\n",
    "plt.figure()\n",
    "plt.plot(lambdas,'o')\n",
    "plt.plot()"
   ]
  },
  {
   "cell_type": "markdown",
   "id": "16785011",
   "metadata": {},
   "source": [
    "## 5. Usar el método ridge regression (1)\n",
    "-----\n",
    "1. Usar Ridge(), y mediante un ciclo probar cada uno de los valores de lambda.\n",
    "2. Guardar en la lista llamada coefs, los coeficientes generados. Notar que en el método Ridge() el parámetro de penalización se llama alpha\n",
    "3. Trabajar con los datos escalados \n"
   ]
  },
  {
   "cell_type": "code",
   "execution_count": 8,
   "id": "dd957977",
   "metadata": {},
   "outputs": [
    {
     "data": {
      "text/plain": [
       "(263,)"
      ]
     },
     "execution_count": 8,
     "metadata": {},
     "output_type": "execute_result"
    }
   ],
   "source": [
    "y_[:,0].shape"
   ]
  },
  {
   "cell_type": "code",
   "execution_count": 14,
   "id": "6a9b6cb8",
   "metadata": {},
   "outputs": [
    {
     "data": {
      "text/plain": [
       "(100, 16)"
      ]
     },
     "execution_count": 14,
     "metadata": {},
     "output_type": "execute_result"
    }
   ],
   "source": [
    "ridge = Ridge(fit_intercept=False)\n",
    "coefs = []\n",
    "\n",
    "for l in lambdas:\n",
    "    ridge.set_params(alpha = l)\n",
    "    ridge.fit(X_, y_[:,0])\n",
    "    coefs.append(ridge.coef_)\n",
    "    \n",
    "np.shape(coefs)"
   ]
  },
  {
   "cell_type": "code",
   "execution_count": 15,
   "id": "318af663",
   "metadata": {},
   "outputs": [
    {
     "data": {
      "image/png": "[encoded data removed]",
      "text/plain": [
       "<Figure size 432x288 with 1 Axes>"
      ]
     },
     "metadata": {
      "needs_background": "light"
     },
     "output_type": "display_data"
    }
   ],
   "source": [
    "ax = plt.gca()\n",
    "ax.plot(lambdas, coefs)\n",
    "ax.set_xscale('log')\n",
    "plt.axis('tight')\n",
    "plt.xlabel('alpha')\n",
    "plt.ylabel('weights')\n",
    "plt.grid()\n",
    "plt.show()\n",
    "\n"
   ]
  },
  {
   "cell_type": "markdown",
   "id": "8952fe3e",
   "metadata": {},
   "source": [
    "## 6. Generar datos de entrenamiento y testing\n",
    "-----\n",
    "1. Usar train_test_split() como se indica a continuación"
   ]
  },
  {
   "cell_type": "code",
   "execution_count": 16,
   "id": "ae928a24",
   "metadata": {},
   "outputs": [],
   "source": [
    "# Split data into training and test sets\n",
    "X_train, X_test , y_train, y_test = train_test_split(X_, y_[:,0], test_size=0.5, random_state=1)"
   ]
  },
  {
   "cell_type": "markdown",
   "id": "e0024366",
   "metadata": {},
   "source": [
    "## 7. Usar Ridge Regression (2)\n",
    "-----\n",
    "1. Usar alpha= 4, y usar los datos de entrenaiento para ajustar\n",
    "2. Imprimir por pantalla los coeficientes encontrados\n",
    "3. Imprimer el error de generalización (mean squared error entre el conjunto de testing y la predicción)"
   ]
  },
  {
   "cell_type": "code",
   "execution_count": 18,
   "id": "cf293f54",
   "metadata": {},
   "outputs": [
    {
     "name": "stdout",
     "output_type": "stream",
     "text": [
      "AtBat     -0.520530\n",
      "Hits       0.409208\n",
      "HmRun     -0.136931\n",
      "Runs       0.006922\n",
      "RBI        0.240306\n",
      "Walks      0.182220\n",
      "Years     -0.096460\n",
      "CAtBat    -0.250606\n",
      "CHits      0.201233\n",
      "CHmRun     0.177235\n",
      "CRuns      0.240667\n",
      "CRBI       0.223875\n",
      "CWalks    -0.061853\n",
      "PutOuts    0.282407\n",
      "Assists    0.082111\n",
      "Errors    -0.030426\n",
      "dtype: float64\n",
      "0.5333368172831913\n"
     ]
    }
   ],
   "source": [
    "ridge2 = Ridge(alpha = 4, fit_intercept=False)\n",
    "ridge2.fit(X_train, y_train)             # Se ajusta usando los datos de entrenamieto\n",
    "pred2 = ridge2.predict(X_test)           # Se usa el modelo para predecir en los datos de testing\n",
    "print(pd.Series(ridge2.coef_, index = X.columns)) # Imprime los coeficientes\n",
    "print(mean_squared_error(y_test, pred2))   # Imprime el error en el testing"
   ]
  },
  {
   "cell_type": "markdown",
   "id": "46ab75b7",
   "metadata": {},
   "source": [
    "## 8. Usar Ridge Regression (3)\n",
    "-----\n",
    "1. Usar alpha muy grande, por ejemplo $\\alpha=10^{10}$, y usar los datos de entrenaiento para ajustar\n",
    "2. Imprimir por pantalla los coeficientes encontrados\n",
    "3. Imprimer el error de generalización (mean squared error entre el conjunto de testing y la predicción)"
   ]
  },
  {
   "cell_type": "code",
   "execution_count": 19,
   "id": "95d64060",
   "metadata": {},
   "outputs": [
    {
     "name": "stdout",
     "output_type": "stream",
     "text": [
      "AtBat      5.592422e-09\n",
      "Hits       6.473826e-09\n",
      "HmRun      4.413864e-09\n",
      "Runs       5.968558e-09\n",
      "RBI        7.084223e-09\n",
      "Walks      6.932685e-09\n",
      "Years      5.491732e-09\n",
      "CAtBat     7.235948e-09\n",
      "CHits      7.731068e-09\n",
      "CHmRun     8.239903e-09\n",
      "CRuns      7.719389e-09\n",
      "CRBI       8.744031e-09\n",
      "CWalks     6.731754e-09\n",
      "PutOuts    6.787420e-09\n",
      "Assists   -9.669131e-11\n",
      "Errors     3.831105e-10\n",
      "dtype: float64\n",
      "0.8525018150955611\n"
     ]
    }
   ],
   "source": [
    "ridge3 = Ridge(alpha = 10**10, fit_intercept=False)\n",
    "ridge3.fit(X_train, y_train)             # Ajusta usando el conjunto de training\n",
    "pred3 = ridge3.predict(X_test)           # Se usa el modelo para predecir en el conjunto de testing\n",
    "print(pd.Series(ridge3.coef_, index = X.columns)) # Imprime los coeficientes\n",
    "print(mean_squared_error(y_test, pred3))          # Calcula el error en el conjunto de testing"
   ]
  },
  {
   "cell_type": "markdown",
   "id": "d4269009",
   "metadata": {},
   "source": [
    "## 9. Usar Ridge Regression (4)\n",
    "-----\n",
    "1. Usar  $\\alpha=0$, y usar los datos de entrenaiento para ajustar\n",
    "2. Imprimir por pantalla los coeficientes encontrados\n",
    "3. Imprimer el error de generalización (mean squared error entre el conjunto de testing y la predicción)"
   ]
  },
  {
   "cell_type": "code",
   "execution_count": 20,
   "id": "7166a763",
   "metadata": {},
   "outputs": [
    {
     "name": "stdout",
     "output_type": "stream",
     "text": [
      "AtBat     -0.685949\n",
      "Hits       0.432955\n",
      "HmRun     -0.145640\n",
      "Runs      -0.001852\n",
      "RBI        0.346844\n",
      "Walks      0.153990\n",
      "Years      0.044243\n",
      "CAtBat    -2.889608\n",
      "CHits      3.043623\n",
      "CHmRun     0.549774\n",
      "CRuns      0.215838\n",
      "CRBI      -0.527019\n",
      "CWalks     0.117724\n",
      "PutOuts    0.282894\n",
      "Assists    0.165651\n",
      "Errors    -0.070782\n",
      "dtype: float64\n",
      "0.5942656310599039\n"
     ]
    }
   ],
   "source": [
    "ridge4 = Ridge(alpha = 0)\n",
    "ridge4.fit(X_train, y_train)             #  Ajusta usando el conjunto de training\n",
    "pred4 = ridge4.predict(X_test)            # Se usa el modelo para predecir en el conjunto de testing\n",
    "print(pd.Series(ridge4.coef_, index = X.columns)) # Imprime los coeficientes\n",
    "print(mean_squared_error(y_test, pred4))           # Calcula el error en el conjunto de testing"
   ]
  },
  {
   "cell_type": "markdown",
   "id": "979bfe1b",
   "metadata": {},
   "source": [
    "## 10. Usar Lasso\n",
    "-----\n",
    "1. Usar Lasso(), y mediante un ciclo probar cada uno de los valores de lambda.\n",
    "2. Guardar en la lista llamada coefs, los coeficientes generados. Notar que en el método Ridge() el parámetro de penalización se llama alpha"
   ]
  },
  {
   "cell_type": "code",
   "execution_count": 21,
   "id": "e8aed2c8",
   "metadata": {},
   "outputs": [
    {
     "name": "stderr",
     "output_type": "stream",
     "text": [
      "/Users/rpezoa/opt/anaconda3/envs/root_py/lib/python3.8/site-packages/sklearn/linear_model/_coordinate_descent.py:530: ConvergenceWarning: Objective did not converge. You might want to increase the number of iterations. Duality gap: 0.027086836455957553, tolerance: 0.015046975026625126\n",
      "  model = cd_fast.enet_coordinate_descent(\n"
     ]
    },
    {
     "data": {
      "text/plain": [
       "Text(0, 0.5, 'weights')"
      ]
     },
     "execution_count": 21,
     "metadata": {},
     "output_type": "execute_result"
    },
    {
     "data": {
      "image/png": "[encoded data removed]",
      "text/plain": [
       "<Figure size 432x288 with 1 Axes>"
      ]
     },
     "metadata": {
      "needs_background": "light"
     },
     "output_type": "display_data"
    }
   ],
   "source": [
    "lasso = Lasso(fit_intercept=False)\n",
    "coefs = []\n",
    "\n",
    "for l in lambdas:\n",
    "    lasso.set_params(alpha=l)\n",
    "    lasso.fit(scale(X_train), y_train)\n",
    "    coefs.append(lasso.coef_)\n",
    "    \n",
    "ax = plt.gca()\n",
    "ax.plot(lambdas*2, coefs)\n",
    "ax.set_xscale('log')\n",
    "plt.axis('tight')\n",
    "plt.xlabel('alpha')\n",
    "plt.ylabel('weights')"
   ]
  },
  {
   "cell_type": "code",
   "execution_count": 23,
   "id": "728a96ed",
   "metadata": {},
   "outputs": [
    {
     "data": {
      "text/plain": [
       "Lasso(alpha=0.005, fit_intercept=False)"
      ]
     },
     "execution_count": 23,
     "metadata": {},
     "output_type": "execute_result"
    }
   ],
   "source": [
    "lasso.co"
   ]
  },
  {
   "cell_type": "code",
   "execution_count": 24,
   "id": "28517e1c",
   "metadata": {},
   "outputs": [
    {
     "data": {
      "text/plain": [
       "AtBat     -0.798083\n",
       "Hits       0.683520\n",
       "HmRun     -0.106366\n",
       "Runs      -0.004416\n",
       "RBI        0.243559\n",
       "Walks      0.190109\n",
       "Years     -0.035480\n",
       "CAtBat    -0.591770\n",
       "CHits      0.258731\n",
       "CHmRun     0.166082\n",
       "CRuns      0.446755\n",
       "CRBI       0.299784\n",
       "CWalks    -0.063645\n",
       "PutOuts    0.305919\n",
       "Assists    0.094990\n",
       "Errors    -0.008966\n",
       "dtype: float64"
      ]
     },
     "execution_count": 24,
     "metadata": {},
     "output_type": "execute_result"
    }
   ],
   "source": [
    "# Some of the coefficients are now reduced to exactly zero.\n",
    "pd.Series(lasso.coef_, index=X.columns)\n"
   ]
  },
  {
   "cell_type": "code",
   "execution_count": null,
   "id": "fee1b14d",
   "metadata": {},
   "outputs": [],
   "source": []
  },
  {
   "cell_type": "code",
   "execution_count": null,
   "id": "9db8c139",
   "metadata": {},
   "outputs": [],
   "source": []
  }
 ],
 "metadata": {
  "kernelspec": {
   "display_name": "Python 3",
   "language": "python",
   "name": "python3"
  },
  "language_info": {
   "codemirror_mode": {
    "name": "ipython",
    "version": 3
   },
   "file_extension": ".py",
   "mimetype": "text/x-python",
   "name": "python",
   "nbconvert_exporter": "python",
   "pygments_lexer": "ipython3",
   "version": "3.8.10"
  }
 },
 "nbformat": 4,
 "nbformat_minor": 5
}
