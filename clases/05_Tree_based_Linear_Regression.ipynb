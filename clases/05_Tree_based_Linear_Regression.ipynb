{
 "cells": [
  {
   "cell_type": "markdown",
   "id": "ab80c3de",
   "metadata": {},
   "source": [
    "# Tree-based methods\n",
    "### Regression using a decision tree\n",
    "---\n",
    "Based on Chapter 8: Tree-based Methods. An Introduction to Statistical Learning: with aplications in R.  Daniela Witten, Gareth James and Trevor Hastie"
   ]
  },
  {
   "cell_type": "markdown",
   "id": "8294c654",
   "metadata": {},
   "source": [
    "## Introduction"
   ]
  },
  {
   "cell_type": "markdown",
   "id": "e1c75df5",
   "metadata": {},
   "source": [
    "- The tree-based method consists of a series of **splitting rules**, starting at the top of the tree.\n",
    "\n",
    "- The general structure of a decision tree <img src=\"images/tree.png\" width=400 height=400 />\n",
    "\n",
    "[Image source](https://wiki.atlan.com/decision-trees/)\n"
   ]
  },
  {
   "cell_type": "markdown",
   "id": "261a06ae",
   "metadata": {},
   "source": [
    "## Dataset\n",
    "-----\n"
   ]
  },
  {
   "cell_type": "markdown",
   "id": "21f7291d",
   "metadata": {},
   "source": [
    "- We will build a regression tree to to predict the baseball player's *Salary* using two variables: \n",
    " - *Years*: the number of years that he has played in the major leagues (in thousands of dollars)\n",
    " - *Hits*: the number of hits that he made in the previous year\n",
    " \n",
    "- Dataset can be downloaded from [here](https://www.kaggle.com/floser/hitters)."
   ]
  },
  {
   "cell_type": "markdown",
   "id": "47b29f67",
   "metadata": {},
   "source": [
    "## Building a tree\n",
    "---\n",
    "Using DecisionTreeRegressor()"
   ]
  },
  {
   "cell_type": "code",
   "execution_count": 1,
   "id": "4fd5bf80",
   "metadata": {},
   "outputs": [],
   "source": [
    "import pandas as pd\n",
    "import seaborn as sns\n",
    "from matplotlib import pyplot as plt"
   ]
  },
  {
   "cell_type": "code",
   "execution_count": 2,
   "id": "1736331e",
   "metadata": {},
   "outputs": [],
   "source": [
    "df = pd.read_csv(\"../../../data/dataset-87300.csv\")"
   ]
  },
  {
   "cell_type": "code",
   "execution_count": 3,
   "id": "8ac30085",
   "metadata": {},
   "outputs": [
    {
     "data": {
      "text/html": [
       "<div>\n",
       "<style scoped>\n",
       "    .dataframe tbody tr th:only-of-type {\n",
       "        vertical-align: middle;\n",
       "    }\n",
       "\n",
       "    .dataframe tbody tr th {\n",
       "        vertical-align: top;\n",
       "    }\n",
       "\n",
       "    .dataframe thead th {\n",
       "        text-align: right;\n",
       "    }\n",
       "</style>\n",
       "<table border=\"1\" class=\"dataframe\">\n",
       "  <thead>\n",
       "    <tr style=\"text-align: right;\">\n",
       "      <th></th>\n",
       "      <th>AtBat</th>\n",
       "      <th>Hits</th>\n",
       "      <th>HmRun</th>\n",
       "      <th>Runs</th>\n",
       "      <th>RBI</th>\n",
       "      <th>Walks</th>\n",
       "      <th>Years</th>\n",
       "      <th>CAtBat</th>\n",
       "      <th>CHits</th>\n",
       "      <th>CHmRun</th>\n",
       "      <th>CRuns</th>\n",
       "      <th>CRBI</th>\n",
       "      <th>CWalks</th>\n",
       "      <th>PutOuts</th>\n",
       "      <th>Assists</th>\n",
       "      <th>Errors</th>\n",
       "      <th>Salary</th>\n",
       "    </tr>\n",
       "  </thead>\n",
       "  <tbody>\n",
       "    <tr>\n",
       "      <th>count</th>\n",
       "      <td>322.000000</td>\n",
       "      <td>322.000000</td>\n",
       "      <td>322.000000</td>\n",
       "      <td>322.000000</td>\n",
       "      <td>322.000000</td>\n",
       "      <td>322.000000</td>\n",
       "      <td>322.000000</td>\n",
       "      <td>322.00000</td>\n",
       "      <td>322.000000</td>\n",
       "      <td>322.000000</td>\n",
       "      <td>322.000000</td>\n",
       "      <td>322.000000</td>\n",
       "      <td>322.000000</td>\n",
       "      <td>322.000000</td>\n",
       "      <td>322.000000</td>\n",
       "      <td>322.000000</td>\n",
       "      <td>263.000000</td>\n",
       "    </tr>\n",
       "    <tr>\n",
       "      <th>mean</th>\n",
       "      <td>380.928571</td>\n",
       "      <td>101.024845</td>\n",
       "      <td>10.770186</td>\n",
       "      <td>50.909938</td>\n",
       "      <td>48.027950</td>\n",
       "      <td>38.742236</td>\n",
       "      <td>7.444099</td>\n",
       "      <td>2648.68323</td>\n",
       "      <td>717.571429</td>\n",
       "      <td>69.490683</td>\n",
       "      <td>358.795031</td>\n",
       "      <td>330.118012</td>\n",
       "      <td>260.239130</td>\n",
       "      <td>288.937888</td>\n",
       "      <td>106.913043</td>\n",
       "      <td>8.040373</td>\n",
       "      <td>535.925882</td>\n",
       "    </tr>\n",
       "    <tr>\n",
       "      <th>std</th>\n",
       "      <td>153.404981</td>\n",
       "      <td>46.454741</td>\n",
       "      <td>8.709037</td>\n",
       "      <td>26.024095</td>\n",
       "      <td>26.166895</td>\n",
       "      <td>21.639327</td>\n",
       "      <td>4.926087</td>\n",
       "      <td>2324.20587</td>\n",
       "      <td>654.472627</td>\n",
       "      <td>86.266061</td>\n",
       "      <td>334.105886</td>\n",
       "      <td>333.219617</td>\n",
       "      <td>267.058085</td>\n",
       "      <td>280.704614</td>\n",
       "      <td>136.854876</td>\n",
       "      <td>6.368359</td>\n",
       "      <td>451.118681</td>\n",
       "    </tr>\n",
       "    <tr>\n",
       "      <th>min</th>\n",
       "      <td>16.000000</td>\n",
       "      <td>1.000000</td>\n",
       "      <td>0.000000</td>\n",
       "      <td>0.000000</td>\n",
       "      <td>0.000000</td>\n",
       "      <td>0.000000</td>\n",
       "      <td>1.000000</td>\n",
       "      <td>19.00000</td>\n",
       "      <td>4.000000</td>\n",
       "      <td>0.000000</td>\n",
       "      <td>1.000000</td>\n",
       "      <td>0.000000</td>\n",
       "      <td>0.000000</td>\n",
       "      <td>0.000000</td>\n",
       "      <td>0.000000</td>\n",
       "      <td>0.000000</td>\n",
       "      <td>67.500000</td>\n",
       "    </tr>\n",
       "    <tr>\n",
       "      <th>25%</th>\n",
       "      <td>255.250000</td>\n",
       "      <td>64.000000</td>\n",
       "      <td>4.000000</td>\n",
       "      <td>30.250000</td>\n",
       "      <td>28.000000</td>\n",
       "      <td>22.000000</td>\n",
       "      <td>4.000000</td>\n",
       "      <td>816.75000</td>\n",
       "      <td>209.000000</td>\n",
       "      <td>14.000000</td>\n",
       "      <td>100.250000</td>\n",
       "      <td>88.750000</td>\n",
       "      <td>67.250000</td>\n",
       "      <td>109.250000</td>\n",
       "      <td>7.000000</td>\n",
       "      <td>3.000000</td>\n",
       "      <td>190.000000</td>\n",
       "    </tr>\n",
       "    <tr>\n",
       "      <th>50%</th>\n",
       "      <td>379.500000</td>\n",
       "      <td>96.000000</td>\n",
       "      <td>8.000000</td>\n",
       "      <td>48.000000</td>\n",
       "      <td>44.000000</td>\n",
       "      <td>35.000000</td>\n",
       "      <td>6.000000</td>\n",
       "      <td>1928.00000</td>\n",
       "      <td>508.000000</td>\n",
       "      <td>37.500000</td>\n",
       "      <td>247.000000</td>\n",
       "      <td>220.500000</td>\n",
       "      <td>170.500000</td>\n",
       "      <td>212.000000</td>\n",
       "      <td>39.500000</td>\n",
       "      <td>6.000000</td>\n",
       "      <td>425.000000</td>\n",
       "    </tr>\n",
       "    <tr>\n",
       "      <th>75%</th>\n",
       "      <td>512.000000</td>\n",
       "      <td>137.000000</td>\n",
       "      <td>16.000000</td>\n",
       "      <td>69.000000</td>\n",
       "      <td>64.750000</td>\n",
       "      <td>53.000000</td>\n",
       "      <td>11.000000</td>\n",
       "      <td>3924.25000</td>\n",
       "      <td>1059.250000</td>\n",
       "      <td>90.000000</td>\n",
       "      <td>526.250000</td>\n",
       "      <td>426.250000</td>\n",
       "      <td>339.250000</td>\n",
       "      <td>325.000000</td>\n",
       "      <td>166.000000</td>\n",
       "      <td>11.000000</td>\n",
       "      <td>750.000000</td>\n",
       "    </tr>\n",
       "    <tr>\n",
       "      <th>max</th>\n",
       "      <td>687.000000</td>\n",
       "      <td>238.000000</td>\n",
       "      <td>40.000000</td>\n",
       "      <td>130.000000</td>\n",
       "      <td>121.000000</td>\n",
       "      <td>105.000000</td>\n",
       "      <td>24.000000</td>\n",
       "      <td>14053.00000</td>\n",
       "      <td>4256.000000</td>\n",
       "      <td>548.000000</td>\n",
       "      <td>2165.000000</td>\n",
       "      <td>1659.000000</td>\n",
       "      <td>1566.000000</td>\n",
       "      <td>1378.000000</td>\n",
       "      <td>492.000000</td>\n",
       "      <td>32.000000</td>\n",
       "      <td>2460.000000</td>\n",
       "    </tr>\n",
       "  </tbody>\n",
       "</table>\n",
       "</div>"
      ],
      "text/plain": [
       "            AtBat        Hits       HmRun        Runs         RBI       Walks  \\\n",
       "count  322.000000  322.000000  322.000000  322.000000  322.000000  322.000000   \n",
       "mean   380.928571  101.024845   10.770186   50.909938   48.027950   38.742236   \n",
       "std    153.404981   46.454741    8.709037   26.024095   26.166895   21.639327   \n",
       "min     16.000000    1.000000    0.000000    0.000000    0.000000    0.000000   \n",
       "25%    255.250000   64.000000    4.000000   30.250000   28.000000   22.000000   \n",
       "50%    379.500000   96.000000    8.000000   48.000000   44.000000   35.000000   \n",
       "75%    512.000000  137.000000   16.000000   69.000000   64.750000   53.000000   \n",
       "max    687.000000  238.000000   40.000000  130.000000  121.000000  105.000000   \n",
       "\n",
       "            Years       CAtBat        CHits      CHmRun        CRuns  \\\n",
       "count  322.000000    322.00000   322.000000  322.000000   322.000000   \n",
       "mean     7.444099   2648.68323   717.571429   69.490683   358.795031   \n",
       "std      4.926087   2324.20587   654.472627   86.266061   334.105886   \n",
       "min      1.000000     19.00000     4.000000    0.000000     1.000000   \n",
       "25%      4.000000    816.75000   209.000000   14.000000   100.250000   \n",
       "50%      6.000000   1928.00000   508.000000   37.500000   247.000000   \n",
       "75%     11.000000   3924.25000  1059.250000   90.000000   526.250000   \n",
       "max     24.000000  14053.00000  4256.000000  548.000000  2165.000000   \n",
       "\n",
       "              CRBI       CWalks      PutOuts     Assists      Errors  \\\n",
       "count   322.000000   322.000000   322.000000  322.000000  322.000000   \n",
       "mean    330.118012   260.239130   288.937888  106.913043    8.040373   \n",
       "std     333.219617   267.058085   280.704614  136.854876    6.368359   \n",
       "min       0.000000     0.000000     0.000000    0.000000    0.000000   \n",
       "25%      88.750000    67.250000   109.250000    7.000000    3.000000   \n",
       "50%     220.500000   170.500000   212.000000   39.500000    6.000000   \n",
       "75%     426.250000   339.250000   325.000000  166.000000   11.000000   \n",
       "max    1659.000000  1566.000000  1378.000000  492.000000   32.000000   \n",
       "\n",
       "            Salary  \n",
       "count   263.000000  \n",
       "mean    535.925882  \n",
       "std     451.118681  \n",
       "min      67.500000  \n",
       "25%     190.000000  \n",
       "50%     425.000000  \n",
       "75%     750.000000  \n",
       "max    2460.000000  "
      ]
     },
     "execution_count": 3,
     "metadata": {},
     "output_type": "execute_result"
    }
   ],
   "source": [
    "df.describe()"
   ]
  },
  {
   "cell_type": "code",
   "execution_count": 4,
   "id": "43ceb82d",
   "metadata": {},
   "outputs": [
    {
     "name": "stdout",
     "output_type": "stream",
     "text": [
      "<class 'pandas.core.frame.DataFrame'>\n",
      "Index: 322 entries, -Andy Allanson to -Willie Wilson\n",
      "Data columns (total 20 columns):\n",
      " #   Column     Non-Null Count  Dtype  \n",
      "---  ------     --------------  -----  \n",
      " 0   AtBat      322 non-null    int64  \n",
      " 1   Hits       322 non-null    int64  \n",
      " 2   HmRun      322 non-null    int64  \n",
      " 3   Runs       322 non-null    int64  \n",
      " 4   RBI        322 non-null    int64  \n",
      " 5   Walks      322 non-null    int64  \n",
      " 6   Years      322 non-null    int64  \n",
      " 7   CAtBat     322 non-null    int64  \n",
      " 8   CHits      322 non-null    int64  \n",
      " 9   CHmRun     322 non-null    int64  \n",
      " 10  CRuns      322 non-null    int64  \n",
      " 11  CRBI       322 non-null    int64  \n",
      " 12  CWalks     322 non-null    int64  \n",
      " 13  League     322 non-null    object \n",
      " 14  Division   322 non-null    object \n",
      " 15  PutOuts    322 non-null    int64  \n",
      " 16  Assists    322 non-null    int64  \n",
      " 17  Errors     322 non-null    int64  \n",
      " 18  Salary     263 non-null    float64\n",
      " 19  NewLeague  322 non-null    object \n",
      "dtypes: float64(1), int64(16), object(3)\n",
      "memory usage: 52.8+ KB\n"
     ]
    }
   ],
   "source": [
    "df.info()"
   ]
  },
  {
   "cell_type": "markdown",
   "id": "38fdfd0e",
   "metadata": {},
   "source": [
    "### We will use only 2 variables: Hits and Years. The target variable is Salary\n",
    "-----"
   ]
  },
  {
   "cell_type": "code",
   "execution_count": 5,
   "id": "23cfb972",
   "metadata": {},
   "outputs": [],
   "source": [
    "df = df[[\"Hits\", \"Years\", \"Salary\"]].copy()"
   ]
  },
  {
   "cell_type": "code",
   "execution_count": 6,
   "id": "4428dd50",
   "metadata": {},
   "outputs": [
    {
     "data": {
      "text/html": [
       "<div>\n",
       "<style scoped>\n",
       "    .dataframe tbody tr th:only-of-type {\n",
       "        vertical-align: middle;\n",
       "    }\n",
       "\n",
       "    .dataframe tbody tr th {\n",
       "        vertical-align: top;\n",
       "    }\n",
       "\n",
       "    .dataframe thead th {\n",
       "        text-align: right;\n",
       "    }\n",
       "</style>\n",
       "<table border=\"1\" class=\"dataframe\">\n",
       "  <thead>\n",
       "    <tr style=\"text-align: right;\">\n",
       "      <th></th>\n",
       "      <th>Hits</th>\n",
       "      <th>Years</th>\n",
       "      <th>Salary</th>\n",
       "    </tr>\n",
       "  </thead>\n",
       "  <tbody>\n",
       "    <tr>\n",
       "      <th>-Andy Allanson</th>\n",
       "      <td>66</td>\n",
       "      <td>1</td>\n",
       "      <td>NaN</td>\n",
       "    </tr>\n",
       "    <tr>\n",
       "      <th>-Alan Ashby</th>\n",
       "      <td>81</td>\n",
       "      <td>14</td>\n",
       "      <td>475.0</td>\n",
       "    </tr>\n",
       "    <tr>\n",
       "      <th>-Alvin Davis</th>\n",
       "      <td>130</td>\n",
       "      <td>3</td>\n",
       "      <td>480.0</td>\n",
       "    </tr>\n",
       "    <tr>\n",
       "      <th>-Andre Dawson</th>\n",
       "      <td>141</td>\n",
       "      <td>11</td>\n",
       "      <td>500.0</td>\n",
       "    </tr>\n",
       "    <tr>\n",
       "      <th>-Andres Galarraga</th>\n",
       "      <td>87</td>\n",
       "      <td>2</td>\n",
       "      <td>91.5</td>\n",
       "    </tr>\n",
       "    <tr>\n",
       "      <th>...</th>\n",
       "      <td>...</td>\n",
       "      <td>...</td>\n",
       "      <td>...</td>\n",
       "    </tr>\n",
       "    <tr>\n",
       "      <th>-Willie McGee</th>\n",
       "      <td>127</td>\n",
       "      <td>5</td>\n",
       "      <td>700.0</td>\n",
       "    </tr>\n",
       "    <tr>\n",
       "      <th>-Willie Randolph</th>\n",
       "      <td>136</td>\n",
       "      <td>12</td>\n",
       "      <td>875.0</td>\n",
       "    </tr>\n",
       "    <tr>\n",
       "      <th>-Wayne Tolleson</th>\n",
       "      <td>126</td>\n",
       "      <td>6</td>\n",
       "      <td>385.0</td>\n",
       "    </tr>\n",
       "    <tr>\n",
       "      <th>-Willie Upshaw</th>\n",
       "      <td>144</td>\n",
       "      <td>8</td>\n",
       "      <td>960.0</td>\n",
       "    </tr>\n",
       "    <tr>\n",
       "      <th>-Willie Wilson</th>\n",
       "      <td>170</td>\n",
       "      <td>11</td>\n",
       "      <td>1000.0</td>\n",
       "    </tr>\n",
       "  </tbody>\n",
       "</table>\n",
       "<p>322 rows × 3 columns</p>\n",
       "</div>"
      ],
      "text/plain": [
       "                   Hits  Years  Salary\n",
       "-Andy Allanson       66      1     NaN\n",
       "-Alan Ashby          81     14   475.0\n",
       "-Alvin Davis        130      3   480.0\n",
       "-Andre Dawson       141     11   500.0\n",
       "-Andres Galarraga    87      2    91.5\n",
       "...                 ...    ...     ...\n",
       "-Willie McGee       127      5   700.0\n",
       "-Willie Randolph    136     12   875.0\n",
       "-Wayne Tolleson     126      6   385.0\n",
       "-Willie Upshaw      144      8   960.0\n",
       "-Willie Wilson      170     11  1000.0\n",
       "\n",
       "[322 rows x 3 columns]"
      ]
     },
     "execution_count": 6,
     "metadata": {},
     "output_type": "execute_result"
    }
   ],
   "source": [
    "df"
   ]
  },
  {
   "cell_type": "code",
   "execution_count": 7,
   "id": "b768d7d9",
   "metadata": {},
   "outputs": [],
   "source": [
    "# Removing Nan values"
   ]
  },
  {
   "cell_type": "code",
   "execution_count": 8,
   "id": "1a3f4610",
   "metadata": {},
   "outputs": [],
   "source": [
    "df = df.dropna() # realizará la eliminación de filas con al menos 1 valor faltante."
   ]
  },
  {
   "cell_type": "code",
   "execution_count": 9,
   "id": "46af1cc8",
   "metadata": {},
   "outputs": [
    {
     "data": {
      "text/html": [
       "<div>\n",
       "<style scoped>\n",
       "    .dataframe tbody tr th:only-of-type {\n",
       "        vertical-align: middle;\n",
       "    }\n",
       "\n",
       "    .dataframe tbody tr th {\n",
       "        vertical-align: top;\n",
       "    }\n",
       "\n",
       "    .dataframe thead th {\n",
       "        text-align: right;\n",
       "    }\n",
       "</style>\n",
       "<table border=\"1\" class=\"dataframe\">\n",
       "  <thead>\n",
       "    <tr style=\"text-align: right;\">\n",
       "      <th></th>\n",
       "      <th>Hits</th>\n",
       "      <th>Years</th>\n",
       "      <th>Salary</th>\n",
       "    </tr>\n",
       "  </thead>\n",
       "  <tbody>\n",
       "    <tr>\n",
       "      <th>count</th>\n",
       "      <td>263.000000</td>\n",
       "      <td>263.000000</td>\n",
       "      <td>263.000000</td>\n",
       "    </tr>\n",
       "    <tr>\n",
       "      <th>mean</th>\n",
       "      <td>107.828897</td>\n",
       "      <td>7.311787</td>\n",
       "      <td>535.925882</td>\n",
       "    </tr>\n",
       "    <tr>\n",
       "      <th>std</th>\n",
       "      <td>45.125326</td>\n",
       "      <td>4.793616</td>\n",
       "      <td>451.118681</td>\n",
       "    </tr>\n",
       "    <tr>\n",
       "      <th>min</th>\n",
       "      <td>1.000000</td>\n",
       "      <td>1.000000</td>\n",
       "      <td>67.500000</td>\n",
       "    </tr>\n",
       "    <tr>\n",
       "      <th>25%</th>\n",
       "      <td>71.500000</td>\n",
       "      <td>4.000000</td>\n",
       "      <td>190.000000</td>\n",
       "    </tr>\n",
       "    <tr>\n",
       "      <th>50%</th>\n",
       "      <td>103.000000</td>\n",
       "      <td>6.000000</td>\n",
       "      <td>425.000000</td>\n",
       "    </tr>\n",
       "    <tr>\n",
       "      <th>75%</th>\n",
       "      <td>141.500000</td>\n",
       "      <td>10.000000</td>\n",
       "      <td>750.000000</td>\n",
       "    </tr>\n",
       "    <tr>\n",
       "      <th>max</th>\n",
       "      <td>238.000000</td>\n",
       "      <td>24.000000</td>\n",
       "      <td>2460.000000</td>\n",
       "    </tr>\n",
       "  </tbody>\n",
       "</table>\n",
       "</div>"
      ],
      "text/plain": [
       "             Hits       Years       Salary\n",
       "count  263.000000  263.000000   263.000000\n",
       "mean   107.828897    7.311787   535.925882\n",
       "std     45.125326    4.793616   451.118681\n",
       "min      1.000000    1.000000    67.500000\n",
       "25%     71.500000    4.000000   190.000000\n",
       "50%    103.000000    6.000000   425.000000\n",
       "75%    141.500000   10.000000   750.000000\n",
       "max    238.000000   24.000000  2460.000000"
      ]
     },
     "execution_count": 9,
     "metadata": {},
     "output_type": "execute_result"
    }
   ],
   "source": [
    "df.describe()"
   ]
  },
  {
   "cell_type": "markdown",
   "id": "e0abf479",
   "metadata": {},
   "source": [
    "### Building decision tree"
   ]
  },
  {
   "cell_type": "markdown",
   "id": "59377ef4",
   "metadata": {},
   "source": [
    "- Starting with all of the data, consider a splitting variable $j$ and split point $s$, and define the pair of half-planes\n",
    "\n",
    "$$\n",
    "R_1(j,s) = \\{X | X_j \\leq s\\} \\, \\text{and} \\, R_2(j,s) = \\{X | X_j > s\\}\n",
    "$$\n",
    "\n",
    "To perform recursive binary splitting:\n",
    "- select the predictor $X_j$ and then cutpoint $s$ such that splitting the predictor space  into regions ${X | Xj < s }$ and ${X | Xj \\geq s }$  leads to the greatest possible reduction in RSS.\n",
    "- Consider all the predictors $X_1, X_2, … X_p$ and all the possible values  of the cutpoints $s$ for each of the predictors, then\n",
    "- Choose the predictor $j$ and cutpoint $s$ such that the resulting tree has the lowest RSS, For any $j$ and $s$, we define the pair of planes:\n",
    "\n",
    "$$\n",
    "R_1(j,s) = \\{ X \\,|\\, X_j < s\\} \\text{ and } R_2 = \\{ X \\,|\\, X_j \\geq s\\}\n",
    "$$\n",
    "\n"
   ]
  },
  {
   "cell_type": "code",
   "execution_count": 10,
   "id": "d0ae501e",
   "metadata": {},
   "outputs": [],
   "source": [
    "X = df[[\"Years\", \"Hits\"]].values\n",
    "y = df[\"Salary\"]"
   ]
  },
  {
   "cell_type": "code",
   "execution_count": 11,
   "id": "fc0de811",
   "metadata": {},
   "outputs": [
    {
     "data": {
      "text/plain": [
       "(263, 2)"
      ]
     },
     "execution_count": 11,
     "metadata": {},
     "output_type": "execute_result"
    }
   ],
   "source": [
    "X.shape"
   ]
  },
  {
   "cell_type": "markdown",
   "id": "246ce4d8",
   "metadata": {},
   "source": [
    "## DecisionTreeRegressor()\n",
    "---\n",
    "Check here:\n",
    "https://scikit-learn.org/stable/modules/generated/sklearn.tree.DecisionTreeRegressor.html"
   ]
  },
  {
   "cell_type": "code",
   "execution_count": 19,
   "id": "a9161628",
   "metadata": {},
   "outputs": [
    {
     "data": {
      "text/plain": [
       "DecisionTreeRegressor(max_depth=2, max_leaf_nodes=3, random_state=0)"
      ]
     },
     "execution_count": 19,
     "metadata": {},
     "output_type": "execute_result"
    }
   ],
   "source": [
    "from sklearn.tree import DecisionTreeRegressor\n",
    "\n",
    "regressor = DecisionTreeRegressor(random_state=0, max_depth=2,max_leaf_nodes=3) # Revisar los parámetros que puede recibir.\n",
    "regressor.fit(X,y)"
   ]
  },
  {
   "cell_type": "code",
   "execution_count": 20,
   "id": "463b154f",
   "metadata": {},
   "outputs": [
    {
     "data": {
      "text/plain": [
       "90"
      ]
     },
     "execution_count": 20,
     "metadata": {},
     "output_type": "execute_result"
    }
   ],
   "source": [
    "mask = df[\"Years\"] <= 4.5 \n",
    "mask.sum()"
   ]
  },
  {
   "cell_type": "code",
   "execution_count": 21,
   "id": "97a38306",
   "metadata": {},
   "outputs": [
    {
     "data": {
      "text/plain": [
       "535.9258821292775"
      ]
     },
     "execution_count": 21,
     "metadata": {},
     "output_type": "execute_result"
    }
   ],
   "source": [
    "df[\"Salary\"].mean()"
   ]
  },
  {
   "cell_type": "code",
   "execution_count": 22,
   "id": "f907c3dc",
   "metadata": {},
   "outputs": [
    {
     "data": {
      "text/plain": [
       "225.83147777777776"
      ]
     },
     "execution_count": 22,
     "metadata": {},
     "output_type": "execute_result"
    }
   ],
   "source": [
    "df[\"Salary\"][mask].mean()"
   ]
  },
  {
   "cell_type": "code",
   "execution_count": 23,
   "id": "c1ba6850",
   "metadata": {
    "scrolled": false
   },
   "outputs": [
    {
     "data": {
      "image/svg+xml": [
       "<?xml version=\"1.0\" encoding=\"UTF-8\" standalone=\"no\"?>\n",
       "<!DOCTYPE svg PUBLIC \"-//W3C//DTD SVG 1.1//EN\"\n",
       " \"http://www.w3.org/Graphics/SVG/1.1/DTD/svg11.dtd\">\n",
       "<!-- Generated by graphviz version 2.47.2 (0)\n",
       " -->\n",
       "<!-- Title: Tree Pages: 1 -->\n",
       "<svg width=\"320pt\" height=\"269pt\"\n",
       " viewBox=\"0.00 0.00 320.00 269.00\" xmlns=\"http://www.w3.org/2000/svg\" xmlns:xlink=\"http://www.w3.org/1999/xlink\">\n",
       "<g id=\"graph0\" class=\"graph\" transform=\"scale(1 1) rotate(0) translate(4 265)\">\n",
       "<title>Tree</title>\n",
       "<polygon fill=\"white\" stroke=\"transparent\" points=\"-4,4 -4,-265 316,-265 316,4 -4,4\"/>\n",
       "<!-- 0 -->\n",
       "<g id=\"node1\" class=\"node\">\n",
       "<title>0</title>\n",
       "<polygon fill=\"none\" stroke=\"black\" points=\"183,-261 64,-261 64,-193 183,-193 183,-261\"/>\n",
       "<text text-anchor=\"middle\" x=\"123.5\" y=\"-245.8\" font-family=\"Times,serif\" font-size=\"14.00\">Years &lt;= 4.5</text>\n",
       "<text text-anchor=\"middle\" x=\"123.5\" y=\"-230.8\" font-family=\"Times,serif\" font-size=\"14.00\">mse = 202734.269</text>\n",
       "<text text-anchor=\"middle\" x=\"123.5\" y=\"-215.8\" font-family=\"Times,serif\" font-size=\"14.00\">samples = 263</text>\n",
       "<text text-anchor=\"middle\" x=\"123.5\" y=\"-200.8\" font-family=\"Times,serif\" font-size=\"14.00\">value = 535.926</text>\n",
       "</g>\n",
       "<!-- 1 -->\n",
       "<g id=\"node2\" class=\"node\">\n",
       "<title>1</title>\n",
       "<polygon fill=\"none\" stroke=\"black\" points=\"113,-149.5 0,-149.5 0,-96.5 113,-96.5 113,-149.5\"/>\n",
       "<text text-anchor=\"middle\" x=\"56.5\" y=\"-134.3\" font-family=\"Times,serif\" font-size=\"14.00\">mse = 75213.015</text>\n",
       "<text text-anchor=\"middle\" x=\"56.5\" y=\"-119.3\" font-family=\"Times,serif\" font-size=\"14.00\">samples = 90</text>\n",
       "<text text-anchor=\"middle\" x=\"56.5\" y=\"-104.3\" font-family=\"Times,serif\" font-size=\"14.00\">value = 225.831</text>\n",
       "</g>\n",
       "<!-- 0&#45;&gt;1 -->\n",
       "<g id=\"edge1\" class=\"edge\">\n",
       "<title>0&#45;&gt;1</title>\n",
       "<path fill=\"none\" stroke=\"black\" d=\"M101.75,-192.88C94.45,-181.78 86.3,-169.37 78.95,-158.18\"/>\n",
       "<polygon fill=\"black\" stroke=\"black\" points=\"81.68,-155.96 73.26,-149.52 75.83,-159.8 81.68,-155.96\"/>\n",
       "<text text-anchor=\"middle\" x=\"68.19\" y=\"-170.3\" font-family=\"Times,serif\" font-size=\"14.00\">True</text>\n",
       "</g>\n",
       "<!-- 2 -->\n",
       "<g id=\"node3\" class=\"node\">\n",
       "<title>2</title>\n",
       "<polygon fill=\"none\" stroke=\"black\" points=\"250,-157 131,-157 131,-89 250,-89 250,-157\"/>\n",
       "<text text-anchor=\"middle\" x=\"190.5\" y=\"-141.8\" font-family=\"Times,serif\" font-size=\"14.00\">Hits &lt;= 117.5</text>\n",
       "<text text-anchor=\"middle\" x=\"190.5\" y=\"-126.8\" font-family=\"Times,serif\" font-size=\"14.00\">mse = 193025.735</text>\n",
       "<text text-anchor=\"middle\" x=\"190.5\" y=\"-111.8\" font-family=\"Times,serif\" font-size=\"14.00\">samples = 173</text>\n",
       "<text text-anchor=\"middle\" x=\"190.5\" y=\"-96.8\" font-family=\"Times,serif\" font-size=\"14.00\">value = 697.247</text>\n",
       "</g>\n",
       "<!-- 0&#45;&gt;2 -->\n",
       "<g id=\"edge2\" class=\"edge\">\n",
       "<title>0&#45;&gt;2</title>\n",
       "<path fill=\"none\" stroke=\"black\" d=\"M145.25,-192.88C150.93,-184.24 157.12,-174.82 163.05,-165.79\"/>\n",
       "<polygon fill=\"black\" stroke=\"black\" points=\"166.06,-167.58 168.63,-157.3 160.21,-163.74 166.06,-167.58\"/>\n",
       "<text text-anchor=\"middle\" x=\"173.7\" y=\"-178.08\" font-family=\"Times,serif\" font-size=\"14.00\">False</text>\n",
       "</g>\n",
       "<!-- 3 -->\n",
       "<g id=\"node4\" class=\"node\">\n",
       "<title>3</title>\n",
       "<polygon fill=\"none\" stroke=\"black\" points=\"181,-53 68,-53 68,0 181,0 181,-53\"/>\n",
       "<text text-anchor=\"middle\" x=\"124.5\" y=\"-37.8\" font-family=\"Times,serif\" font-size=\"14.00\">mse = 59023.561</text>\n",
       "<text text-anchor=\"middle\" x=\"124.5\" y=\"-22.8\" font-family=\"Times,serif\" font-size=\"14.00\">samples = 90</text>\n",
       "<text text-anchor=\"middle\" x=\"124.5\" y=\"-7.8\" font-family=\"Times,serif\" font-size=\"14.00\">value = 464.917</text>\n",
       "</g>\n",
       "<!-- 2&#45;&gt;3 -->\n",
       "<g id=\"edge3\" class=\"edge\">\n",
       "<title>2&#45;&gt;3</title>\n",
       "<path fill=\"none\" stroke=\"black\" d=\"M167.42,-88.95C161.22,-80.07 154.51,-70.46 148.27,-61.54\"/>\n",
       "<polygon fill=\"black\" stroke=\"black\" points=\"151.07,-59.43 142.47,-53.24 145.33,-63.44 151.07,-59.43\"/>\n",
       "</g>\n",
       "<!-- 4 -->\n",
       "<g id=\"node5\" class=\"node\">\n",
       "<title>4</title>\n",
       "<polygon fill=\"none\" stroke=\"black\" points=\"312,-53 199,-53 199,0 312,0 312,-53\"/>\n",
       "<text text-anchor=\"middle\" x=\"255.5\" y=\"-37.8\" font-family=\"Times,serif\" font-size=\"14.00\">mse = 216334.03</text>\n",
       "<text text-anchor=\"middle\" x=\"255.5\" y=\"-22.8\" font-family=\"Times,serif\" font-size=\"14.00\">samples = 83</text>\n",
       "<text text-anchor=\"middle\" x=\"255.5\" y=\"-7.8\" font-family=\"Times,serif\" font-size=\"14.00\">value = 949.171</text>\n",
       "</g>\n",
       "<!-- 2&#45;&gt;4 -->\n",
       "<g id=\"edge4\" class=\"edge\">\n",
       "<title>2&#45;&gt;4</title>\n",
       "<path fill=\"none\" stroke=\"black\" d=\"M213.23,-88.95C219.34,-80.07 225.95,-70.46 232.09,-61.54\"/>\n",
       "<polygon fill=\"black\" stroke=\"black\" points=\"235.01,-63.46 237.8,-53.24 229.25,-59.49 235.01,-63.46\"/>\n",
       "</g>\n",
       "</g>\n",
       "</svg>\n"
      ],
      "text/plain": [
       "<graphviz.files.Source at 0x1163f4490>"
      ]
     },
     "metadata": {},
     "output_type": "display_data"
    }
   ],
   "source": [
    "# Gráfica del árbol\n",
    "from sklearn.tree import export_graphviz\n",
    "\n",
    "export_graphviz(regressor, out_file=\"tree.dot\", feature_names=[\"Years\", \"Hits\"])\n",
    "with open(\"tree.dot\") as f:\n",
    "    dot_graph= f.read()\n",
    "\n",
    "import graphviz\n",
    "display(graphviz.Source(dot_graph))"
   ]
  },
  {
   "cell_type": "markdown",
   "id": "b560c8ea",
   "metadata": {},
   "source": [
    "Set of **splitting rules**:\n",
    "- $R1 = \\{X \\,| \\, \\text{Years <= 4.5}\\}$\n",
    "\n",
    "\n",
    "- $R2 = \\{X\\, |\\, \\text{Years > 4.5}, \\text{Hits} <= 117.5\\}$\n",
    "\n",
    "\n",
    "- $R3 = \\{X\\, |\\, \\text{Years > 4.5}, \\text{Hits} > 117.5\\}$\n"
   ]
  },
  {
   "cell_type": "markdown",
   "id": "cdf4e18a",
   "metadata": {},
   "source": [
    "### Plotting Tree-regions partitions"
   ]
  },
  {
   "cell_type": "code",
   "execution_count": 24,
   "id": "5b3764b7",
   "metadata": {},
   "outputs": [],
   "source": [
    "years_mean = 4.5\n",
    "hits_mean = 117.5"
   ]
  },
  {
   "cell_type": "code",
   "execution_count": 25,
   "id": "d48fd2dd",
   "metadata": {},
   "outputs": [
    {
     "data": {
      "image/png": "[encoded data removed]",
      "text/plain": [
       "<Figure size 432x432 with 1 Axes>"
      ]
     },
     "metadata": {
      "needs_background": "light"
     },
     "output_type": "display_data"
    }
   ],
   "source": [
    "plt.figure(figsize=(6,6))\n",
    "plt.scatter(df['Years'], df['Hits'], c=\"c\")\n",
    "plt.axvline(x=years_mean, c=\"r\")\n",
    "plt.hlines(y=hits_mean, xmin=years_mean, xmax=27, colors=\"red\")\n",
    "plt.xlabel(\"Years\")\n",
    "plt.ylabel(\"Hits\")\n",
    "plt.xlim([0,27])\n",
    "text_kwargs = dict(ha='center', va='center', fontsize=28, color='C1')\n",
    "plt.text(3, hits_mean,\"R1\", **text_kwargs)\n",
    "plt.text(17, hits_mean*1.5,\"R3\", **text_kwargs)\n",
    "plt.text(17, hits_mean*0.5,\"R2\", **text_kwargs)\n",
    "plt.show()"
   ]
  },
  {
   "cell_type": "markdown",
   "id": "525038c6",
   "metadata": {},
   "source": [
    "### Saving the model\n",
    "-----\n",
    "Check [Model Persistance](https://scikit-learn.org/stable/modules/model_persistence.html)\n",
    "\n"
   ]
  },
  {
   "cell_type": "markdown",
   "id": "089412af",
   "metadata": {},
   "source": [
    "### Option 1: pickle"
   ]
  },
  {
   "cell_type": "code",
   "execution_count": 26,
   "id": "b66f497e",
   "metadata": {},
   "outputs": [],
   "source": [
    "import pickle\n",
    "pickle.dump(regressor, open('gbt_model.pkl', 'wb'))"
   ]
  },
  {
   "cell_type": "code",
   "execution_count": 27,
   "id": "129c8ea2",
   "metadata": {},
   "outputs": [
    {
     "name": "stdout",
     "output_type": "stream",
     "text": [
      "[464.91667778 225.83147778 949.17075904 225.83147778 949.17075904\n",
      " 225.83147778 225.83147778 225.83147778 464.91667778 949.17075904\n",
      " 464.91667778 225.83147778 464.91667778 464.91667778 949.17075904\n",
      " 464.91667778 464.91667778 225.83147778 225.83147778 464.91667778]\n"
     ]
    }
   ],
   "source": [
    "pickled_model = pickle.load(open('gbt_model.pkl', 'rb'))\n",
    "pred = pickled_model.predict(X)\n",
    "print(pred[:20])"
   ]
  },
  {
   "cell_type": "markdown",
   "id": "2795a9f5",
   "metadata": {},
   "source": [
    "### Option 2: joblib"
   ]
  },
  {
   "cell_type": "code",
   "execution_count": 28,
   "id": "df7c32cf",
   "metadata": {},
   "outputs": [
    {
     "name": "stdout",
     "output_type": "stream",
     "text": [
      "[464.91667778 225.83147778 949.17075904 225.83147778 949.17075904\n",
      " 225.83147778 225.83147778 225.83147778 464.91667778 949.17075904\n",
      " 464.91667778 225.83147778 464.91667778 464.91667778 949.17075904\n",
      " 464.91667778 464.91667778 225.83147778 225.83147778 464.91667778]\n"
     ]
    }
   ],
   "source": [
    "from joblib import dump, load\n",
    "dump(regressor, 'model.joblib')\n",
    "reg = load('model.joblib')\n",
    "pred = reg.predict(X)\n",
    "print(pred[:20])"
   ]
  },
  {
   "cell_type": "code",
   "execution_count": null,
   "id": "4ab1c6fe",
   "metadata": {},
   "outputs": [],
   "source": []
  }
 ],
 "metadata": {
  "kernelspec": {
   "display_name": "Python 3",
   "language": "python",
   "name": "python3"
  },
  "language_info": {
   "codemirror_mode": {
    "name": "ipython",
    "version": 3
   },
   "file_extension": ".py",
   "mimetype": "text/x-python",
   "name": "python",
   "nbconvert_exporter": "python",
   "pygments_lexer": "ipython3",
   "version": "3.8.10"
  }
 },
 "nbformat": 4,
 "nbformat_minor": 5
}
